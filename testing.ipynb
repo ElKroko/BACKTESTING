{
  "cells": [
    {
      "cell_type": "markdown",
      "id": "4d6563c1",
      "metadata": {
        "language": "markdown"
      },
      "source": [
        "# 📊 Análisis Comparativo de Estrategias de Trading\n",
        "\n",
        "Este notebook permite realizar pruebas de backtesting cruzando múltiples estrategias con diferentes temporalidades y parámetros, guardando los resultados en archivos CSV y generando visualizaciones para comparar el rendimiento."
      ]
    },
    {
      "cell_type": "code",
      "execution_count": 56,
      "id": "75ebab39",
      "metadata": {},
      "outputs": [
        {
          "name": "stdout",
          "output_type": "stream",
          "text": [
            "Requirement already satisfied: ta in c:\\users\\n3mes\\miniconda3\\envs\\emed\\lib\\site-packages (0.11.0)\n",
            "Requirement already satisfied: streamlit in c:\\users\\n3mes\\miniconda3\\envs\\emed\\lib\\site-packages (1.44.1)\n",
            "Requirement already satisfied: reportlab in c:\\users\\n3mes\\miniconda3\\envs\\emed\\lib\\site-packages (4.4.0)\n",
            "Requirement already satisfied: numpy in c:\\users\\n3mes\\miniconda3\\envs\\emed\\lib\\site-packages (from ta) (2.2.4)\n",
            "Requirement already satisfied: pandas in c:\\users\\n3mes\\miniconda3\\envs\\emed\\lib\\site-packages (from ta) (2.2.3)\n",
            "Requirement already satisfied: altair<6,>=4.0 in c:\\users\\n3mes\\miniconda3\\envs\\emed\\lib\\site-packages (from streamlit) (5.5.0)\n",
            "Requirement already satisfied: blinker<2,>=1.0.0 in c:\\users\\n3mes\\miniconda3\\envs\\emed\\lib\\site-packages (from streamlit) (1.9.0)\n",
            "Requirement already satisfied: cachetools<6,>=4.0 in c:\\users\\n3mes\\miniconda3\\envs\\emed\\lib\\site-packages (from streamlit) (5.5.2)\n",
            "Requirement already satisfied: click<9,>=7.0 in c:\\users\\n3mes\\miniconda3\\envs\\emed\\lib\\site-packages (from streamlit) (8.1.8)\n",
            "Requirement already satisfied: packaging<25,>=20 in c:\\users\\n3mes\\miniconda3\\envs\\emed\\lib\\site-packages (from streamlit) (24.2)\n",
            "Requirement already satisfied: pillow<12,>=7.1.0 in c:\\users\\n3mes\\miniconda3\\envs\\emed\\lib\\site-packages (from streamlit) (11.2.1)\n",
            "Requirement already satisfied: protobuf<6,>=3.20 in c:\\users\\n3mes\\miniconda3\\envs\\emed\\lib\\site-packages (from streamlit) (5.29.4)\n",
            "Requirement already satisfied: pyarrow>=7.0 in c:\\users\\n3mes\\miniconda3\\envs\\emed\\lib\\site-packages (from streamlit) (19.0.1)\n",
            "Requirement already satisfied: requests<3,>=2.27 in c:\\users\\n3mes\\miniconda3\\envs\\emed\\lib\\site-packages (from streamlit) (2.32.3)\n",
            "Requirement already satisfied: tenacity<10,>=8.1.0 in c:\\users\\n3mes\\miniconda3\\envs\\emed\\lib\\site-packages (from streamlit) (9.1.2)\n",
            "Requirement already satisfied: toml<2,>=0.10.1 in c:\\users\\n3mes\\miniconda3\\envs\\emed\\lib\\site-packages (from streamlit) (0.10.2)\n",
            "Requirement already satisfied: typing-extensions<5,>=4.4.0 in c:\\users\\n3mes\\miniconda3\\envs\\emed\\lib\\site-packages (from streamlit) (4.13.2)\n",
            "Requirement already satisfied: watchdog<7,>=2.1.5 in c:\\users\\n3mes\\miniconda3\\envs\\emed\\lib\\site-packages (from streamlit) (6.0.0)\n",
            "Requirement already satisfied: gitpython!=3.1.19,<4,>=3.0.7 in c:\\users\\n3mes\\miniconda3\\envs\\emed\\lib\\site-packages (from streamlit) (3.1.44)\n",
            "Requirement already satisfied: pydeck<1,>=0.8.0b4 in c:\\users\\n3mes\\miniconda3\\envs\\emed\\lib\\site-packages (from streamlit) (0.9.1)\n",
            "Requirement already satisfied: tornado<7,>=6.0.3 in c:\\users\\n3mes\\miniconda3\\envs\\emed\\lib\\site-packages (from streamlit) (6.4.2)\n",
            "Requirement already satisfied: chardet in c:\\users\\n3mes\\miniconda3\\envs\\emed\\lib\\site-packages (from reportlab) (5.2.0)\n",
            "Requirement already satisfied: jinja2 in c:\\users\\n3mes\\miniconda3\\envs\\emed\\lib\\site-packages (from altair<6,>=4.0->streamlit) (3.1.6)\n",
            "Requirement already satisfied: jsonschema>=3.0 in c:\\users\\n3mes\\miniconda3\\envs\\emed\\lib\\site-packages (from altair<6,>=4.0->streamlit) (4.23.0)\n",
            "Requirement already satisfied: narwhals>=1.14.2 in c:\\users\\n3mes\\miniconda3\\envs\\emed\\lib\\site-packages (from altair<6,>=4.0->streamlit) (1.36.0)\n",
            "Requirement already satisfied: colorama in c:\\users\\n3mes\\miniconda3\\envs\\emed\\lib\\site-packages (from click<9,>=7.0->streamlit) (0.4.6)\n",
            "Requirement already satisfied: gitdb<5,>=4.0.1 in c:\\users\\n3mes\\miniconda3\\envs\\emed\\lib\\site-packages (from gitpython!=3.1.19,<4,>=3.0.7->streamlit) (4.0.12)\n",
            "Requirement already satisfied: python-dateutil>=2.8.2 in c:\\users\\n3mes\\miniconda3\\envs\\emed\\lib\\site-packages (from pandas->ta) (2.9.0.post0)\n",
            "Requirement already satisfied: pytz>=2020.1 in c:\\users\\n3mes\\miniconda3\\envs\\emed\\lib\\site-packages (from pandas->ta) (2025.2)\n",
            "Requirement already satisfied: tzdata>=2022.7 in c:\\users\\n3mes\\miniconda3\\envs\\emed\\lib\\site-packages (from pandas->ta) (2025.2)\n",
            "Requirement already satisfied: charset-normalizer<4,>=2 in c:\\users\\n3mes\\miniconda3\\envs\\emed\\lib\\site-packages (from requests<3,>=2.27->streamlit) (3.4.1)\n",
            "Requirement already satisfied: idna<4,>=2.5 in c:\\users\\n3mes\\miniconda3\\envs\\emed\\lib\\site-packages (from requests<3,>=2.27->streamlit) (3.10)\n",
            "Requirement already satisfied: urllib3<3,>=1.21.1 in c:\\users\\n3mes\\miniconda3\\envs\\emed\\lib\\site-packages (from requests<3,>=2.27->streamlit) (2.4.0)\n",
            "Requirement already satisfied: certifi>=2017.4.17 in c:\\users\\n3mes\\miniconda3\\envs\\emed\\lib\\site-packages (from requests<3,>=2.27->streamlit) (2025.1.31)\n",
            "Requirement already satisfied: smmap<6,>=3.0.1 in c:\\users\\n3mes\\miniconda3\\envs\\emed\\lib\\site-packages (from gitdb<5,>=4.0.1->gitpython!=3.1.19,<4,>=3.0.7->streamlit) (5.0.2)\n",
            "Requirement already satisfied: MarkupSafe>=2.0 in c:\\users\\n3mes\\miniconda3\\envs\\emed\\lib\\site-packages (from jinja2->altair<6,>=4.0->streamlit) (3.0.2)\n",
            "Requirement already satisfied: attrs>=22.2.0 in c:\\users\\n3mes\\miniconda3\\envs\\emed\\lib\\site-packages (from jsonschema>=3.0->altair<6,>=4.0->streamlit) (25.3.0)\n",
            "Requirement already satisfied: jsonschema-specifications>=2023.03.6 in c:\\users\\n3mes\\miniconda3\\envs\\emed\\lib\\site-packages (from jsonschema>=3.0->altair<6,>=4.0->streamlit) (2025.4.1)\n",
            "Requirement already satisfied: referencing>=0.28.4 in c:\\users\\n3mes\\miniconda3\\envs\\emed\\lib\\site-packages (from jsonschema>=3.0->altair<6,>=4.0->streamlit) (0.36.2)\n",
            "Requirement already satisfied: rpds-py>=0.7.1 in c:\\users\\n3mes\\miniconda3\\envs\\emed\\lib\\site-packages (from jsonschema>=3.0->altair<6,>=4.0->streamlit) (0.24.0)\n",
            "Requirement already satisfied: six>=1.5 in c:\\users\\n3mes\\miniconda3\\envs\\emed\\lib\\site-packages (from python-dateutil>=2.8.2->pandas->ta) (1.17.0)\n",
            "Note: you may need to restart the kernel to use updated packages.\n"
          ]
        }
      ],
      "source": [
        "%pip install ta streamlit reportlab"
      ]
    },
    {
      "cell_type": "code",
      "execution_count": 57,
      "id": "38b3c66b",
      "metadata": {
        "language": "python"
      },
      "outputs": [],
      "source": [
        "# Importamos las librerías necesarias\n",
        "import os\n",
        "import pandas as pd\n",
        "import numpy as np\n",
        "import matplotlib.pyplot as plt\n",
        "import seaborn as sns\n",
        "import plotly.express as px\n",
        "import plotly.graph_objects as go\n",
        "from datetime import datetime, timedelta\n",
        "from itertools import product\n",
        "import warnings\n",
        "warnings.filterwarnings('ignore')  # Suprimir advertencias para visualización más limpia\n",
        "\n",
        "# Configuramos el estilo de visualización\n",
        "plt.style.use('ggplot')\n",
        "sns.set_theme(style=\"whitegrid\")\n",
        "\n",
        "# Importamos las estrategias y funciones de backtesting de nuestro sistema\n",
        "from models.strategies import (\n",
        "    ma_crossover,\n",
        "    bollinger_breakout,\n",
        "    rsi_reversion,\n",
        "    macd_momentum,\n",
        "    sr_breakout\n",
        ")\n",
        "\n",
        "# Importamos las funciones de backtesting\n",
        "from tabs.leveraged_backtest import run_leveraged_backtest, fetch_ohlc_data\n",
        "from tabs.backtest_tab import run_backtest\n",
        "from tabs.unified_backtest_tab import run_unified_backtest\n",
        "\n",
        "# Creamos directorios para guardar los resultados si no existen\n",
        "os.makedirs('data/backtest_results/metrics', exist_ok=True)\n",
        "os.makedirs('data/backtest_results/trades', exist_ok=True)\n",
        "os.makedirs('data/backtest_results/equity_curves', exist_ok=True)\n",
        "os.makedirs('data/backtest_results/charts', exist_ok=True)"
      ]
    },
    {
      "cell_type": "markdown",
      "id": "2d96c04f",
      "metadata": {
        "language": "markdown"
      },
      "source": [
        "## Configuración del Backtesting\n",
        "\n",
        "Define los parámetros y las combinaciones para realizar las pruebas de backtesting."
      ]
    },
    {
      "cell_type": "code",
      "execution_count": 58,
      "id": "d7d84380",
      "metadata": {
        "language": "python"
      },
      "outputs": [],
      "source": [
        "# Definimos los símbolos, timeframes y estrategias a analizar\n",
        "symbols = ['BTCUSDT', 'ETHUSDT', 'SOLUSDT']  # Puedes añadir o quitar símbolos según necesites\n",
        "timeframes = ['1h', '4h', '1d']              # Puedes añadir o quitar timeframes según necesites\n",
        "\n",
        "# Definimos las estrategias y sus parámetros\n",
        "strategy_configs = {\n",
        "    'MA_Crossover': {\n",
        "        'function': ma_crossover,\n",
        "        'params': [\n",
        "            {'short_window': 20, 'long_window': 50},\n",
        "            {'short_window': 50, 'long_window': 200}\n",
        "        ]\n",
        "    },\n",
        "    'Bollinger_Breakout': {\n",
        "        'function': bollinger_breakout,\n",
        "        'params': [\n",
        "            {'window': 20, 'n_std': 2.0},\n",
        "            {'window': 20, 'n_std': 2.5}\n",
        "        ]\n",
        "    },\n",
        "    'RSI_Reversion': {\n",
        "        'function': rsi_reversion,\n",
        "        'params': [\n",
        "            {'period': 14, 'overbought': 70, 'oversold': 30},\n",
        "            {'period': 14, 'overbought': 75, 'oversold': 25}\n",
        "        ]\n",
        "    },\n",
        "    'MACD_Momentum': {\n",
        "        'function': macd_momentum,\n",
        "        'params': [\n",
        "            {'fast': 12, 'slow': 26, 'signal': 9},\n",
        "            {'fast': 8, 'slow': 21, 'signal': 9}\n",
        "        ]\n",
        "    },\n",
        "    'SR_Breakout': {\n",
        "        'function': sr_breakout,\n",
        "        'params': [\n",
        "            {'window': 20},\n",
        "            {'window': 30}\n",
        "        ]\n",
        "    }\n",
        "}\n",
        "\n",
        "# Configuración del periodo para el backtesting\n",
        "end_date = datetime.now()\n",
        "start_date = end_date - timedelta(days=365)  # 1 año de backtest\n",
        "\n",
        "# Parámetros de backtesting generales\n",
        "backtest_config = {\n",
        "    'initial_cash': 100.0,\n",
        "    'commission': 0.001,    # 0.1%\n",
        "    'slippage': 0.0005      # 0.05%\n",
        "}\n",
        "\n",
        "# Modo de ejecución (spot/futures) y config adicional para futuros\n",
        "backtest_mode = {\n",
        "    'spot': {\n",
        "        'mode': 'spot'\n",
        "    },\n",
        "    'futures_3x': {\n",
        "        'mode': 'futures',\n",
        "        'leverage': 3,\n",
        "        'maintenance_margin': 0.005  # 0.5%\n",
        "    },\n",
        "    'futures_10x': {\n",
        "        'mode': 'futures',\n",
        "        'leverage': 10,\n",
        "        'maintenance_margin': 0.005  # 0.5%\n",
        "    }\n",
        "}"
      ]
    },
    {
      "cell_type": "markdown",
      "id": "9d97908f",
      "metadata": {
        "language": "markdown"
      },
      "source": [
        "## Función para ejecutar y guardar backtests\n",
        "\n",
        "Creamos una función que ejecutará todas las combinaciones de backtest y guardará los resultados."
      ]
    },
    {
      "cell_type": "code",
      "execution_count": 59,
      "id": "a0946632",
      "metadata": {
        "language": "python"
      },
      "outputs": [],
      "source": [
        "# Función modificada para limitar valores extremos en backtesting\n",
        "def run_managed_batch_backtests(symbols, timeframes, strategy_configs, backtest_modes, \n",
        "                               start_date, end_date, initial_cash=10000.0, \n",
        "                               max_reasonable_profit=10000000.0):\n",
        "    \"\"\"\n",
        "    Ejecuta backtest para todas las combinaciones con protección contra valores extremos.\n",
        "    \n",
        "    Args:\n",
        "        symbols: Lista de símbolos para probar\n",
        "        timeframes: Lista de timeframes para probar\n",
        "        strategy_configs: Diccionario de estrategias y sus parámetros\n",
        "        backtest_modes: Diccionario de modos y sus configuraciones\n",
        "        start_date: Fecha de inicio\n",
        "        end_date: Fecha de fin\n",
        "        initial_cash: Capital inicial\n",
        "        max_reasonable_profit: Límite máximo de ganancias considerado realista\n",
        "        \n",
        "    Returns:\n",
        "        DataFrame con los resultados normalizados\n",
        "    \"\"\"\n",
        "    all_metrics = []\n",
        "    \n",
        "    for symbol, timeframe, strategy_name, param_idx, mode_name in product(\n",
        "        symbols, timeframes, strategy_configs.keys(), range(len(next(iter(strategy_configs.values()))['params'])), \n",
        "        backtest_modes.keys()):\n",
        "        \n",
        "        print(f\"Ejecutando {symbol} - {timeframe} - {strategy_name} (params {param_idx}) - {mode_name}\")\n",
        "        \n",
        "        strategy_fn = strategy_configs[strategy_name]['function']\n",
        "        strategy_params = strategy_configs[strategy_name]['params'][param_idx]\n",
        "        \n",
        "        def parametrized_strategy(data):\n",
        "            return strategy_fn(data, **strategy_params)\n",
        "        \n",
        "        mode_config = backtest_modes[mode_name]\n",
        "        \n",
        "        try:\n",
        "            # Ejecutar el backtest utilizando la función unificada\n",
        "            metrics, trades_df, equity_df, price_df, funding_df = run_unified_backtest(\n",
        "                symbol=symbol,\n",
        "                interval=timeframe,\n",
        "                strategy_fn=parametrized_strategy,\n",
        "                initial_cash=initial_cash,\n",
        "                commission=0.001,  # 0.1%\n",
        "                slippage=0.0005,   # 0.05%\n",
        "                mode=mode_config['mode'],\n",
        "                leverage=mode_config.get('leverage', 1),\n",
        "                maintenance_margin=mode_config.get('maintenance_margin', 0.005),\n",
        "                start_date=start_date,\n",
        "                end_date=end_date\n",
        "            )\n",
        "            \n",
        "            # Comprobar y normalizar métricas con valores realistas\n",
        "            if metrics:\n",
        "                # Crear fila de métricas con detalles de la configuración\n",
        "                metric_row = {\n",
        "                    'Symbol': symbol,\n",
        "                    'Timeframe': timeframe,\n",
        "                    'Strategy': strategy_name,\n",
        "                    'Params': str(strategy_params),\n",
        "                    'Mode': mode_name,\n",
        "                    'Original_Net_Profit': metrics.get('Net Profit', 0),  # Guardar el valor original\n",
        "                    'Normalization_Factor': 1.0,  # Por defecto sin normalización\n",
        "                    'Was_Normalized': False  # Indicador si fue normalizado\n",
        "                }\n",
        "                \n",
        "                # Comprobar si el Net Profit es anormalmente alto\n",
        "                if metrics.get('Net Profit', 0) > max_reasonable_profit:\n",
        "                    print(f\"  ⚠️ Detectado Net Profit extremo: ${metrics['Net Profit']}\")\n",
        "                    # Calcular factor de escalado\n",
        "                    scaling_factor = max_reasonable_profit / metrics['Net Profit']\n",
        "                    \n",
        "                    # Guardar info de normalización\n",
        "                    metric_row['Normalization_Factor'] = scaling_factor\n",
        "                    metric_row['Was_Normalized'] = True\n",
        "                    \n",
        "                    # Escalar todas las métricas monetarias\n",
        "                    metrics['Net Profit'] = max_reasonable_profit\n",
        "                    metrics['Max Drawdown'] = metrics['Max Drawdown'] * scaling_factor\n",
        "                    if 'Avg Win' in metrics:\n",
        "                        metrics['Avg Win'] = metrics['Avg Win'] * scaling_factor\n",
        "                    if 'Avg Loss' in metrics:\n",
        "                        metrics['Avg Loss'] = metrics['Avg Loss'] * scaling_factor\n",
        "                    if 'Expectancy' in metrics:\n",
        "                        metrics['Expectancy'] = metrics['Expectancy'] * scaling_factor\n",
        "                    if 'Funding Impact' in metrics:\n",
        "                        metrics['Funding Impact'] = metrics['Funding Impact'] * scaling_factor\n",
        "                        \n",
        "                    # Escalar la curva de equity\n",
        "                    if not equity_df.empty and 'equity' in equity_df.columns:\n",
        "                        max_equity = equity_df['equity'].max()\n",
        "                        if max_equity > max_reasonable_profit:\n",
        "                            equity_scaling = max_reasonable_profit / max_equity\n",
        "                            equity_df['equity'] = equity_df['equity'] * equity_scaling\n",
        "                            # Guardar también la equity original para análisis\n",
        "                            equity_df['original_equity'] = equity_df['equity'] / equity_scaling\n",
        "                            \n",
        "                    print(f\"  ✓ Valores normalizados a un máximo de ${max_reasonable_profit:,.2f} (factor: {scaling_factor:.10f})\")\n",
        "                \n",
        "                # Añadir todas las métricas al diccionario\n",
        "                metric_row.update(metrics)\n",
        "                all_metrics.append(metric_row)\n",
        "                \n",
        "                # Guardar DataFrames a CSV\n",
        "                base_filename = f\"{symbol}_{timeframe}_{strategy_name}_params{param_idx}_{mode_name}\"\n",
        "                \n",
        "                if not trades_df.empty:\n",
        "                    trades_df.to_csv(f\"data/backtest_results/trades/{base_filename}_trades.csv\")\n",
        "                \n",
        "                if not equity_df.empty:\n",
        "                    equity_df.to_csv(f\"data/backtest_results/equity_curves/{base_filename}_equity.csv\")\n",
        "                \n",
        "                # Crear y guardar gráficos con valores normalizados\n",
        "                create_and_save_charts(symbol, timeframe, strategy_name, param_idx, mode_name, \n",
        "                                      equity_df, trades_df, price_df, strategy_params)\n",
        "                \n",
        "                # Mensaje de resumen\n",
        "                if metric_row['Was_Normalized']:\n",
        "                    print(f\"  ✓ Resultado guardado: Net Profit: ${metrics['Net Profit']} (normalizado desde ${metric_row['Original_Net_Profit']}), Sharpe: {metrics.get('Sharpe Ratio', 'N/A')}\")\n",
        "                else:\n",
        "                    print(f\"  ✓ Resultado guardado: Net Profit: ${metrics['Net Profit']}, Sharpe: {metrics.get('Sharpe Ratio', 'N/A')}\")\n",
        "            else:\n",
        "                print(f\"  ✗ No se generaron trades para esta configuración\")\n",
        "        \n",
        "        except Exception as e:\n",
        "            print(f\"  ✗ Error: {str(e)}\")\n",
        "            continue\n",
        "    \n",
        "    # Crear DataFrame con todos los resultados y guardarlo\n",
        "    if all_metrics:\n",
        "        all_metrics_df = pd.DataFrame(all_metrics)\n",
        "        all_metrics_df.to_csv(\"data/backtest_results/all_metrics.csv\", index=False)\n",
        "        \n",
        "        # Guardar también un archivo separado con solo los resultados normalizados para análisis\n",
        "        normalized_results = all_metrics_df[all_metrics_df['Was_Normalized']]\n",
        "        if not normalized_results.empty:\n",
        "            normalized_results.to_csv(\"data/backtest_results/normalized_metrics.csv\", index=False)\n",
        "            print(f\"\\nNOTA: {len(normalized_results)} resultados fueron normalizados. Guardados en 'data/backtest_results/normalized_metrics.csv'\")\n",
        "        \n",
        "        return all_metrics_df\n",
        "    else:\n",
        "        return pd.DataFrame()"
      ]
    },
    {
      "cell_type": "code",
      "execution_count": 60,
      "id": "82d44c9e",
      "metadata": {
        "language": "python"
      },
      "outputs": [],
      "source": [
        "def create_and_save_charts(symbol, timeframe, strategy_name, param_idx, mode_name, \n",
        "                         equity_df, trades_df, price_df, strategy_params):\n",
        "    \"\"\"\n",
        "    Crea y guarda gráficos para los resultados del backtest\n",
        "    \"\"\"\n",
        "    base_filename = f\"{symbol}_{timeframe}_{strategy_name}_params{param_idx}_{mode_name}\"\n",
        "    \n",
        "    # 1. Curva de equity\n",
        "    fig_equity = px.line(\n",
        "        equity_df.reset_index(), \n",
        "        x='timestamp', \n",
        "        y='equity',\n",
        "        title=f\"Equity Curve: {symbol} {timeframe} - {strategy_name} - {mode_name}\"\n",
        "    )\n",
        "    fig_equity.update_layout(\n",
        "        xaxis_title=\"Date\",\n",
        "        yaxis_title=\"Equity (USD)\",\n",
        "        template=\"plotly_white\"\n",
        "    )\n",
        "    fig_equity.write_html(f\"data/backtest_results/charts/{base_filename}_equity.html\")\n",
        "    \n",
        "    # 2. Gráfico de precio con entradas y salidas\n",
        "    if not trades_df.empty and 'Entry Time' in trades_df.columns and 'Exit Time' in trades_df.columns:\n",
        "        fig_trades = go.Figure(\n",
        "            data=[\n",
        "                go.Candlestick(\n",
        "                    x=price_df.index,\n",
        "                    open=price_df['Open'],\n",
        "                    high=price_df['High'],\n",
        "                    low=price_df['Low'],\n",
        "                    close=price_df['Close'],\n",
        "                    name='Price'\n",
        "                )\n",
        "            ]\n",
        "        )\n",
        "        \n",
        "        # Añadir entradas\n",
        "        fig_trades.add_trace(\n",
        "            go.Scatter(\n",
        "                x=trades_df['Entry Time'],\n",
        "                y=trades_df['Entry Price'],\n",
        "                mode='markers',\n",
        "                marker=dict(color='green', symbol='triangle-up', size=10),\n",
        "                name='Entries'\n",
        "            )\n",
        "        )\n",
        "        \n",
        "        # Añadir salidas\n",
        "        fig_trades.add_trace(\n",
        "            go.Scatter(\n",
        "                x=trades_df['Exit Time'],\n",
        "                y=trades_df['Exit Price'],\n",
        "                mode='markers',\n",
        "                marker=dict(color='red', symbol='triangle-down', size=10),\n",
        "                name='Exits'\n",
        "            )\n",
        "        )\n",
        "        \n",
        "        # Si hay liquidaciones (para futuros), agregar estas también\n",
        "        if 'Liquidated' in trades_df.columns:\n",
        "            liquidations = trades_df[trades_df['Liquidated'] == True]\n",
        "            if not liquidations.empty:\n",
        "                fig_trades.add_trace(\n",
        "                    go.Scatter(\n",
        "                        x=liquidations['Exit Time'],\n",
        "                        y=liquidations['Exit Price'],\n",
        "                        mode='markers',\n",
        "                        marker=dict(color='yellow', symbol='x', size=12),\n",
        "                        name='Liquidations'\n",
        "                    )\n",
        "                )\n",
        "        \n",
        "        fig_trades.update_layout(\n",
        "            title=f\"Price Chart with Trades: {symbol} {timeframe} - {strategy_name} - {mode_name}\",\n",
        "            xaxis_title=\"Date\",\n",
        "            yaxis_title=\"Price\",\n",
        "            template=\"plotly_white\"\n",
        "        )\n",
        "        fig_trades.write_html(f\"data/backtest_results/charts/{base_filename}_trades.html\")\n",
        "    \n",
        "    # 3. Crear anotación con parámetros de la estrategia\n",
        "    with open(f\"data/backtest_results/charts/{base_filename}_info.txt\", \"w\") as f:\n",
        "        f.write(f\"Symbol: {symbol}\\n\")\n",
        "        f.write(f\"Timeframe: {timeframe}\\n\")\n",
        "        f.write(f\"Strategy: {strategy_name}\\n\")\n",
        "        f.write(f\"Mode: {mode_name}\\n\")\n",
        "        f.write(f\"Strategy Parameters: {strategy_params}\\n\")"
      ]
    },
    {
      "cell_type": "code",
      "execution_count": 61,
      "id": "67c19b0d",
      "metadata": {},
      "outputs": [],
      "source": [
        "def normalize_existing_results(csv_path=\"data/backtest_results/all_metrics.csv\", \n",
        "                               max_reasonable_profit=10000000.0,\n",
        "                               save_normalized=True):\n",
        "    \"\"\"\n",
        "    Normaliza los resultados de backtest existentes para corregir valores extremos.\n",
        "    \n",
        "    Args:\n",
        "        csv_path: Ruta al archivo CSV con los resultados\n",
        "        max_reasonable_profit: Límite máximo de ganancias considerado realista\n",
        "        save_normalized: Si True, guarda los resultados normalizados\n",
        "        \n",
        "    Returns:\n",
        "        DataFrame con los resultados normalizados\n",
        "    \"\"\"\n",
        "    try:\n",
        "        # Cargar resultados existentes\n",
        "        df = pd.read_csv(csv_path)\n",
        "        \n",
        "        # Identificar filas con valores extremos\n",
        "        extreme_rows = df['Net Profit'] > max_reasonable_profit\n",
        "        extreme_count = extreme_rows.sum()\n",
        "        \n",
        "        if extreme_count > 0:\n",
        "            print(f\"Encontrados {extreme_count} resultados con ganancias extremas.\")\n",
        "            \n",
        "            # Normalizar cada fila extrema\n",
        "            for idx in df[extreme_rows].index:\n",
        "                row = df.loc[idx]\n",
        "                scaling_factor = max_reasonable_profit / row['Net Profit']\n",
        "                \n",
        "                # Actualizar métricas monetarias\n",
        "                df.at[idx, 'Net Profit'] = max_reasonable_profit\n",
        "                df.at[idx, 'Max Drawdown'] = row['Max Drawdown'] * scaling_factor\n",
        "                \n",
        "                # Normalizar otras métricas monetarias si existen\n",
        "                for col in ['Avg Win', 'Avg Loss', 'Expectancy', 'Funding Impact']:\n",
        "                    if col in df.columns:\n",
        "                        df.at[idx, col] = row[col] * scaling_factor\n",
        "                \n",
        "                print(f\"  ✓ Normalizada fila {idx}: {row['Symbol']} - {row['Timeframe']} - {row['Strategy']} - {row['Mode']}\")\n",
        "            \n",
        "            if save_normalized:\n",
        "                # Guardar versión normalizada\n",
        "                normalized_path = csv_path.replace('.csv', '_normalized.csv')\n",
        "                df.to_csv(normalized_path, index=False)\n",
        "                print(f\"Resultados normalizados guardados en: {normalized_path}\")\n",
        "        else:\n",
        "            print(\"No se encontraron valores extremos que requieran normalización.\")\n",
        "        \n",
        "        return df\n",
        "    \n",
        "    except Exception as e:\n",
        "        print(f\"Error al normalizar resultados: {str(e)}\")\n",
        "        return pd.DataFrame()"
      ]
    },
    {
      "cell_type": "code",
      "execution_count": 2,
      "id": "007f3914",
      "metadata": {},
      "outputs": [],
      "source": [
        "# Función para limpiar resultados anteriores\n",
        "def clean_previous_results(confirm=True):\n",
        "    \"\"\"\n",
        "    Limpia los resultados anteriores de backtesting para evitar acumular archivos.\n",
        "    \n",
        "    Args:\n",
        "        confirm: Si es True, pide confirmación antes de borrar.\n",
        "    \n",
        "    Returns:\n",
        "        True si se limpiaron los resultados, False si no.\n",
        "    \"\"\"\n",
        "    import shutil\n",
        "    import os\n",
        "    \n",
        "    # Directorios a limpiar\n",
        "    dirs_to_clean = [\n",
        "        'data/backtest_results/charts',\n",
        "        'data/backtest_results/equity_curves',\n",
        "        'data/backtest_results/trades',\n",
        "        'data/backtest_results/metrics'\n",
        "    ]\n",
        "    \n",
        "    # Archivos en la raíz a eliminar\n",
        "    files_to_delete = [\n",
        "        'data/backtest_results/all_metrics.csv',\n",
        "        'data/backtest_results/normalized_metrics.csv',\n",
        "        'data/backtest_results/conclusions.txt'\n",
        "    ]\n",
        "    \n",
        "    if confirm:\n",
        "        from IPython.display import display, HTML\n",
        "        display(HTML(\"\"\"\n",
        "        <div style=\"background-color: #FFF3CD; padding: 10px; border-radius: 5px; margin: 10px 0; border-left: 5px solid #FFDA6A;\">\n",
        "            <h3 style=\"margin-top: 0; color: #856404;\">⚠️ Advertencia</h3>\n",
        "            <p>Estás a punto de eliminar todos los resultados previos de backtesting.</p>\n",
        "            <p>Esta acción no se puede deshacer.</p>\n",
        "        </div>\n",
        "        \"\"\"))\n",
        "        \n",
        "        response = input(\"¿Deseas continuar con la limpieza de resultados anteriores? (s/n): \").strip().lower()\n",
        "        if response != 's':\n",
        "            print(\"Operación cancelada. Los resultados anteriores se mantienen intactos.\")\n",
        "            return False\n",
        "    \n",
        "    # Limpiar directorios\n",
        "    for dir_path in dirs_to_clean:\n",
        "        if os.path.exists(dir_path):\n",
        "            # Eliminar y recrear el directorio\n",
        "            shutil.rmtree(dir_path)\n",
        "            os.makedirs(dir_path, exist_ok=True)\n",
        "            print(f\"Directorio {dir_path} limpiado.\")\n",
        "    \n",
        "    # Eliminar archivos individuales\n",
        "    for file_path in files_to_delete:\n",
        "        if os.path.exists(file_path):\n",
        "            os.remove(file_path)\n",
        "            print(f\"Archivo {file_path} eliminado.\")\n",
        "    \n",
        "    print(\"✅ Limpieza completada. Todos los resultados anteriores han sido eliminados.\")\n",
        "    return True"
      ]
    },
    {
      "cell_type": "code",
      "execution_count": 3,
      "id": "b2ebdc55",
      "metadata": {},
      "outputs": [
        {
          "name": "stdout",
          "output_type": "stream",
          "text": [
            "Directorio data/backtest_results/charts limpiado.\n",
            "Directorio data/backtest_results/equity_curves limpiado.\n",
            "Directorio data/backtest_results/equity_curves limpiado.\n",
            "Directorio data/backtest_results/trades limpiado.\n",
            "Directorio data/backtest_results/metrics limpiado.\n",
            "Archivo data/backtest_results/all_metrics.csv eliminado.\n",
            "Archivo data/backtest_results/normalized_metrics.csv eliminado.\n",
            "Archivo data/backtest_results/conclusions.txt eliminado.\n",
            "✅ Limpieza completada. Todos los resultados anteriores han sido eliminados.\n",
            "Directorio data/backtest_results/trades limpiado.\n",
            "Directorio data/backtest_results/metrics limpiado.\n",
            "Archivo data/backtest_results/all_metrics.csv eliminado.\n",
            "Archivo data/backtest_results/normalized_metrics.csv eliminado.\n",
            "Archivo data/backtest_results/conclusions.txt eliminado.\n",
            "✅ Limpieza completada. Todos los resultados anteriores han sido eliminados.\n"
          ]
        },
        {
          "data": {
            "text/plain": [
              "True"
            ]
          },
          "execution_count": 3,
          "metadata": {},
          "output_type": "execute_result"
        }
      ],
      "source": [
        "clean_previous_results(confirm=False)  # Cambia a False si no deseas confirmar la limpieza"
      ]
    },
    {
      "cell_type": "markdown",
      "id": "103e0a00",
      "metadata": {
        "language": "markdown"
      },
      "source": [
        "## Ejecutar todos los backtests\n",
        "\n",
        "Ahora ejecutaremos todas las combinaciones de backtests y guardaremos los resultados."
      ]
    },
    {
      "cell_type": "code",
      "execution_count": 62,
      "id": "10bd2735",
      "metadata": {
        "language": "python"
      },
      "outputs": [
        {
          "name": "stdout",
          "output_type": "stream",
          "text": [
            "Ejecutando BTCUSDT - 1h - MA_Crossover (params 0) - spot\n",
            "  ✓ Resultado guardado: Net Profit: $-13.76, Sharpe: -7.35\n",
            "Ejecutando BTCUSDT - 1h - MA_Crossover (params 0) - futures_3x\n",
            "  ✓ Resultado guardado: Net Profit: $-13.76, Sharpe: -7.35\n",
            "Ejecutando BTCUSDT - 1h - MA_Crossover (params 0) - futures_3x\n",
            "  ⚠️ Detectado Net Profit extremo: $370124397.96\n",
            "  ✓ Valores normalizados a un máximo de $100,000.00 (factor: 0.0002701794)\n",
            "  ✓ Resultado guardado: Net Profit: $100000.0 (normalizado desde $370124397.96), Sharpe: 2.35\n",
            "Ejecutando BTCUSDT - 1h - MA_Crossover (params 0) - futures_10x\n",
            "  ⚠️ Detectado Net Profit extremo: $370124397.96\n",
            "  ✓ Valores normalizados a un máximo de $100,000.00 (factor: 0.0002701794)\n",
            "  ✓ Resultado guardado: Net Profit: $100000.0 (normalizado desde $370124397.96), Sharpe: 2.35\n",
            "Ejecutando BTCUSDT - 1h - MA_Crossover (params 0) - futures_10x\n",
            "  ⚠️ Detectado Net Profit extremo: $223029013.66\n",
            "  ✓ Valores normalizados a un máximo de $100,000.00 (factor: 0.0004483722)\n",
            "  ✓ Resultado guardado: Net Profit: $100000.0 (normalizado desde $223029013.66), Sharpe: 2.18\n",
            "Ejecutando BTCUSDT - 1h - MA_Crossover (params 1) - spot\n",
            "  ⚠️ Detectado Net Profit extremo: $223029013.66\n",
            "  ✓ Valores normalizados a un máximo de $100,000.00 (factor: 0.0004483722)\n",
            "  ✓ Resultado guardado: Net Profit: $100000.0 (normalizado desde $223029013.66), Sharpe: 2.18\n",
            "Ejecutando BTCUSDT - 1h - MA_Crossover (params 1) - spot\n",
            "  ✓ Resultado guardado: Net Profit: $-3.92, Sharpe: -11.16\n",
            "Ejecutando BTCUSDT - 1h - MA_Crossover (params 1) - futures_3x\n",
            "  ✓ Resultado guardado: Net Profit: $-3.92, Sharpe: -11.16\n",
            "Ejecutando BTCUSDT - 1h - MA_Crossover (params 1) - futures_3x\n",
            "  ✓ Resultado guardado: Net Profit: $7423.72, Sharpe: 1.28\n",
            "Ejecutando BTCUSDT - 1h - MA_Crossover (params 1) - futures_10x\n",
            "  ✓ Resultado guardado: Net Profit: $7423.72, Sharpe: 1.28\n",
            "Ejecutando BTCUSDT - 1h - MA_Crossover (params 1) - futures_10x\n",
            "  ✓ Resultado guardado: Net Profit: $9412.98, Sharpe: 1.26\n",
            "Ejecutando BTCUSDT - 1h - Bollinger_Breakout (params 0) - spot\n",
            "  ✓ Resultado guardado: Net Profit: $9412.98, Sharpe: 1.26\n",
            "Ejecutando BTCUSDT - 1h - Bollinger_Breakout (params 0) - spot\n",
            "  ✓ Resultado guardado: Net Profit: $-0.19, Sharpe: 0.05\n",
            "Ejecutando BTCUSDT - 1h - Bollinger_Breakout (params 0) - futures_3x\n",
            "  ✓ Resultado guardado: Net Profit: $-0.19, Sharpe: 0.05\n",
            "Ejecutando BTCUSDT - 1h - Bollinger_Breakout (params 0) - futures_3x\n",
            "  ⚠️ Detectado Net Profit extremo: $12677035051.96\n",
            "  ✓ Valores normalizados a un máximo de $100,000.00 (factor: 0.0000078883)\n",
            "  ✓ Resultado guardado: Net Profit: $100000.0 (normalizado desde $12677035051.96), Sharpe: 2.7\n",
            "Ejecutando BTCUSDT - 1h - Bollinger_Breakout (params 0) - futures_10x\n",
            "  ⚠️ Detectado Net Profit extremo: $12677035051.96\n",
            "  ✓ Valores normalizados a un máximo de $100,000.00 (factor: 0.0000078883)\n",
            "  ✓ Resultado guardado: Net Profit: $100000.0 (normalizado desde $12677035051.96), Sharpe: 2.7\n",
            "Ejecutando BTCUSDT - 1h - Bollinger_Breakout (params 0) - futures_10x\n",
            "  ⚠️ Detectado Net Profit extremo: $9510724517.35\n",
            "  ✓ Valores normalizados a un máximo de $100,000.00 (factor: 0.0000105144)\n",
            "  ✓ Resultado guardado: Net Profit: $100000.0 (normalizado desde $9510724517.35), Sharpe: 2.77\n",
            "Ejecutando BTCUSDT - 1h - Bollinger_Breakout (params 1) - spot\n",
            "  ⚠️ Detectado Net Profit extremo: $9510724517.35\n",
            "  ✓ Valores normalizados a un máximo de $100,000.00 (factor: 0.0000105144)\n",
            "  ✓ Resultado guardado: Net Profit: $100000.0 (normalizado desde $9510724517.35), Sharpe: 2.77\n",
            "Ejecutando BTCUSDT - 1h - Bollinger_Breakout (params 1) - spot\n",
            "  ✓ Resultado guardado: Net Profit: $-3.44, Sharpe: -0.89\n",
            "Ejecutando BTCUSDT - 1h - Bollinger_Breakout (params 1) - futures_3x\n",
            "  ✓ Resultado guardado: Net Profit: $-3.44, Sharpe: -0.89\n",
            "Ejecutando BTCUSDT - 1h - Bollinger_Breakout (params 1) - futures_3x\n",
            "  ⚠️ Detectado Net Profit extremo: $9369269.53\n",
            "  ✓ Valores normalizados a un máximo de $100,000.00 (factor: 0.0106731907)\n",
            "  ✓ Resultado guardado: Net Profit: $100000.0 (normalizado desde $9369269.53), Sharpe: 2.07\n",
            "Ejecutando BTCUSDT - 1h - Bollinger_Breakout (params 1) - futures_10x\n",
            "  ⚠️ Detectado Net Profit extremo: $9369269.53\n",
            "  ✓ Valores normalizados a un máximo de $100,000.00 (factor: 0.0106731907)\n",
            "  ✓ Resultado guardado: Net Profit: $100000.0 (normalizado desde $9369269.53), Sharpe: 2.07\n",
            "Ejecutando BTCUSDT - 1h - Bollinger_Breakout (params 1) - futures_10x\n",
            "  ✓ Resultado guardado: Net Profit: $-283.0, Sharpe: -0.46\n",
            "Ejecutando BTCUSDT - 1h - RSI_Reversion (params 0) - spot\n",
            "  ✓ Resultado guardado: Net Profit: $-283.0, Sharpe: -0.46\n",
            "Ejecutando BTCUSDT - 1h - RSI_Reversion (params 0) - spot\n",
            "  ✓ Resultado guardado: Net Profit: $7.75, Sharpe: 1.03\n",
            "Ejecutando BTCUSDT - 1h - RSI_Reversion (params 0) - futures_3x\n",
            "  ✓ Resultado guardado: Net Profit: $7.75, Sharpe: 1.03\n",
            "Ejecutando BTCUSDT - 1h - RSI_Reversion (params 0) - futures_3x\n",
            "  ✓ Resultado guardado: Net Profit: $53796.69, Sharpe: 1.49\n",
            "Ejecutando BTCUSDT - 1h - RSI_Reversion (params 0) - futures_10x\n",
            "  ✓ Resultado guardado: Net Profit: $53796.69, Sharpe: 1.49\n",
            "Ejecutando BTCUSDT - 1h - RSI_Reversion (params 0) - futures_10x\n",
            "  ✓ Resultado guardado: Net Profit: $53375.12, Sharpe: 1.33\n",
            "Ejecutando BTCUSDT - 1h - RSI_Reversion (params 1) - spot\n",
            "  ✓ Resultado guardado: Net Profit: $53375.12, Sharpe: 1.33\n",
            "Ejecutando BTCUSDT - 1h - RSI_Reversion (params 1) - spot\n",
            "  ✓ Resultado guardado: Net Profit: $15.64, Sharpe: 1.91\n",
            "Ejecutando BTCUSDT - 1h - RSI_Reversion (params 1) - futures_3x\n",
            "  ✓ Resultado guardado: Net Profit: $15.64, Sharpe: 1.91\n",
            "Ejecutando BTCUSDT - 1h - RSI_Reversion (params 1) - futures_3x\n",
            "  ✓ Resultado guardado: Net Profit: $-26.28, Sharpe: 0.12\n",
            "Ejecutando BTCUSDT - 1h - RSI_Reversion (params 1) - futures_10x\n",
            "  ✓ Resultado guardado: Net Profit: $-26.28, Sharpe: 0.12\n",
            "Ejecutando BTCUSDT - 1h - RSI_Reversion (params 1) - futures_10x\n",
            "  ✓ Resultado guardado: Net Profit: $-192.09, Sharpe: -0.56\n",
            "Ejecutando BTCUSDT - 1h - MACD_Momentum (params 0) - spot\n",
            "  ✓ Resultado guardado: Net Profit: $-192.09, Sharpe: -0.56\n",
            "Ejecutando BTCUSDT - 1h - MACD_Momentum (params 0) - spot\n",
            "  ✓ Resultado guardado: Net Profit: $-16.49, Sharpe: -3.35\n",
            "Ejecutando BTCUSDT - 1h - MACD_Momentum (params 0) - futures_3x\n",
            "  ✓ Resultado guardado: Net Profit: $-16.49, Sharpe: -3.35\n",
            "Ejecutando BTCUSDT - 1h - MACD_Momentum (params 0) - futures_3x\n",
            "  ⚠️ Detectado Net Profit extremo: $4.310512170014962e+22\n",
            "  ✓ Valores normalizados a un máximo de $100,000.00 (factor: 0.0000000000)\n",
            "  ✓ Resultado guardado: Net Profit: $100000.0 (normalizado desde $4.310512170014962e+22), Sharpe: 4.23\n",
            "Ejecutando BTCUSDT - 1h - MACD_Momentum (params 0) - futures_10x\n",
            "  ⚠️ Detectado Net Profit extremo: $4.310512170014962e+22\n",
            "  ✓ Valores normalizados a un máximo de $100,000.00 (factor: 0.0000000000)\n",
            "  ✓ Resultado guardado: Net Profit: $100000.0 (normalizado desde $4.310512170014962e+22), Sharpe: 4.23\n",
            "Ejecutando BTCUSDT - 1h - MACD_Momentum (params 0) - futures_10x\n",
            "  ⚠️ Detectado Net Profit extremo: $1.5917350336378347e+22\n",
            "  ✓ Valores normalizados a un máximo de $100,000.00 (factor: 0.0000000000)\n",
            "  ✓ Resultado guardado: Net Profit: $100000.0 (normalizado desde $1.5917350336378347e+22), Sharpe: 3.8\n",
            "Ejecutando BTCUSDT - 1h - MACD_Momentum (params 1) - spot\n",
            "  ⚠️ Detectado Net Profit extremo: $1.5917350336378347e+22\n",
            "  ✓ Valores normalizados a un máximo de $100,000.00 (factor: 0.0000000000)\n",
            "  ✓ Resultado guardado: Net Profit: $100000.0 (normalizado desde $1.5917350336378347e+22), Sharpe: 3.8\n",
            "Ejecutando BTCUSDT - 1h - MACD_Momentum (params 1) - spot\n",
            "  ✓ Resultado guardado: Net Profit: $-22.74, Sharpe: -4.48\n",
            "Ejecutando BTCUSDT - 1h - MACD_Momentum (params 1) - futures_3x\n",
            "  ✓ Resultado guardado: Net Profit: $-22.74, Sharpe: -4.48\n",
            "Ejecutando BTCUSDT - 1h - MACD_Momentum (params 1) - futures_3x\n",
            "  ⚠️ Detectado Net Profit extremo: $1.0371665068612857e+28\n",
            "  ✓ Valores normalizados a un máximo de $100,000.00 (factor: 0.0000000000)\n",
            "  ✓ Resultado guardado: Net Profit: $100000.0 (normalizado desde $1.0371665068612857e+28), Sharpe: 4.8\n",
            "Ejecutando BTCUSDT - 1h - MACD_Momentum (params 1) - futures_10x\n",
            "  ⚠️ Detectado Net Profit extremo: $1.0371665068612857e+28\n",
            "  ✓ Valores normalizados a un máximo de $100,000.00 (factor: 0.0000000000)\n",
            "  ✓ Resultado guardado: Net Profit: $100000.0 (normalizado desde $1.0371665068612857e+28), Sharpe: 4.8\n",
            "Ejecutando BTCUSDT - 1h - MACD_Momentum (params 1) - futures_10x\n",
            "  ⚠️ Detectado Net Profit extremo: $3.0815869823730764e+27\n",
            "  ✓ Valores normalizados a un máximo de $100,000.00 (factor: 0.0000000000)\n",
            "  ✓ Resultado guardado: Net Profit: $100000.0 (normalizado desde $3.0815869823730764e+27), Sharpe: 4.33\n",
            "Ejecutando BTCUSDT - 1h - SR_Breakout (params 0) - spot\n",
            "  ⚠️ Detectado Net Profit extremo: $3.0815869823730764e+27\n",
            "  ✓ Valores normalizados a un máximo de $100,000.00 (factor: 0.0000000000)\n",
            "  ✓ Resultado guardado: Net Profit: $100000.0 (normalizado desde $3.0815869823730764e+27), Sharpe: 4.33\n",
            "Ejecutando BTCUSDT - 1h - SR_Breakout (params 0) - spot\n",
            "  ✗ Error: Timestamp('2025-03-14 04:40:00')\n",
            "Ejecutando BTCUSDT - 1h - SR_Breakout (params 0) - futures_3x\n",
            "  ✗ Error: Timestamp('2025-03-14 04:40:00')\n",
            "Ejecutando BTCUSDT - 1h - SR_Breakout (params 0) - futures_3x\n",
            "  ✗ Error: Timestamp('2024-04-24 20:40:00')\n",
            "Ejecutando BTCUSDT - 1h - SR_Breakout (params 0) - futures_10x\n",
            "  ✗ Error: Timestamp('2024-04-24 20:40:00')\n",
            "Ejecutando BTCUSDT - 1h - SR_Breakout (params 0) - futures_10x\n",
            "  ✗ Error: Timestamp('2024-04-24 20:40:00')\n",
            "Ejecutando BTCUSDT - 1h - SR_Breakout (params 1) - spot\n",
            "  ✗ Error: Timestamp('2024-04-24 20:40:00')\n",
            "Ejecutando BTCUSDT - 1h - SR_Breakout (params 1) - spot\n",
            "  ✗ Error: Timestamp('2025-03-14 14:30:00')\n",
            "Ejecutando BTCUSDT - 1h - SR_Breakout (params 1) - futures_3x\n",
            "  ✗ Error: Timestamp('2025-03-14 14:30:00')\n",
            "Ejecutando BTCUSDT - 1h - SR_Breakout (params 1) - futures_3x\n",
            "  ✗ Error: Timestamp('2024-04-25 06:30:00')\n",
            "Ejecutando BTCUSDT - 1h - SR_Breakout (params 1) - futures_10x\n",
            "  ✗ Error: Timestamp('2024-04-25 06:30:00')\n",
            "Ejecutando BTCUSDT - 1h - SR_Breakout (params 1) - futures_10x\n",
            "  ✗ Error: Timestamp('2024-04-25 06:30:00')\n",
            "Ejecutando BTCUSDT - 4h - MA_Crossover (params 0) - spot\n",
            "  ✗ Error: Timestamp('2024-04-25 06:30:00')\n",
            "Ejecutando BTCUSDT - 4h - MA_Crossover (params 0) - spot\n",
            "  ✓ Resultado guardado: Net Profit: $-25.34, Sharpe: -6.11\n",
            "Ejecutando BTCUSDT - 4h - MA_Crossover (params 0) - futures_3x\n",
            "  ✓ Resultado guardado: Net Profit: $-25.34, Sharpe: -6.11\n",
            "Ejecutando BTCUSDT - 4h - MA_Crossover (params 0) - futures_3x\n",
            "  ⚠️ Detectado Net Profit extremo: $98454803.05\n",
            "  ✓ Valores normalizados a un máximo de $100,000.00 (factor: 0.0010156945)\n",
            "  ✓ Resultado guardado: Net Profit: $100000.0 (normalizado desde $98454803.05), Sharpe: 2.25\n",
            "Ejecutando BTCUSDT - 4h - MA_Crossover (params 0) - futures_10x\n",
            "  ⚠️ Detectado Net Profit extremo: $98454803.05\n",
            "  ✓ Valores normalizados a un máximo de $100,000.00 (factor: 0.0010156945)\n",
            "  ✓ Resultado guardado: Net Profit: $100000.0 (normalizado desde $98454803.05), Sharpe: 2.25\n",
            "Ejecutando BTCUSDT - 4h - MA_Crossover (params 0) - futures_10x\n",
            "  ✓ Resultado guardado: Net Profit: $-21163.39, Sharpe: 0.13\n",
            "Ejecutando BTCUSDT - 4h - MA_Crossover (params 1) - spot\n",
            "  ✓ Resultado guardado: Net Profit: $-21163.39, Sharpe: 0.13\n",
            "Ejecutando BTCUSDT - 4h - MA_Crossover (params 1) - spot\n",
            "  ✓ Resultado guardado: Net Profit: $-9.8, Sharpe: -8.59\n",
            "Ejecutando BTCUSDT - 4h - MA_Crossover (params 1) - futures_3x\n",
            "  ✓ Resultado guardado: Net Profit: $-9.8, Sharpe: -8.59\n",
            "Ejecutando BTCUSDT - 4h - MA_Crossover (params 1) - futures_3x\n",
            "  ✓ Resultado guardado: Net Profit: $3478.5, Sharpe: 1.04\n",
            "Ejecutando BTCUSDT - 4h - MA_Crossover (params 1) - futures_10x\n",
            "  ✓ Resultado guardado: Net Profit: $3478.5, Sharpe: 1.04\n",
            "Ejecutando BTCUSDT - 4h - MA_Crossover (params 1) - futures_10x\n",
            "  ✓ Resultado guardado: Net Profit: $-459.83, Sharpe: -0.24\n",
            "Ejecutando BTCUSDT - 4h - Bollinger_Breakout (params 0) - spot\n",
            "  ✓ Resultado guardado: Net Profit: $-459.83, Sharpe: -0.24\n",
            "Ejecutando BTCUSDT - 4h - Bollinger_Breakout (params 0) - spot\n",
            "  ✓ Resultado guardado: Net Profit: $-26.89, Sharpe: -1.68\n",
            "Ejecutando BTCUSDT - 4h - Bollinger_Breakout (params 0) - futures_3x\n",
            "  ✓ Resultado guardado: Net Profit: $-26.89, Sharpe: -1.68\n",
            "Ejecutando BTCUSDT - 4h - Bollinger_Breakout (params 0) - futures_3x\n",
            "  ⚠️ Detectado Net Profit extremo: $886752462.29\n",
            "  ✓ Valores normalizados a un máximo de $100,000.00 (factor: 0.0001127710)\n",
            "  ✓ Resultado guardado: Net Profit: $100000.0 (normalizado desde $886752462.29), Sharpe: 2.55\n",
            "Ejecutando BTCUSDT - 4h - Bollinger_Breakout (params 0) - futures_10x\n",
            "  ⚠️ Detectado Net Profit extremo: $886752462.29\n",
            "  ✓ Valores normalizados a un máximo de $100,000.00 (factor: 0.0001127710)\n",
            "  ✓ Resultado guardado: Net Profit: $100000.0 (normalizado desde $886752462.29), Sharpe: 2.55\n",
            "Ejecutando BTCUSDT - 4h - Bollinger_Breakout (params 0) - futures_10x\n",
            "  ✓ Resultado guardado: Net Profit: $-726794.88, Sharpe: 0.82\n",
            "Ejecutando BTCUSDT - 4h - Bollinger_Breakout (params 1) - spot\n",
            "  ✓ Resultado guardado: Net Profit: $-726794.88, Sharpe: 0.82\n",
            "Ejecutando BTCUSDT - 4h - Bollinger_Breakout (params 1) - spot\n",
            "  ✓ Resultado guardado: Net Profit: $-29.35, Sharpe: -3.87\n",
            "Ejecutando BTCUSDT - 4h - Bollinger_Breakout (params 1) - futures_3x\n",
            "  ✓ Resultado guardado: Net Profit: $-29.35, Sharpe: -3.87\n",
            "Ejecutando BTCUSDT - 4h - Bollinger_Breakout (params 1) - futures_3x\n",
            "  ⚠️ Detectado Net Profit extremo: $146336.18\n",
            "  ✓ Valores normalizados a un máximo de $100,000.00 (factor: 0.6833580048)\n",
            "  ✓ Resultado guardado: Net Profit: $100000.0 (normalizado desde $146336.18), Sharpe: 1.79\n",
            "Ejecutando BTCUSDT - 4h - Bollinger_Breakout (params 1) - futures_10x\n",
            "  ⚠️ Detectado Net Profit extremo: $146336.18\n",
            "  ✓ Valores normalizados a un máximo de $100,000.00 (factor: 0.6833580048)\n",
            "  ✓ Resultado guardado: Net Profit: $100000.0 (normalizado desde $146336.18), Sharpe: 1.79\n",
            "Ejecutando BTCUSDT - 4h - Bollinger_Breakout (params 1) - futures_10x\n",
            "  ✓ Resultado guardado: Net Profit: $-1107.48, Sharpe: -0.28\n",
            "Ejecutando BTCUSDT - 4h - RSI_Reversion (params 0) - spot\n",
            "  ✓ Resultado guardado: Net Profit: $-1107.48, Sharpe: -0.28\n",
            "Ejecutando BTCUSDT - 4h - RSI_Reversion (params 0) - spot\n",
            "  ✓ Resultado guardado: Net Profit: $22.5, Sharpe: 1.28\n",
            "Ejecutando BTCUSDT - 4h - RSI_Reversion (params 0) - futures_3x\n",
            "  ✓ Resultado guardado: Net Profit: $22.5, Sharpe: 1.28\n",
            "Ejecutando BTCUSDT - 4h - RSI_Reversion (params 0) - futures_3x\n",
            "  ⚠️ Detectado Net Profit extremo: $111393.71\n",
            "  ✓ Valores normalizados a un máximo de $100,000.00 (factor: 0.8977167562)\n",
            "  ✓ Resultado guardado: Net Profit: $100000.0 (normalizado desde $111393.71), Sharpe: 1.54\n",
            "Ejecutando BTCUSDT - 4h - RSI_Reversion (params 0) - futures_10x\n",
            "  ⚠️ Detectado Net Profit extremo: $111393.71\n",
            "  ✓ Valores normalizados a un máximo de $100,000.00 (factor: 0.8977167562)\n",
            "  ✓ Resultado guardado: Net Profit: $100000.0 (normalizado desde $111393.71), Sharpe: 1.54\n",
            "Ejecutando BTCUSDT - 4h - RSI_Reversion (params 0) - futures_10x\n",
            "  ✓ Resultado guardado: Net Profit: $-198.49, Sharpe: -0.52\n",
            "Ejecutando BTCUSDT - 4h - RSI_Reversion (params 1) - spot\n",
            "  ✓ Resultado guardado: Net Profit: $-198.49, Sharpe: -0.52\n",
            "Ejecutando BTCUSDT - 4h - RSI_Reversion (params 1) - spot\n",
            "  ✓ Resultado guardado: Net Profit: $23.23, Sharpe: 2.19\n",
            "Ejecutando BTCUSDT - 4h - RSI_Reversion (params 1) - futures_3x\n",
            "  ✓ Resultado guardado: Net Profit: $23.23, Sharpe: 2.19\n",
            "Ejecutando BTCUSDT - 4h - RSI_Reversion (params 1) - futures_3x\n",
            "  ✓ Resultado guardado: Net Profit: $2767.19, Sharpe: 1.09\n",
            "Ejecutando BTCUSDT - 4h - RSI_Reversion (params 1) - futures_10x\n",
            "  ✓ Resultado guardado: Net Profit: $2767.19, Sharpe: 1.09\n",
            "Ejecutando BTCUSDT - 4h - RSI_Reversion (params 1) - futures_10x\n",
            "  ✓ Resultado guardado: Net Profit: $-198.48, Sharpe: -0.53\n",
            "Ejecutando BTCUSDT - 4h - MACD_Momentum (params 0) - spot\n",
            "  ✓ Resultado guardado: Net Profit: $-198.48, Sharpe: -0.53\n",
            "Ejecutando BTCUSDT - 4h - MACD_Momentum (params 0) - spot\n",
            "  ✓ Resultado guardado: Net Profit: $-1.46, Sharpe: 0.05\n",
            "Ejecutando BTCUSDT - 4h - MACD_Momentum (params 0) - futures_3x\n",
            "  ✓ Resultado guardado: Net Profit: $-1.46, Sharpe: 0.05\n",
            "Ejecutando BTCUSDT - 4h - MACD_Momentum (params 0) - futures_3x\n",
            "  ⚠️ Detectado Net Profit extremo: $7.685401017958726e+24\n",
            "  ✓ Valores normalizados a un máximo de $100,000.00 (factor: 0.0000000000)\n",
            "  ✓ Resultado guardado: Net Profit: $100000.0 (normalizado desde $7.685401017958726e+24), Sharpe: 4.35\n",
            "Ejecutando BTCUSDT - 4h - MACD_Momentum (params 0) - futures_10x\n",
            "  ⚠️ Detectado Net Profit extremo: $7.685401017958726e+24\n",
            "  ✓ Valores normalizados a un máximo de $100,000.00 (factor: 0.0000000000)\n",
            "  ✓ Resultado guardado: Net Profit: $100000.0 (normalizado desde $7.685401017958726e+24), Sharpe: 4.35\n",
            "Ejecutando BTCUSDT - 4h - MACD_Momentum (params 0) - futures_10x\n",
            "  ✓ Resultado guardado: Net Profit: $-268.7, Sharpe: -0.45\n",
            "Ejecutando BTCUSDT - 4h - MACD_Momentum (params 1) - spot\n",
            "  ✓ Resultado guardado: Net Profit: $-268.7, Sharpe: -0.45\n",
            "Ejecutando BTCUSDT - 4h - MACD_Momentum (params 1) - spot\n",
            "  ✓ Resultado guardado: Net Profit: $6.98, Sharpe: 0.7\n",
            "Ejecutando BTCUSDT - 4h - MACD_Momentum (params 1) - futures_3x\n",
            "  ✓ Resultado guardado: Net Profit: $6.98, Sharpe: 0.7\n",
            "Ejecutando BTCUSDT - 4h - MACD_Momentum (params 1) - futures_3x\n",
            "  ⚠️ Detectado Net Profit extremo: $6.335382395360649e+29\n",
            "  ✓ Valores normalizados a un máximo de $100,000.00 (factor: 0.0000000000)\n",
            "  ✓ Resultado guardado: Net Profit: $100000.0 (normalizado desde $6.335382395360649e+29), Sharpe: 4.87\n",
            "Ejecutando BTCUSDT - 4h - MACD_Momentum (params 1) - futures_10x\n",
            "  ⚠️ Detectado Net Profit extremo: $6.335382395360649e+29\n",
            "  ✓ Valores normalizados a un máximo de $100,000.00 (factor: 0.0000000000)\n",
            "  ✓ Resultado guardado: Net Profit: $100000.0 (normalizado desde $6.335382395360649e+29), Sharpe: 4.87\n",
            "Ejecutando BTCUSDT - 4h - MACD_Momentum (params 1) - futures_10x\n",
            "  ✓ Resultado guardado: Net Profit: $-840.2, Sharpe: -0.13\n",
            "Ejecutando BTCUSDT - 4h - SR_Breakout (params 0) - spot\n",
            "  ✓ Resultado guardado: Net Profit: $-840.2, Sharpe: -0.13\n",
            "Ejecutando BTCUSDT - 4h - SR_Breakout (params 0) - spot\n",
            "  ✗ Error: Timestamp('2024-11-11 19:40:00')\n",
            "Ejecutando BTCUSDT - 4h - SR_Breakout (params 0) - futures_3x\n",
            "  ✗ Error: Timestamp('2024-11-11 19:40:00')\n",
            "Ejecutando BTCUSDT - 4h - SR_Breakout (params 0) - futures_3x\n",
            "  ✗ Error: Timestamp('2024-04-27 11:40:00')\n",
            "Ejecutando BTCUSDT - 4h - SR_Breakout (params 0) - futures_10x\n",
            "  ✗ Error: Timestamp('2024-04-27 11:40:00')\n",
            "Ejecutando BTCUSDT - 4h - SR_Breakout (params 0) - futures_10x\n",
            "  ✗ Error: Timestamp('2024-04-27 11:40:00')\n",
            "Ejecutando BTCUSDT - 4h - SR_Breakout (params 1) - spot\n",
            "  ✗ Error: Timestamp('2024-04-27 11:40:00')\n",
            "Ejecutando BTCUSDT - 4h - SR_Breakout (params 1) - spot\n",
            "  ✗ Error: Timestamp('2024-11-13 11:30:00')\n",
            "Ejecutando BTCUSDT - 4h - SR_Breakout (params 1) - futures_3x\n",
            "  ✗ Error: Timestamp('2024-11-13 11:30:00')\n",
            "Ejecutando BTCUSDT - 4h - SR_Breakout (params 1) - futures_3x\n",
            "  ✗ Error: Timestamp('2024-04-29 03:30:00')\n",
            "Ejecutando BTCUSDT - 4h - SR_Breakout (params 1) - futures_10x\n",
            "  ✗ Error: Timestamp('2024-04-29 03:30:00')\n",
            "Ejecutando BTCUSDT - 4h - SR_Breakout (params 1) - futures_10x\n",
            "  ✗ Error: Timestamp('2024-04-29 03:30:00')\n",
            "Ejecutando BTCUSDT - 1d - MA_Crossover (params 0) - spot\n",
            "  ✗ Error: Timestamp('2024-04-29 03:30:00')\n",
            "Ejecutando BTCUSDT - 1d - MA_Crossover (params 0) - spot\n",
            "  ✓ Resultado guardado: Net Profit: $8.48, Sharpe: 1.94\n",
            "Ejecutando BTCUSDT - 1d - MA_Crossover (params 0) - futures_3x\n",
            "  ✓ Resultado guardado: Net Profit: $8.48, Sharpe: 1.94\n",
            "Ejecutando BTCUSDT - 1d - MA_Crossover (params 0) - futures_3x\n",
            "  ✓ Resultado guardado: Net Profit: $18941.2, Sharpe: 2.13\n",
            "Ejecutando BTCUSDT - 1d - MA_Crossover (params 0) - futures_10x\n",
            "  ✓ Resultado guardado: Net Profit: $18941.2, Sharpe: 2.13\n",
            "Ejecutando BTCUSDT - 1d - MA_Crossover (params 0) - futures_10x\n",
            "  ✓ Resultado guardado: Net Profit: $-199.15, Sharpe: -1.0\n",
            "Ejecutando BTCUSDT - 1d - MA_Crossover (params 1) - spot\n",
            "  ✓ Resultado guardado: Net Profit: $-199.15, Sharpe: -1.0\n",
            "Ejecutando BTCUSDT - 1d - MA_Crossover (params 1) - spot\n",
            "  ✓ Resultado guardado: Net Profit: $3.03, Sharpe: nan\n",
            "Ejecutando BTCUSDT - 1d - MA_Crossover (params 1) - futures_3x\n",
            "  ✓ Resultado guardado: Net Profit: $3.03, Sharpe: nan\n",
            "Ejecutando BTCUSDT - 1d - MA_Crossover (params 1) - futures_3x\n",
            "  ✓ Resultado guardado: Net Profit: $-9.97, Sharpe: 0.4\n",
            "Ejecutando BTCUSDT - 1d - MA_Crossover (params 1) - futures_10x\n",
            "  ✓ Resultado guardado: Net Profit: $-9.97, Sharpe: 0.4\n",
            "Ejecutando BTCUSDT - 1d - MA_Crossover (params 1) - futures_10x\n",
            "  ✓ Resultado guardado: Net Profit: $-295.95, Sharpe: -0.36\n",
            "Ejecutando BTCUSDT - 1d - Bollinger_Breakout (params 0) - spot\n",
            "  ✓ Resultado guardado: Net Profit: $-295.95, Sharpe: -0.36\n",
            "Ejecutando BTCUSDT - 1d - Bollinger_Breakout (params 0) - spot\n",
            "  ✓ Resultado guardado: Net Profit: $12.18, Sharpe: 1.26\n",
            "Ejecutando BTCUSDT - 1d - Bollinger_Breakout (params 0) - futures_3x\n",
            "  ✓ Resultado guardado: Net Profit: $12.18, Sharpe: 1.26\n",
            "Ejecutando BTCUSDT - 1d - Bollinger_Breakout (params 0) - futures_3x\n",
            "  ✓ Resultado guardado: Net Profit: $18946.87, Sharpe: 2.25\n",
            "Ejecutando BTCUSDT - 1d - Bollinger_Breakout (params 0) - futures_10x\n",
            "  ✓ Resultado guardado: Net Profit: $18946.87, Sharpe: 2.25\n",
            "Ejecutando BTCUSDT - 1d - Bollinger_Breakout (params 0) - futures_10x\n",
            "  ✓ Resultado guardado: Net Profit: $-196.41, Sharpe: -0.8\n",
            "Ejecutando BTCUSDT - 1d - Bollinger_Breakout (params 1) - spot\n",
            "  ✓ Resultado guardado: Net Profit: $-196.41, Sharpe: -0.8\n",
            "Ejecutando BTCUSDT - 1d - Bollinger_Breakout (params 1) - spot\n",
            "  ✓ Resultado guardado: Net Profit: $-1.97, Sharpe: 0.27\n",
            "Ejecutando BTCUSDT - 1d - Bollinger_Breakout (params 1) - futures_3x\n",
            "  ✓ Resultado guardado: Net Profit: $-1.97, Sharpe: 0.27\n",
            "Ejecutando BTCUSDT - 1d - Bollinger_Breakout (params 1) - futures_3x\n",
            "  ✓ Resultado guardado: Net Profit: $713.04, Sharpe: 1.41\n",
            "Ejecutando BTCUSDT - 1d - Bollinger_Breakout (params 1) - futures_10x\n",
            "  ✓ Resultado guardado: Net Profit: $713.04, Sharpe: 1.41\n",
            "Ejecutando BTCUSDT - 1d - Bollinger_Breakout (params 1) - futures_10x\n",
            "  ✓ Resultado guardado: Net Profit: $-197.26, Sharpe: -0.89\n",
            "Ejecutando BTCUSDT - 1d - RSI_Reversion (params 0) - spot\n",
            "  ✓ Resultado guardado: Net Profit: $-197.26, Sharpe: -0.89\n",
            "Ejecutando BTCUSDT - 1d - RSI_Reversion (params 0) - spot\n",
            "  ✓ Resultado guardado: Net Profit: $8.57, Sharpe: 1.17\n",
            "Ejecutando BTCUSDT - 1d - RSI_Reversion (params 0) - futures_3x\n",
            "  ✓ Resultado guardado: Net Profit: $8.57, Sharpe: 1.17\n",
            "Ejecutando BTCUSDT - 1d - RSI_Reversion (params 0) - futures_3x\n",
            "  ✓ Resultado guardado: Net Profit: $-345.9, Sharpe: -0.77\n",
            "Ejecutando BTCUSDT - 1d - RSI_Reversion (params 0) - futures_10x\n",
            "  ✓ Resultado guardado: Net Profit: $-345.9, Sharpe: -0.77\n",
            "Ejecutando BTCUSDT - 1d - RSI_Reversion (params 0) - futures_10x\n",
            "  ✓ Resultado guardado: Net Profit: $-199.04, Sharpe: -0.91\n",
            "Ejecutando BTCUSDT - 1d - RSI_Reversion (params 1) - spot\n",
            "  ✓ Resultado guardado: Net Profit: $-199.04, Sharpe: -0.91\n",
            "Ejecutando BTCUSDT - 1d - RSI_Reversion (params 1) - spot\n",
            "  ✓ Resultado guardado: Net Profit: $-0.1, Sharpe: -4.58\n",
            "Ejecutando BTCUSDT - 1d - RSI_Reversion (params 1) - futures_3x\n",
            "  ✓ Resultado guardado: Net Profit: $-0.1, Sharpe: -4.58\n",
            "Ejecutando BTCUSDT - 1d - RSI_Reversion (params 1) - futures_3x\n",
            "  ✓ Resultado guardado: Net Profit: $-201.9, Sharpe: -0.91\n",
            "Ejecutando BTCUSDT - 1d - RSI_Reversion (params 1) - futures_10x\n",
            "  ✓ Resultado guardado: Net Profit: $-201.9, Sharpe: -0.91\n",
            "Ejecutando BTCUSDT - 1d - RSI_Reversion (params 1) - futures_10x\n",
            "  ✓ Resultado guardado: Net Profit: $-200.0, Sharpe: -0.83\n",
            "Ejecutando BTCUSDT - 1d - MACD_Momentum (params 0) - spot\n",
            "  ✓ Resultado guardado: Net Profit: $-200.0, Sharpe: -0.83\n",
            "Ejecutando BTCUSDT - 1d - MACD_Momentum (params 0) - spot\n",
            "  ✓ Resultado guardado: Net Profit: $15.62, Sharpe: 1.91\n",
            "Ejecutando BTCUSDT - 1d - MACD_Momentum (params 0) - futures_3x\n",
            "  ✓ Resultado guardado: Net Profit: $15.62, Sharpe: 1.91\n",
            "Ejecutando BTCUSDT - 1d - MACD_Momentum (params 0) - futures_3x\n",
            "  ⚠️ Detectado Net Profit extremo: $8217573065.56\n",
            "  ✓ Valores normalizados a un máximo de $100,000.00 (factor: 0.0000121690)\n",
            "  ✓ Resultado guardado: Net Profit: $100000.0 (normalizado desde $8217573065.56), Sharpe: 3.8\n",
            "Ejecutando BTCUSDT - 1d - MACD_Momentum (params 0) - futures_10x\n",
            "  ⚠️ Detectado Net Profit extremo: $8217573065.56\n",
            "  ✓ Valores normalizados a un máximo de $100,000.00 (factor: 0.0000121690)\n",
            "  ✓ Resultado guardado: Net Profit: $100000.0 (normalizado desde $8217573065.56), Sharpe: 3.8\n",
            "Ejecutando BTCUSDT - 1d - MACD_Momentum (params 0) - futures_10x\n",
            "  ✓ Resultado guardado: Net Profit: $-649.56, Sharpe: -0.76\n",
            "Ejecutando BTCUSDT - 1d - MACD_Momentum (params 1) - spot\n",
            "  ✓ Resultado guardado: Net Profit: $-649.56, Sharpe: -0.76\n",
            "Ejecutando BTCUSDT - 1d - MACD_Momentum (params 1) - spot\n",
            "  ✓ Resultado guardado: Net Profit: $23.63, Sharpe: 2.65\n",
            "Ejecutando BTCUSDT - 1d - MACD_Momentum (params 1) - futures_3x\n",
            "  ✓ Resultado guardado: Net Profit: $23.63, Sharpe: 2.65\n",
            "Ejecutando BTCUSDT - 1d - MACD_Momentum (params 1) - futures_3x\n",
            "  ⚠️ Detectado Net Profit extremo: $2482015450804.61\n",
            "  ✓ Valores normalizados a un máximo de $100,000.00 (factor: 0.0000000403)\n",
            "  ✓ Resultado guardado: Net Profit: $100000.0 (normalizado desde $2482015450804.61), Sharpe: 3.02\n",
            "Ejecutando BTCUSDT - 1d - MACD_Momentum (params 1) - futures_10x\n",
            "  ⚠️ Detectado Net Profit extremo: $2482015450804.61\n",
            "  ✓ Valores normalizados a un máximo de $100,000.00 (factor: 0.0000000403)\n",
            "  ✓ Resultado guardado: Net Profit: $100000.0 (normalizado desde $2482015450804.61), Sharpe: 3.02\n",
            "Ejecutando BTCUSDT - 1d - MACD_Momentum (params 1) - futures_10x\n",
            "  ✓ Resultado guardado: Net Profit: $-624.6, Sharpe: -0.76\n",
            "Ejecutando BTCUSDT - 1d - SR_Breakout (params 0) - spot\n",
            "  ✓ Resultado guardado: Net Profit: $-624.6, Sharpe: -0.76\n",
            "Ejecutando BTCUSDT - 1d - SR_Breakout (params 0) - spot\n",
            "  ✗ Error: Timestamp('2024-05-13 23:40:00')\n",
            "Ejecutando BTCUSDT - 1d - SR_Breakout (params 0) - futures_3x\n",
            "  ✗ Error: Timestamp('2024-05-13 23:40:00')\n",
            "Ejecutando BTCUSDT - 1d - SR_Breakout (params 0) - futures_3x\n",
            "  ✗ Error: Timestamp('2024-05-14 23:40:00')\n",
            "Ejecutando BTCUSDT - 1d - SR_Breakout (params 0) - futures_10x\n",
            "  ✗ Error: Timestamp('2024-05-14 23:40:00')\n",
            "Ejecutando BTCUSDT - 1d - SR_Breakout (params 0) - futures_10x\n",
            "  ✗ Error: Timestamp('2024-05-14 23:40:00')\n",
            "Ejecutando BTCUSDT - 1d - SR_Breakout (params 1) - spot\n",
            "  ✗ Error: Timestamp('2024-05-14 23:40:00')\n",
            "Ejecutando BTCUSDT - 1d - SR_Breakout (params 1) - spot\n",
            "  ✗ Error: Timestamp('2024-05-23 23:30:00')\n",
            "Ejecutando BTCUSDT - 1d - SR_Breakout (params 1) - futures_3x\n",
            "  ✗ Error: Timestamp('2024-05-23 23:30:00')\n",
            "Ejecutando BTCUSDT - 1d - SR_Breakout (params 1) - futures_3x\n",
            "  ✗ Error: Timestamp('2024-05-24 23:30:00')\n",
            "Ejecutando BTCUSDT - 1d - SR_Breakout (params 1) - futures_10x\n",
            "  ✗ Error: Timestamp('2024-05-24 23:30:00')\n",
            "Ejecutando BTCUSDT - 1d - SR_Breakout (params 1) - futures_10x\n",
            "  ✗ Error: Timestamp('2024-05-24 23:30:00')\n",
            "Ejecutando ETHUSDT - 1h - MA_Crossover (params 0) - spot\n",
            "  ✗ Error: Timestamp('2024-05-24 23:30:00')\n",
            "Ejecutando ETHUSDT - 1h - MA_Crossover (params 0) - spot\n",
            "  ✓ Resultado guardado: Net Profit: $-19.02, Sharpe: -5.6\n",
            "Ejecutando ETHUSDT - 1h - MA_Crossover (params 0) - futures_3x\n",
            "  ✓ Resultado guardado: Net Profit: $-19.02, Sharpe: -5.6\n",
            "Ejecutando ETHUSDT - 1h - MA_Crossover (params 0) - futures_3x\n",
            "  ⚠️ Detectado Net Profit extremo: $49195802.61\n",
            "  ✓ Valores normalizados a un máximo de $100,000.00 (factor: 0.0020326937)\n",
            "  ✓ Resultado guardado: Net Profit: $100000.0 (normalizado desde $49195802.61), Sharpe: 2.2\n",
            "Ejecutando ETHUSDT - 1h - MA_Crossover (params 0) - futures_10x\n",
            "  ⚠️ Detectado Net Profit extremo: $49195802.61\n",
            "  ✓ Valores normalizados a un máximo de $100,000.00 (factor: 0.0020326937)\n",
            "  ✓ Resultado guardado: Net Profit: $100000.0 (normalizado desde $49195802.61), Sharpe: 2.2\n",
            "Ejecutando ETHUSDT - 1h - MA_Crossover (params 0) - futures_10x\n",
            "  ⚠️ Detectado Net Profit extremo: $30448757.03\n",
            "  ✓ Valores normalizados a un máximo de $100,000.00 (factor: 0.0032842063)\n",
            "  ✓ Resultado guardado: Net Profit: $100000.0 (normalizado desde $30448757.03), Sharpe: 2.02\n",
            "Ejecutando ETHUSDT - 1h - MA_Crossover (params 1) - spot\n",
            "  ⚠️ Detectado Net Profit extremo: $30448757.03\n",
            "  ✓ Valores normalizados a un máximo de $100,000.00 (factor: 0.0032842063)\n",
            "  ✓ Resultado guardado: Net Profit: $100000.0 (normalizado desde $30448757.03), Sharpe: 2.02\n",
            "Ejecutando ETHUSDT - 1h - MA_Crossover (params 1) - spot\n",
            "  ✓ Resultado guardado: Net Profit: $-7.2, Sharpe: -10.12\n",
            "Ejecutando ETHUSDT - 1h - MA_Crossover (params 1) - futures_3x\n",
            "  ✓ Resultado guardado: Net Profit: $-7.2, Sharpe: -10.12\n",
            "Ejecutando ETHUSDT - 1h - MA_Crossover (params 1) - futures_3x\n",
            "  ✓ Resultado guardado: Net Profit: $874.27, Sharpe: 0.96\n",
            "Ejecutando ETHUSDT - 1h - MA_Crossover (params 1) - futures_10x\n",
            "  ✓ Resultado guardado: Net Profit: $874.27, Sharpe: 0.96\n",
            "Ejecutando ETHUSDT - 1h - MA_Crossover (params 1) - futures_10x\n",
            "  ✓ Resultado guardado: Net Profit: $913.05, Sharpe: 0.91\n",
            "Ejecutando ETHUSDT - 1h - Bollinger_Breakout (params 0) - spot\n",
            "  ✓ Resultado guardado: Net Profit: $913.05, Sharpe: 0.91\n",
            "Ejecutando ETHUSDT - 1h - Bollinger_Breakout (params 0) - spot\n",
            "  ✓ Resultado guardado: Net Profit: $-15.34, Sharpe: -1.32\n",
            "Ejecutando ETHUSDT - 1h - Bollinger_Breakout (params 0) - futures_3x\n",
            "  ✓ Resultado guardado: Net Profit: $-15.34, Sharpe: -1.32\n",
            "Ejecutando ETHUSDT - 1h - Bollinger_Breakout (params 0) - futures_3x\n",
            "  ⚠️ Detectado Net Profit extremo: $35188663985.1\n",
            "  ✓ Valores normalizados a un máximo de $100,000.00 (factor: 0.0000028418)\n",
            "  ✓ Resultado guardado: Net Profit: $100000.0 (normalizado desde $35188663985.1), Sharpe: 2.76\n",
            "Ejecutando ETHUSDT - 1h - Bollinger_Breakout (params 0) - futures_10x\n",
            "  ⚠️ Detectado Net Profit extremo: $35188663985.1\n",
            "  ✓ Valores normalizados a un máximo de $100,000.00 (factor: 0.0000028418)\n",
            "  ✓ Resultado guardado: Net Profit: $100000.0 (normalizado desde $35188663985.1), Sharpe: 2.76\n",
            "Ejecutando ETHUSDT - 1h - Bollinger_Breakout (params 0) - futures_10x\n",
            "  ⚠️ Detectado Net Profit extremo: $9103739300.62\n",
            "  ✓ Valores normalizados a un máximo de $100,000.00 (factor: 0.0000109845)\n",
            "  ✓ Resultado guardado: Net Profit: $100000.0 (normalizado desde $9103739300.62), Sharpe: 2.66\n",
            "Ejecutando ETHUSDT - 1h - Bollinger_Breakout (params 1) - spot\n",
            "  ⚠️ Detectado Net Profit extremo: $9103739300.62\n",
            "  ✓ Valores normalizados a un máximo de $100,000.00 (factor: 0.0000109845)\n",
            "  ✓ Resultado guardado: Net Profit: $100000.0 (normalizado desde $9103739300.62), Sharpe: 2.66\n",
            "Ejecutando ETHUSDT - 1h - Bollinger_Breakout (params 1) - spot\n",
            "  ✓ Resultado guardado: Net Profit: $-13.77, Sharpe: -2.75\n",
            "Ejecutando ETHUSDT - 1h - Bollinger_Breakout (params 1) - futures_3x\n",
            "  ✓ Resultado guardado: Net Profit: $-13.77, Sharpe: -2.75\n",
            "Ejecutando ETHUSDT - 1h - Bollinger_Breakout (params 1) - futures_3x\n",
            "  ⚠️ Detectado Net Profit extremo: $1002277.25\n",
            "  ✓ Valores normalizados a un máximo de $100,000.00 (factor: 0.0997727924)\n",
            "  ✓ Resultado guardado: Net Profit: $100000.0 (normalizado desde $1002277.25), Sharpe: 1.9\n",
            "Ejecutando ETHUSDT - 1h - Bollinger_Breakout (params 1) - futures_10x\n",
            "  ⚠️ Detectado Net Profit extremo: $1002277.25\n",
            "  ✓ Valores normalizados a un máximo de $100,000.00 (factor: 0.0997727924)\n",
            "  ✓ Resultado guardado: Net Profit: $100000.0 (normalizado desde $1002277.25), Sharpe: 1.9\n",
            "Ejecutando ETHUSDT - 1h - Bollinger_Breakout (params 1) - futures_10x\n",
            "  ⚠️ Detectado Net Profit extremo: $708534.07\n",
            "  ✓ Valores normalizados a un máximo de $100,000.00 (factor: 0.1411364735)\n",
            "  ✓ Resultado guardado: Net Profit: $100000.0 (normalizado desde $708534.07), Sharpe: 1.92\n",
            "Ejecutando ETHUSDT - 1h - RSI_Reversion (params 0) - spot\n",
            "  ⚠️ Detectado Net Profit extremo: $708534.07\n",
            "  ✓ Valores normalizados a un máximo de $100,000.00 (factor: 0.1411364735)\n",
            "  ✓ Resultado guardado: Net Profit: $100000.0 (normalizado desde $708534.07), Sharpe: 1.92\n",
            "Ejecutando ETHUSDT - 1h - RSI_Reversion (params 0) - spot\n",
            "  ✓ Resultado guardado: Net Profit: $0.27, Sharpe: 0.17\n",
            "Ejecutando ETHUSDT - 1h - RSI_Reversion (params 0) - futures_3x\n",
            "  ✓ Resultado guardado: Net Profit: $0.27, Sharpe: 0.17\n",
            "Ejecutando ETHUSDT - 1h - RSI_Reversion (params 0) - futures_3x\n",
            "  ✓ Resultado guardado: Net Profit: $-4121.0, Sharpe: 0.79\n",
            "Ejecutando ETHUSDT - 1h - RSI_Reversion (params 0) - futures_10x\n",
            "  ✓ Resultado guardado: Net Profit: $-4121.0, Sharpe: 0.79\n",
            "Ejecutando ETHUSDT - 1h - RSI_Reversion (params 0) - futures_10x\n",
            "  ✓ Resultado guardado: Net Profit: $-584.08, Sharpe: -0.23\n",
            "Ejecutando ETHUSDT - 1h - RSI_Reversion (params 1) - spot\n",
            "  ✓ Resultado guardado: Net Profit: $-584.08, Sharpe: -0.23\n",
            "Ejecutando ETHUSDT - 1h - RSI_Reversion (params 1) - spot\n",
            "  ✓ Resultado guardado: Net Profit: $-6.99, Sharpe: -0.55\n",
            "Ejecutando ETHUSDT - 1h - RSI_Reversion (params 1) - futures_3x\n",
            "  ✓ Resultado guardado: Net Profit: $-6.99, Sharpe: -0.55\n",
            "Ejecutando ETHUSDT - 1h - RSI_Reversion (params 1) - futures_3x\n",
            "  ✓ Resultado guardado: Net Profit: $-73.8, Sharpe: 0.69\n",
            "Ejecutando ETHUSDT - 1h - RSI_Reversion (params 1) - futures_10x\n",
            "  ✓ Resultado guardado: Net Profit: $-73.8, Sharpe: 0.69\n",
            "Ejecutando ETHUSDT - 1h - RSI_Reversion (params 1) - futures_10x\n",
            "  ✓ Resultado guardado: Net Profit: $-1722.29, Sharpe: 0.1\n",
            "Ejecutando ETHUSDT - 1h - MACD_Momentum (params 0) - spot\n",
            "  ✓ Resultado guardado: Net Profit: $-1722.29, Sharpe: 0.1\n",
            "Ejecutando ETHUSDT - 1h - MACD_Momentum (params 0) - spot\n",
            "  ✓ Resultado guardado: Net Profit: $-29.57, Sharpe: -3.4\n",
            "Ejecutando ETHUSDT - 1h - MACD_Momentum (params 0) - futures_3x\n",
            "  ✓ Resultado guardado: Net Profit: $-29.57, Sharpe: -3.4\n",
            "Ejecutando ETHUSDT - 1h - MACD_Momentum (params 0) - futures_3x\n",
            "  ⚠️ Detectado Net Profit extremo: $5.187180678561205e+23\n",
            "  ✓ Valores normalizados a un máximo de $100,000.00 (factor: 0.0000000000)\n",
            "  ✓ Resultado guardado: Net Profit: $100000.0 (normalizado desde $5.187180678561205e+23), Sharpe: 4.29\n",
            "Ejecutando ETHUSDT - 1h - MACD_Momentum (params 0) - futures_10x\n",
            "  ⚠️ Detectado Net Profit extremo: $5.187180678561205e+23\n",
            "  ✓ Valores normalizados a un máximo de $100,000.00 (factor: 0.0000000000)\n",
            "  ✓ Resultado guardado: Net Profit: $100000.0 (normalizado desde $5.187180678561205e+23), Sharpe: 4.29\n",
            "Ejecutando ETHUSDT - 1h - MACD_Momentum (params 0) - futures_10x\n",
            "  ✓ Resultado guardado: Net Profit: $-61981930325451.62, Sharpe: 2.59\n",
            "Ejecutando ETHUSDT - 1h - MACD_Momentum (params 1) - spot\n",
            "  ✓ Resultado guardado: Net Profit: $-61981930325451.62, Sharpe: 2.59\n",
            "Ejecutando ETHUSDT - 1h - MACD_Momentum (params 1) - spot\n",
            "  ✓ Resultado guardado: Net Profit: $-35.89, Sharpe: -3.38\n",
            "Ejecutando ETHUSDT - 1h - MACD_Momentum (params 1) - futures_3x\n",
            "  ✓ Resultado guardado: Net Profit: $-35.89, Sharpe: -3.38\n",
            "Ejecutando ETHUSDT - 1h - MACD_Momentum (params 1) - futures_3x\n",
            "  ⚠️ Detectado Net Profit extremo: $2.3203886108307163e+30\n",
            "  ✓ Valores normalizados a un máximo de $100,000.00 (factor: 0.0000000000)\n",
            "  ✓ Resultado guardado: Net Profit: $100000.0 (normalizado desde $2.3203886108307163e+30), Sharpe: 5.0\n",
            "Ejecutando ETHUSDT - 1h - MACD_Momentum (params 1) - futures_10x\n",
            "  ⚠️ Detectado Net Profit extremo: $2.3203886108307163e+30\n",
            "  ✓ Valores normalizados a un máximo de $100,000.00 (factor: 0.0000000000)\n",
            "  ✓ Resultado guardado: Net Profit: $100000.0 (normalizado desde $2.3203886108307163e+30), Sharpe: 5.0\n",
            "Ejecutando ETHUSDT - 1h - MACD_Momentum (params 1) - futures_10x\n",
            "  ✓ Resultado guardado: Net Profit: $-9.874747786495994e+17, Sharpe: 3.14\n",
            "Ejecutando ETHUSDT - 1h - SR_Breakout (params 0) - spot\n",
            "  ✓ Resultado guardado: Net Profit: $-9.874747786495994e+17, Sharpe: 3.14\n",
            "Ejecutando ETHUSDT - 1h - SR_Breakout (params 0) - spot\n",
            "  ✗ Error: Timestamp('2025-03-14 04:40:00')\n",
            "Ejecutando ETHUSDT - 1h - SR_Breakout (params 0) - futures_3x\n",
            "  ✗ Error: Timestamp('2025-03-14 04:40:00')\n",
            "Ejecutando ETHUSDT - 1h - SR_Breakout (params 0) - futures_3x\n",
            "  ✗ Error: Timestamp('2024-04-24 20:40:00')\n",
            "Ejecutando ETHUSDT - 1h - SR_Breakout (params 0) - futures_10x\n",
            "  ✗ Error: Timestamp('2024-04-24 20:40:00')\n",
            "Ejecutando ETHUSDT - 1h - SR_Breakout (params 0) - futures_10x\n",
            "  ✗ Error: Timestamp('2024-04-24 20:40:00')\n",
            "Ejecutando ETHUSDT - 1h - SR_Breakout (params 1) - spot\n",
            "  ✗ Error: Timestamp('2024-04-24 20:40:00')\n",
            "Ejecutando ETHUSDT - 1h - SR_Breakout (params 1) - spot\n",
            "  ✗ Error: Timestamp('2025-03-14 14:30:00')\n",
            "Ejecutando ETHUSDT - 1h - SR_Breakout (params 1) - futures_3x\n",
            "  ✗ Error: Timestamp('2025-03-14 14:30:00')\n",
            "Ejecutando ETHUSDT - 1h - SR_Breakout (params 1) - futures_3x\n",
            "  ✗ Error: Timestamp('2024-04-25 06:30:00')\n",
            "Ejecutando ETHUSDT - 1h - SR_Breakout (params 1) - futures_10x\n",
            "  ✗ Error: Timestamp('2024-04-25 06:30:00')\n",
            "Ejecutando ETHUSDT - 1h - SR_Breakout (params 1) - futures_10x\n",
            "  ✗ Error: Timestamp('2024-04-25 06:30:00')\n",
            "Ejecutando ETHUSDT - 4h - MA_Crossover (params 0) - spot\n",
            "  ✗ Error: Timestamp('2024-04-25 06:30:00')\n",
            "Ejecutando ETHUSDT - 4h - MA_Crossover (params 0) - spot\n",
            "  ✓ Resultado guardado: Net Profit: $-39.95, Sharpe: -5.93\n",
            "Ejecutando ETHUSDT - 4h - MA_Crossover (params 0) - futures_3x\n",
            "  ✓ Resultado guardado: Net Profit: $-39.95, Sharpe: -5.93\n",
            "Ejecutando ETHUSDT - 4h - MA_Crossover (params 0) - futures_3x\n",
            "  ⚠️ Detectado Net Profit extremo: $948959385.33\n",
            "  ✓ Valores normalizados a un máximo de $100,000.00 (factor: 0.0001053786)\n",
            "  ✓ Resultado guardado: Net Profit: $100000.0 (normalizado desde $948959385.33), Sharpe: 2.43\n",
            "Ejecutando ETHUSDT - 4h - MA_Crossover (params 0) - futures_10x\n",
            "  ⚠️ Detectado Net Profit extremo: $948959385.33\n",
            "  ✓ Valores normalizados a un máximo de $100,000.00 (factor: 0.0001053786)\n",
            "  ✓ Resultado guardado: Net Profit: $100000.0 (normalizado desde $948959385.33), Sharpe: 2.43\n",
            "Ejecutando ETHUSDT - 4h - MA_Crossover (params 0) - futures_10x\n",
            "  ✓ Resultado guardado: Net Profit: $-259489957.49, Sharpe: 0.31\n",
            "Ejecutando ETHUSDT - 4h - MA_Crossover (params 1) - spot\n",
            "  ✓ Resultado guardado: Net Profit: $-259489957.49, Sharpe: 0.31\n",
            "Ejecutando ETHUSDT - 4h - MA_Crossover (params 1) - spot\n",
            "  ✓ Resultado guardado: Net Profit: $-12.37, Sharpe: nan\n",
            "Ejecutando ETHUSDT - 4h - MA_Crossover (params 1) - futures_3x\n",
            "  ✓ Resultado guardado: Net Profit: $-12.37, Sharpe: nan\n",
            "Ejecutando ETHUSDT - 4h - MA_Crossover (params 1) - futures_3x\n",
            "  ✓ Resultado guardado: Net Profit: $1130.03, Sharpe: 0.9\n",
            "Ejecutando ETHUSDT - 4h - MA_Crossover (params 1) - futures_10x\n",
            "  ✓ Resultado guardado: Net Profit: $1130.03, Sharpe: 0.9\n",
            "Ejecutando ETHUSDT - 4h - MA_Crossover (params 1) - futures_10x\n",
            "  ✓ Resultado guardado: Net Profit: $-189.07, Sharpe: -0.56\n",
            "Ejecutando ETHUSDT - 4h - Bollinger_Breakout (params 0) - spot\n",
            "  ✓ Resultado guardado: Net Profit: $-189.07, Sharpe: -0.56\n",
            "Ejecutando ETHUSDT - 4h - Bollinger_Breakout (params 0) - spot\n",
            "  ✓ Resultado guardado: Net Profit: $-54.99, Sharpe: -3.26\n",
            "Ejecutando ETHUSDT - 4h - Bollinger_Breakout (params 0) - futures_3x\n",
            "  ✓ Resultado guardado: Net Profit: $-54.99, Sharpe: -3.26\n",
            "Ejecutando ETHUSDT - 4h - Bollinger_Breakout (params 0) - futures_3x\n",
            "  ⚠️ Detectado Net Profit extremo: $555236789.89\n",
            "  ✓ Valores normalizados a un máximo de $100,000.00 (factor: 0.0001801033)\n",
            "  ✓ Resultado guardado: Net Profit: $100000.0 (normalizado desde $555236789.89), Sharpe: 2.57\n",
            "Ejecutando ETHUSDT - 4h - Bollinger_Breakout (params 0) - futures_10x\n",
            "  ⚠️ Detectado Net Profit extremo: $555236789.89\n",
            "  ✓ Valores normalizados a un máximo de $100,000.00 (factor: 0.0001801033)\n",
            "  ✓ Resultado guardado: Net Profit: $100000.0 (normalizado desde $555236789.89), Sharpe: 2.57\n",
            "Ejecutando ETHUSDT - 4h - Bollinger_Breakout (params 0) - futures_10x\n",
            "  ⚠️ Detectado Net Profit extremo: $469114894.82\n",
            "  ✓ Valores normalizados a un máximo de $100,000.00 (factor: 0.0002131674)\n",
            "  ✓ Resultado guardado: Net Profit: $100000.0 (normalizado desde $469114894.82), Sharpe: 2.54\n",
            "Ejecutando ETHUSDT - 4h - Bollinger_Breakout (params 1) - spot\n",
            "  ⚠️ Detectado Net Profit extremo: $469114894.82\n",
            "  ✓ Valores normalizados a un máximo de $100,000.00 (factor: 0.0002131674)\n",
            "  ✓ Resultado guardado: Net Profit: $100000.0 (normalizado desde $469114894.82), Sharpe: 2.54\n",
            "Ejecutando ETHUSDT - 4h - Bollinger_Breakout (params 1) - spot\n",
            "  ✓ Resultado guardado: Net Profit: $-48.85, Sharpe: -3.36\n",
            "Ejecutando ETHUSDT - 4h - Bollinger_Breakout (params 1) - futures_3x\n",
            "  ✓ Resultado guardado: Net Profit: $-48.85, Sharpe: -3.36\n",
            "Ejecutando ETHUSDT - 4h - Bollinger_Breakout (params 1) - futures_3x\n",
            "  ⚠️ Detectado Net Profit extremo: $6569289.69\n",
            "  ✓ Valores normalizados a un máximo de $100,000.00 (factor: 0.0152223459)\n",
            "  ✓ Resultado guardado: Net Profit: $100000.0 (normalizado desde $6569289.69), Sharpe: 2.12\n",
            "Ejecutando ETHUSDT - 4h - Bollinger_Breakout (params 1) - futures_10x\n",
            "  ⚠️ Detectado Net Profit extremo: $6569289.69\n",
            "  ✓ Valores normalizados a un máximo de $100,000.00 (factor: 0.0152223459)\n",
            "  ✓ Resultado guardado: Net Profit: $100000.0 (normalizado desde $6569289.69), Sharpe: 2.12\n",
            "Ejecutando ETHUSDT - 4h - Bollinger_Breakout (params 1) - futures_10x\n",
            "  ✓ Resultado guardado: Net Profit: $-198.68, Sharpe: -0.59\n",
            "Ejecutando ETHUSDT - 4h - RSI_Reversion (params 0) - spot\n",
            "  ✓ Resultado guardado: Net Profit: $-198.68, Sharpe: -0.59\n",
            "Ejecutando ETHUSDT - 4h - RSI_Reversion (params 0) - spot\n",
            "  ✓ Resultado guardado: Net Profit: $-45.75, Sharpe: -2.04\n",
            "Ejecutando ETHUSDT - 4h - RSI_Reversion (params 0) - futures_3x\n",
            "  ✓ Resultado guardado: Net Profit: $-45.75, Sharpe: -2.04\n",
            "Ejecutando ETHUSDT - 4h - RSI_Reversion (params 0) - futures_3x\n",
            "  ✓ Resultado guardado: Net Profit: $-2762.41, Sharpe: 0.44\n",
            "Ejecutando ETHUSDT - 4h - RSI_Reversion (params 0) - futures_10x\n",
            "  ✓ Resultado guardado: Net Profit: $-2762.41, Sharpe: 0.44\n",
            "Ejecutando ETHUSDT - 4h - RSI_Reversion (params 0) - futures_10x\n",
            "  ✓ Resultado guardado: Net Profit: $-798.71, Sharpe: 0.25\n",
            "Ejecutando ETHUSDT - 4h - RSI_Reversion (params 1) - spot\n",
            "  ✓ Resultado guardado: Net Profit: $-798.71, Sharpe: 0.25\n",
            "Ejecutando ETHUSDT - 4h - RSI_Reversion (params 1) - spot\n",
            "  ✓ Resultado guardado: Net Profit: $-47.95, Sharpe: -4.03\n",
            "Ejecutando ETHUSDT - 4h - RSI_Reversion (params 1) - futures_3x\n",
            "  ✓ Resultado guardado: Net Profit: $-47.95, Sharpe: -4.03\n",
            "Ejecutando ETHUSDT - 4h - RSI_Reversion (params 1) - futures_3x\n",
            "  ✓ Resultado guardado: Net Profit: $-1958.8, Sharpe: 0.22\n",
            "Ejecutando ETHUSDT - 4h - RSI_Reversion (params 1) - futures_10x\n",
            "  ✓ Resultado guardado: Net Profit: $-1958.8, Sharpe: 0.22\n",
            "Ejecutando ETHUSDT - 4h - RSI_Reversion (params 1) - futures_10x\n",
            "  ✓ Resultado guardado: Net Profit: $-481.27, Sharpe: -0.25\n",
            "Ejecutando ETHUSDT - 4h - MACD_Momentum (params 0) - spot\n",
            "  ✓ Resultado guardado: Net Profit: $-481.27, Sharpe: -0.25\n",
            "Ejecutando ETHUSDT - 4h - MACD_Momentum (params 0) - spot\n",
            "  ✓ Resultado guardado: Net Profit: $-34.2, Sharpe: -1.75\n",
            "Ejecutando ETHUSDT - 4h - MACD_Momentum (params 0) - futures_3x\n",
            "  ✓ Resultado guardado: Net Profit: $-34.2, Sharpe: -1.75\n",
            "Ejecutando ETHUSDT - 4h - MACD_Momentum (params 0) - futures_3x\n",
            "  ✓ Resultado guardado: Net Profit: $-2.1399423122191216e+16, Sharpe: 2.86\n",
            "Ejecutando ETHUSDT - 4h - MACD_Momentum (params 0) - futures_10x\n",
            "  ✓ Resultado guardado: Net Profit: $-2.1399423122191216e+16, Sharpe: 2.86\n",
            "Ejecutando ETHUSDT - 4h - MACD_Momentum (params 0) - futures_10x\n",
            "  ✓ Resultado guardado: Net Profit: $-199.56, Sharpe: -0.44\n",
            "Ejecutando ETHUSDT - 4h - MACD_Momentum (params 1) - spot\n",
            "  ✓ Resultado guardado: Net Profit: $-199.56, Sharpe: -0.44\n",
            "Ejecutando ETHUSDT - 4h - MACD_Momentum (params 1) - spot\n",
            "  ✓ Resultado guardado: Net Profit: $-23.19, Sharpe: -0.87\n",
            "Ejecutando ETHUSDT - 4h - MACD_Momentum (params 1) - futures_3x\n",
            "  ✓ Resultado guardado: Net Profit: $-23.19, Sharpe: -0.87\n",
            "Ejecutando ETHUSDT - 4h - MACD_Momentum (params 1) - futures_3x\n",
            "  ✓ Resultado guardado: Net Profit: $-4960211172819501.0, Sharpe: 2.78\n",
            "Ejecutando ETHUSDT - 4h - MACD_Momentum (params 1) - futures_10x\n",
            "  ✓ Resultado guardado: Net Profit: $-4960211172819501.0, Sharpe: 2.78\n",
            "Ejecutando ETHUSDT - 4h - MACD_Momentum (params 1) - futures_10x\n",
            "  ✓ Resultado guardado: Net Profit: $-199.21, Sharpe: -0.45\n",
            "Ejecutando ETHUSDT - 4h - SR_Breakout (params 0) - spot\n",
            "  ✓ Resultado guardado: Net Profit: $-199.21, Sharpe: -0.45\n",
            "Ejecutando ETHUSDT - 4h - SR_Breakout (params 0) - spot\n",
            "  ✗ Error: Timestamp('2024-11-11 19:40:00')\n",
            "Ejecutando ETHUSDT - 4h - SR_Breakout (params 0) - futures_3x\n",
            "  ✗ Error: Timestamp('2024-11-11 19:40:00')\n",
            "Ejecutando ETHUSDT - 4h - SR_Breakout (params 0) - futures_3x\n",
            "  ✗ Error: Timestamp('2024-04-27 11:40:00')\n",
            "Ejecutando ETHUSDT - 4h - SR_Breakout (params 0) - futures_10x\n",
            "  ✗ Error: Timestamp('2024-04-27 11:40:00')\n",
            "Ejecutando ETHUSDT - 4h - SR_Breakout (params 0) - futures_10x\n",
            "  ✗ Error: Timestamp('2024-04-27 11:40:00')\n",
            "Ejecutando ETHUSDT - 4h - SR_Breakout (params 1) - spot\n",
            "  ✗ Error: Timestamp('2024-04-27 11:40:00')\n",
            "Ejecutando ETHUSDT - 4h - SR_Breakout (params 1) - spot\n",
            "  ✗ Error: Timestamp('2024-11-13 11:30:00')\n",
            "Ejecutando ETHUSDT - 4h - SR_Breakout (params 1) - futures_3x\n",
            "  ✗ Error: Timestamp('2024-11-13 11:30:00')\n",
            "Ejecutando ETHUSDT - 4h - SR_Breakout (params 1) - futures_3x\n",
            "  ✗ Error: Timestamp('2024-04-29 03:30:00')\n",
            "Ejecutando ETHUSDT - 4h - SR_Breakout (params 1) - futures_10x\n",
            "  ✗ Error: Timestamp('2024-04-29 03:30:00')\n",
            "Ejecutando ETHUSDT - 4h - SR_Breakout (params 1) - futures_10x\n",
            "  ✗ Error: Timestamp('2024-04-29 03:30:00')\n",
            "Ejecutando ETHUSDT - 1d - MA_Crossover (params 0) - spot\n",
            "  ✗ Error: Timestamp('2024-04-29 03:30:00')\n",
            "Ejecutando ETHUSDT - 1d - MA_Crossover (params 0) - spot\n",
            "  ✓ Resultado guardado: Net Profit: $15.55, Sharpe: 3.22\n",
            "Ejecutando ETHUSDT - 1d - MA_Crossover (params 0) - futures_3x\n",
            "  ✓ Resultado guardado: Net Profit: $15.55, Sharpe: 3.22\n",
            "Ejecutando ETHUSDT - 1d - MA_Crossover (params 0) - futures_3x\n",
            "  ✓ Resultado guardado: Net Profit: $12102.63, Sharpe: 2.43\n",
            "Ejecutando ETHUSDT - 1d - MA_Crossover (params 0) - futures_10x\n",
            "  ✓ Resultado guardado: Net Profit: $12102.63, Sharpe: 2.43\n",
            "Ejecutando ETHUSDT - 1d - MA_Crossover (params 0) - futures_10x\n",
            "  ✓ Resultado guardado: Net Profit: $-529.29, Sharpe: -0.31\n",
            "Ejecutando ETHUSDT - 1d - MA_Crossover (params 1) - spot\n",
            "  ✓ Resultado guardado: Net Profit: $-529.29, Sharpe: -0.31\n",
            "Ejecutando ETHUSDT - 1d - MA_Crossover (params 1) - spot\n",
            "  ✓ Resultado guardado: Net Profit: $-41.5, Sharpe: nan\n",
            "Ejecutando ETHUSDT - 1d - MA_Crossover (params 1) - futures_3x\n",
            "  ✓ Resultado guardado: Net Profit: $-41.5, Sharpe: nan\n",
            "Ejecutando ETHUSDT - 1d - MA_Crossover (params 1) - futures_3x\n",
            "  ✓ Resultado guardado: Net Profit: $-198.46, Sharpe: -0.94\n",
            "Ejecutando ETHUSDT - 1d - MA_Crossover (params 1) - futures_10x\n",
            "  ✓ Resultado guardado: Net Profit: $-198.46, Sharpe: -0.94\n",
            "Ejecutando ETHUSDT - 1d - MA_Crossover (params 1) - futures_10x\n",
            "  ✓ Resultado guardado: Net Profit: $-198.2, Sharpe: -0.64\n",
            "Ejecutando ETHUSDT - 1d - Bollinger_Breakout (params 0) - spot\n",
            "  ✓ Resultado guardado: Net Profit: $-198.2, Sharpe: -0.64\n",
            "Ejecutando ETHUSDT - 1d - Bollinger_Breakout (params 0) - spot\n",
            "  ✓ Resultado guardado: Net Profit: $12.66, Sharpe: 1.59\n",
            "Ejecutando ETHUSDT - 1d - Bollinger_Breakout (params 0) - futures_3x\n",
            "  ✓ Resultado guardado: Net Profit: $12.66, Sharpe: 1.59\n",
            "Ejecutando ETHUSDT - 1d - Bollinger_Breakout (params 0) - futures_3x\n",
            "  ✓ Resultado guardado: Net Profit: $12175.68, Sharpe: 2.75\n",
            "Ejecutando ETHUSDT - 1d - Bollinger_Breakout (params 0) - futures_10x\n",
            "  ✓ Resultado guardado: Net Profit: $12175.68, Sharpe: 2.75\n",
            "Ejecutando ETHUSDT - 1d - Bollinger_Breakout (params 0) - futures_10x\n",
            "  ✓ Resultado guardado: Net Profit: $-813.78, Sharpe: -0.41\n",
            "Ejecutando ETHUSDT - 1d - Bollinger_Breakout (params 1) - spot\n",
            "  ✓ Resultado guardado: Net Profit: $-813.78, Sharpe: -0.41\n",
            "Ejecutando ETHUSDT - 1d - Bollinger_Breakout (params 1) - spot\n",
            "  ✓ Resultado guardado: Net Profit: $-5.81, Sharpe: -0.18\n",
            "Ejecutando ETHUSDT - 1d - Bollinger_Breakout (params 1) - futures_3x\n",
            "  ✓ Resultado guardado: Net Profit: $-5.81, Sharpe: -0.18\n",
            "Ejecutando ETHUSDT - 1d - Bollinger_Breakout (params 1) - futures_3x\n",
            "  ✓ Resultado guardado: Net Profit: $1878.53, Sharpe: 2.09\n",
            "Ejecutando ETHUSDT - 1d - Bollinger_Breakout (params 1) - futures_10x\n",
            "  ✓ Resultado guardado: Net Profit: $1878.53, Sharpe: 2.09\n",
            "Ejecutando ETHUSDT - 1d - Bollinger_Breakout (params 1) - futures_10x\n",
            "  ✓ Resultado guardado: Net Profit: $5314.41, Sharpe: 2.24\n",
            "Ejecutando ETHUSDT - 1d - RSI_Reversion (params 0) - spot\n",
            "  ✓ Resultado guardado: Net Profit: $5314.41, Sharpe: 2.24\n",
            "Ejecutando ETHUSDT - 1d - RSI_Reversion (params 0) - spot\n",
            "  ✓ Resultado guardado: Net Profit: $-32.99, Sharpe: -1.83\n",
            "Ejecutando ETHUSDT - 1d - RSI_Reversion (params 0) - futures_3x\n",
            "  ✓ Resultado guardado: Net Profit: $-32.99, Sharpe: -1.83\n",
            "Ejecutando ETHUSDT - 1d - RSI_Reversion (params 0) - futures_3x\n",
            "  ✓ Resultado guardado: Net Profit: $-1541.54, Sharpe: -0.15\n",
            "Ejecutando ETHUSDT - 1d - RSI_Reversion (params 0) - futures_10x\n",
            "  ✓ Resultado guardado: Net Profit: $-1541.54, Sharpe: -0.15\n",
            "Ejecutando ETHUSDT - 1d - RSI_Reversion (params 0) - futures_10x\n",
            "  ✓ Resultado guardado: Net Profit: $-448.6, Sharpe: -0.06\n",
            "Ejecutando ETHUSDT - 1d - RSI_Reversion (params 1) - spot\n",
            "  ✓ Resultado guardado: Net Profit: $-448.6, Sharpe: -0.06\n",
            "Ejecutando ETHUSDT - 1d - RSI_Reversion (params 1) - spot\n",
            "  ✓ Resultado guardado: Net Profit: $31.03, Sharpe: 5.71\n",
            "Ejecutando ETHUSDT - 1d - RSI_Reversion (params 1) - futures_3x\n",
            "  ✓ Resultado guardado: Net Profit: $31.03, Sharpe: 5.71\n",
            "Ejecutando ETHUSDT - 1d - RSI_Reversion (params 1) - futures_3x\n",
            "  ✓ Resultado guardado: Net Profit: $5194.94, Sharpe: 2.17\n",
            "Ejecutando ETHUSDT - 1d - RSI_Reversion (params 1) - futures_10x\n",
            "  ✓ Resultado guardado: Net Profit: $5194.94, Sharpe: 2.17\n",
            "Ejecutando ETHUSDT - 1d - RSI_Reversion (params 1) - futures_10x\n",
            "  ✓ Resultado guardado: Net Profit: $-650.97, Sharpe: 0.37\n",
            "Ejecutando ETHUSDT - 1d - MACD_Momentum (params 0) - spot\n",
            "  ✓ Resultado guardado: Net Profit: $-650.97, Sharpe: 0.37\n",
            "Ejecutando ETHUSDT - 1d - MACD_Momentum (params 0) - spot\n",
            "  ✓ Resultado guardado: Net Profit: $-17.17, Sharpe: -0.72\n",
            "Ejecutando ETHUSDT - 1d - MACD_Momentum (params 0) - futures_3x\n",
            "  ✓ Resultado guardado: Net Profit: $-17.17, Sharpe: -0.72\n",
            "Ejecutando ETHUSDT - 1d - MACD_Momentum (params 0) - futures_3x\n",
            "  ✓ Resultado guardado: Net Profit: $-390.63, Sharpe: -0.27\n",
            "Ejecutando ETHUSDT - 1d - MACD_Momentum (params 0) - futures_10x\n",
            "  ✓ Resultado guardado: Net Profit: $-390.63, Sharpe: -0.27\n",
            "Ejecutando ETHUSDT - 1d - MACD_Momentum (params 0) - futures_10x\n",
            "  ✓ Resultado guardado: Net Profit: $-198.8, Sharpe: -0.93\n",
            "Ejecutando ETHUSDT - 1d - MACD_Momentum (params 1) - spot\n",
            "  ✓ Resultado guardado: Net Profit: $-198.8, Sharpe: -0.93\n",
            "Ejecutando ETHUSDT - 1d - MACD_Momentum (params 1) - spot\n",
            "  ✓ Resultado guardado: Net Profit: $-37.11, Sharpe: -2.6\n",
            "Ejecutando ETHUSDT - 1d - MACD_Momentum (params 1) - futures_3x\n",
            "  ✓ Resultado guardado: Net Profit: $-37.11, Sharpe: -2.6\n",
            "Ejecutando ETHUSDT - 1d - MACD_Momentum (params 1) - futures_3x\n",
            "  ✓ Resultado guardado: Net Profit: $-1435.15, Sharpe: 0.26\n",
            "Ejecutando ETHUSDT - 1d - MACD_Momentum (params 1) - futures_10x\n",
            "  ✓ Resultado guardado: Net Profit: $-1435.15, Sharpe: 0.26\n",
            "Ejecutando ETHUSDT - 1d - MACD_Momentum (params 1) - futures_10x\n",
            "  ✓ Resultado guardado: Net Profit: $-198.34, Sharpe: -0.93\n",
            "Ejecutando ETHUSDT - 1d - SR_Breakout (params 0) - spot\n",
            "  ✓ Resultado guardado: Net Profit: $-198.34, Sharpe: -0.93\n",
            "Ejecutando ETHUSDT - 1d - SR_Breakout (params 0) - spot\n",
            "  ✗ Error: Timestamp('2024-05-13 23:40:00')\n",
            "Ejecutando ETHUSDT - 1d - SR_Breakout (params 0) - futures_3x\n",
            "  ✗ Error: Timestamp('2024-05-13 23:40:00')\n",
            "Ejecutando ETHUSDT - 1d - SR_Breakout (params 0) - futures_3x\n",
            "  ✗ Error: Timestamp('2024-05-14 23:40:00')\n",
            "Ejecutando ETHUSDT - 1d - SR_Breakout (params 0) - futures_10x\n",
            "  ✗ Error: Timestamp('2024-05-14 23:40:00')\n",
            "Ejecutando ETHUSDT - 1d - SR_Breakout (params 0) - futures_10x\n",
            "  ✗ Error: Timestamp('2024-05-14 23:40:00')\n",
            "Ejecutando ETHUSDT - 1d - SR_Breakout (params 1) - spot\n",
            "  ✗ Error: Timestamp('2024-05-14 23:40:00')\n",
            "Ejecutando ETHUSDT - 1d - SR_Breakout (params 1) - spot\n",
            "  ✗ Error: Timestamp('2024-05-23 23:30:00')\n",
            "Ejecutando ETHUSDT - 1d - SR_Breakout (params 1) - futures_3x\n",
            "  ✗ Error: Timestamp('2024-05-23 23:30:00')\n",
            "Ejecutando ETHUSDT - 1d - SR_Breakout (params 1) - futures_3x\n",
            "  ✗ Error: Timestamp('2024-05-24 23:30:00')\n",
            "Ejecutando ETHUSDT - 1d - SR_Breakout (params 1) - futures_10x\n",
            "  ✗ Error: Timestamp('2024-05-24 23:30:00')\n",
            "Ejecutando ETHUSDT - 1d - SR_Breakout (params 1) - futures_10x\n",
            "  ✗ Error: Timestamp('2024-05-24 23:30:00')\n",
            "Ejecutando SOLUSDT - 1h - MA_Crossover (params 0) - spot\n",
            "  ✗ Error: Timestamp('2024-05-24 23:30:00')\n",
            "Ejecutando SOLUSDT - 1h - MA_Crossover (params 0) - spot\n",
            "  ✓ Resultado guardado: Net Profit: $-8.28, Sharpe: -1.45\n",
            "Ejecutando SOLUSDT - 1h - MA_Crossover (params 0) - futures_3x\n",
            "  ✓ Resultado guardado: Net Profit: $-8.28, Sharpe: -1.45\n",
            "Ejecutando SOLUSDT - 1h - MA_Crossover (params 0) - futures_3x\n",
            "  ⚠️ Detectado Net Profit extremo: $22794607.45\n",
            "  ✓ Valores normalizados a un máximo de $100,000.00 (factor: 0.0043870025)\n",
            "  ✓ Resultado guardado: Net Profit: $100000.0 (normalizado desde $22794607.45), Sharpe: 2.1\n",
            "Ejecutando SOLUSDT - 1h - MA_Crossover (params 0) - futures_10x\n",
            "  ⚠️ Detectado Net Profit extremo: $22794607.45\n",
            "  ✓ Valores normalizados a un máximo de $100,000.00 (factor: 0.0043870025)\n",
            "  ✓ Resultado guardado: Net Profit: $100000.0 (normalizado desde $22794607.45), Sharpe: 2.1\n",
            "Ejecutando SOLUSDT - 1h - MA_Crossover (params 0) - futures_10x\n",
            "  ⚠️ Detectado Net Profit extremo: $10645276.32\n",
            "  ✓ Valores normalizados a un máximo de $100,000.00 (factor: 0.0093938379)\n",
            "  ✓ Resultado guardado: Net Profit: $100000.0 (normalizado desde $10645276.32), Sharpe: 1.72\n",
            "Ejecutando SOLUSDT - 1h - MA_Crossover (params 1) - spot\n",
            "  ⚠️ Detectado Net Profit extremo: $10645276.32\n",
            "  ✓ Valores normalizados a un máximo de $100,000.00 (factor: 0.0093938379)\n",
            "  ✓ Resultado guardado: Net Profit: $100000.0 (normalizado desde $10645276.32), Sharpe: 1.72\n",
            "Ejecutando SOLUSDT - 1h - MA_Crossover (params 1) - spot\n",
            "  ✓ Resultado guardado: Net Profit: $-1.66, Sharpe: -4.77\n",
            "Ejecutando SOLUSDT - 1h - MA_Crossover (params 1) - futures_3x\n",
            "  ✓ Resultado guardado: Net Profit: $-1.66, Sharpe: -4.77\n",
            "Ejecutando SOLUSDT - 1h - MA_Crossover (params 1) - futures_3x\n",
            "  ✓ Resultado guardado: Net Profit: $652.63, Sharpe: 0.85\n",
            "Ejecutando SOLUSDT - 1h - MA_Crossover (params 1) - futures_10x\n",
            "  ✓ Resultado guardado: Net Profit: $652.63, Sharpe: 0.85\n",
            "Ejecutando SOLUSDT - 1h - MA_Crossover (params 1) - futures_10x\n",
            "  ✓ Resultado guardado: Net Profit: $434.89, Sharpe: 0.69\n",
            "Ejecutando SOLUSDT - 1h - Bollinger_Breakout (params 0) - spot\n",
            "  ✓ Resultado guardado: Net Profit: $434.89, Sharpe: 0.69\n",
            "Ejecutando SOLUSDT - 1h - Bollinger_Breakout (params 0) - spot\n",
            "  ✓ Resultado guardado: Net Profit: $-14.14, Sharpe: -1.14\n",
            "Ejecutando SOLUSDT - 1h - Bollinger_Breakout (params 0) - futures_3x\n",
            "  ✓ Resultado guardado: Net Profit: $-14.14, Sharpe: -1.14\n",
            "Ejecutando SOLUSDT - 1h - Bollinger_Breakout (params 0) - futures_3x\n",
            "  ⚠️ Detectado Net Profit extremo: $212277259.43\n",
            "  ✓ Valores normalizados a un máximo de $100,000.00 (factor: 0.0004710820)\n",
            "  ✓ Resultado guardado: Net Profit: $100000.0 (normalizado desde $212277259.43), Sharpe: 2.43\n",
            "Ejecutando SOLUSDT - 1h - Bollinger_Breakout (params 0) - futures_10x\n",
            "  ⚠️ Detectado Net Profit extremo: $212277259.43\n",
            "  ✓ Valores normalizados a un máximo de $100,000.00 (factor: 0.0004710820)\n",
            "  ✓ Resultado guardado: Net Profit: $100000.0 (normalizado desde $212277259.43), Sharpe: 2.43\n",
            "Ejecutando SOLUSDT - 1h - Bollinger_Breakout (params 0) - futures_10x\n",
            "  ⚠️ Detectado Net Profit extremo: $148041764.63\n",
            "  ✓ Valores normalizados a un máximo de $100,000.00 (factor: 0.0006754851)\n",
            "  ✓ Resultado guardado: Net Profit: $100000.0 (normalizado desde $148041764.63), Sharpe: 2.47\n",
            "Ejecutando SOLUSDT - 1h - Bollinger_Breakout (params 1) - spot\n",
            "  ⚠️ Detectado Net Profit extremo: $148041764.63\n",
            "  ✓ Valores normalizados a un máximo de $100,000.00 (factor: 0.0006754851)\n",
            "  ✓ Resultado guardado: Net Profit: $100000.0 (normalizado desde $148041764.63), Sharpe: 2.47\n",
            "Ejecutando SOLUSDT - 1h - Bollinger_Breakout (params 1) - spot\n",
            "  ✓ Resultado guardado: Net Profit: $1.87, Sharpe: 0.53\n",
            "Ejecutando SOLUSDT - 1h - Bollinger_Breakout (params 1) - futures_3x\n",
            "  ✓ Resultado guardado: Net Profit: $1.87, Sharpe: 0.53\n",
            "Ejecutando SOLUSDT - 1h - Bollinger_Breakout (params 1) - futures_3x\n",
            "  ⚠️ Detectado Net Profit extremo: $2600541.14\n",
            "  ✓ Valores normalizados a un máximo de $100,000.00 (factor: 0.0384535351)\n",
            "  ✓ Resultado guardado: Net Profit: $100000.0 (normalizado desde $2600541.14), Sharpe: 2.02\n",
            "Ejecutando SOLUSDT - 1h - Bollinger_Breakout (params 1) - futures_10x\n",
            "  ⚠️ Detectado Net Profit extremo: $2600541.14\n",
            "  ✓ Valores normalizados a un máximo de $100,000.00 (factor: 0.0384535351)\n",
            "  ✓ Resultado guardado: Net Profit: $100000.0 (normalizado desde $2600541.14), Sharpe: 2.02\n",
            "Ejecutando SOLUSDT - 1h - Bollinger_Breakout (params 1) - futures_10x\n",
            "  ⚠️ Detectado Net Profit extremo: $1126425.26\n",
            "  ✓ Valores normalizados a un máximo de $100,000.00 (factor: 0.0887764182)\n",
            "  ✓ Resultado guardado: Net Profit: $100000.0 (normalizado desde $1126425.26), Sharpe: 1.96\n",
            "Ejecutando SOLUSDT - 1h - RSI_Reversion (params 0) - spot\n",
            "  ⚠️ Detectado Net Profit extremo: $1126425.26\n",
            "  ✓ Valores normalizados a un máximo de $100,000.00 (factor: 0.0887764182)\n",
            "  ✓ Resultado guardado: Net Profit: $100000.0 (normalizado desde $1126425.26), Sharpe: 1.96\n",
            "Ejecutando SOLUSDT - 1h - RSI_Reversion (params 0) - spot\n",
            "  ✓ Resultado guardado: Net Profit: $6.3, Sharpe: 0.48\n",
            "Ejecutando SOLUSDT - 1h - RSI_Reversion (params 0) - futures_3x\n",
            "  ✓ Resultado guardado: Net Profit: $6.3, Sharpe: 0.48\n",
            "Ejecutando SOLUSDT - 1h - RSI_Reversion (params 0) - futures_3x\n",
            "  ✓ Resultado guardado: Net Profit: $11798.09, Sharpe: 1.18\n",
            "Ejecutando SOLUSDT - 1h - RSI_Reversion (params 0) - futures_10x\n",
            "  ✓ Resultado guardado: Net Profit: $11798.09, Sharpe: 1.18\n",
            "Ejecutando SOLUSDT - 1h - RSI_Reversion (params 0) - futures_10x\n",
            "  ✓ Resultado guardado: Net Profit: $-195.79, Sharpe: -0.57\n",
            "Ejecutando SOLUSDT - 1h - RSI_Reversion (params 1) - spot\n",
            "  ✓ Resultado guardado: Net Profit: $-195.79, Sharpe: -0.57\n",
            "Ejecutando SOLUSDT - 1h - RSI_Reversion (params 1) - spot\n",
            "  ✓ Resultado guardado: Net Profit: $-1.87, Sharpe: 0.15\n",
            "Ejecutando SOLUSDT - 1h - RSI_Reversion (params 1) - futures_3x\n",
            "  ✓ Resultado guardado: Net Profit: $-1.87, Sharpe: 0.15\n",
            "Ejecutando SOLUSDT - 1h - RSI_Reversion (params 1) - futures_3x\n",
            "  ✓ Resultado guardado: Net Profit: $10.19, Sharpe: 0.37\n",
            "Ejecutando SOLUSDT - 1h - RSI_Reversion (params 1) - futures_10x\n",
            "  ✓ Resultado guardado: Net Profit: $10.19, Sharpe: 0.37\n",
            "Ejecutando SOLUSDT - 1h - RSI_Reversion (params 1) - futures_10x\n",
            "  ✓ Resultado guardado: Net Profit: $-195.96, Sharpe: -0.59\n",
            "Ejecutando SOLUSDT - 1h - MACD_Momentum (params 0) - spot\n",
            "  ✓ Resultado guardado: Net Profit: $-195.96, Sharpe: -0.59\n",
            "Ejecutando SOLUSDT - 1h - MACD_Momentum (params 0) - spot\n",
            "  ✓ Resultado guardado: Net Profit: $-19.32, Sharpe: -2.29\n",
            "Ejecutando SOLUSDT - 1h - MACD_Momentum (params 0) - futures_3x\n",
            "  ✓ Resultado guardado: Net Profit: $-19.32, Sharpe: -2.29\n",
            "Ejecutando SOLUSDT - 1h - MACD_Momentum (params 0) - futures_3x\n",
            "  ⚠️ Detectado Net Profit extremo: $2.754434380912909e+24\n",
            "  ✓ Valores normalizados a un máximo de $100,000.00 (factor: 0.0000000000)\n",
            "  ✓ Resultado guardado: Net Profit: $100000.0 (normalizado desde $2.754434380912909e+24), Sharpe: 4.38\n",
            "Ejecutando SOLUSDT - 1h - MACD_Momentum (params 0) - futures_10x\n",
            "  ⚠️ Detectado Net Profit extremo: $2.754434380912909e+24\n",
            "  ✓ Valores normalizados a un máximo de $100,000.00 (factor: 0.0000000000)\n",
            "  ✓ Resultado guardado: Net Profit: $100000.0 (normalizado desde $2.754434380912909e+24), Sharpe: 4.38\n",
            "Ejecutando SOLUSDT - 1h - MACD_Momentum (params 0) - futures_10x\n",
            "  ✓ Resultado guardado: Net Profit: $-207925.97, Sharpe: 1.03\n",
            "Ejecutando SOLUSDT - 1h - MACD_Momentum (params 1) - spot\n",
            "  ✓ Resultado guardado: Net Profit: $-207925.97, Sharpe: 1.03\n",
            "Ejecutando SOLUSDT - 1h - MACD_Momentum (params 1) - spot\n",
            "  ✓ Resultado guardado: Net Profit: $-32.71, Sharpe: -2.96\n",
            "Ejecutando SOLUSDT - 1h - MACD_Momentum (params 1) - futures_3x\n",
            "  ✓ Resultado guardado: Net Profit: $-32.71, Sharpe: -2.96\n",
            "Ejecutando SOLUSDT - 1h - MACD_Momentum (params 1) - futures_3x\n",
            "  ⚠️ Detectado Net Profit extremo: $1.916659572253183e+32\n",
            "  ✓ Valores normalizados a un máximo de $100,000.00 (factor: 0.0000000000)\n",
            "  ✓ Resultado guardado: Net Profit: $100000.0 (normalizado desde $1.916659572253183e+32), Sharpe: 5.17\n",
            "Ejecutando SOLUSDT - 1h - MACD_Momentum (params 1) - futures_10x\n",
            "  ⚠️ Detectado Net Profit extremo: $1.916659572253183e+32\n",
            "  ✓ Valores normalizados a un máximo de $100,000.00 (factor: 0.0000000000)\n",
            "  ✓ Resultado guardado: Net Profit: $100000.0 (normalizado desde $1.916659572253183e+32), Sharpe: 5.17\n",
            "Ejecutando SOLUSDT - 1h - MACD_Momentum (params 1) - futures_10x\n",
            "  ✓ Resultado guardado: Net Profit: $-4149.64, Sharpe: 0.01\n",
            "Ejecutando SOLUSDT - 1h - SR_Breakout (params 0) - spot\n",
            "  ✓ Resultado guardado: Net Profit: $-4149.64, Sharpe: 0.01\n",
            "Ejecutando SOLUSDT - 1h - SR_Breakout (params 0) - spot\n",
            "  ✗ Error: Timestamp('2025-03-14 04:40:00')\n",
            "Ejecutando SOLUSDT - 1h - SR_Breakout (params 0) - futures_3x\n",
            "  ✗ Error: Timestamp('2025-03-14 04:40:00')\n",
            "Ejecutando SOLUSDT - 1h - SR_Breakout (params 0) - futures_3x\n",
            "  ✗ Error: Timestamp('2024-04-24 20:40:00')\n",
            "Ejecutando SOLUSDT - 1h - SR_Breakout (params 0) - futures_10x\n",
            "  ✗ Error: Timestamp('2024-04-24 20:40:00')\n",
            "Ejecutando SOLUSDT - 1h - SR_Breakout (params 0) - futures_10x\n",
            "  ✗ Error: Timestamp('2024-04-24 20:40:00')\n",
            "Ejecutando SOLUSDT - 1h - SR_Breakout (params 1) - spot\n",
            "  ✗ Error: Timestamp('2024-04-24 20:40:00')\n",
            "Ejecutando SOLUSDT - 1h - SR_Breakout (params 1) - spot\n",
            "  ✗ Error: Timestamp('2025-03-14 14:30:00')\n",
            "Ejecutando SOLUSDT - 1h - SR_Breakout (params 1) - futures_3x\n",
            "  ✗ Error: Timestamp('2025-03-14 14:30:00')\n",
            "Ejecutando SOLUSDT - 1h - SR_Breakout (params 1) - futures_3x\n",
            "  ✗ Error: Timestamp('2024-04-25 06:30:00')\n",
            "Ejecutando SOLUSDT - 1h - SR_Breakout (params 1) - futures_10x\n",
            "  ✗ Error: Timestamp('2024-04-25 06:30:00')\n",
            "Ejecutando SOLUSDT - 1h - SR_Breakout (params 1) - futures_10x\n",
            "  ✗ Error: Timestamp('2024-04-25 06:30:00')\n",
            "Ejecutando SOLUSDT - 4h - MA_Crossover (params 0) - spot\n",
            "  ✗ Error: Timestamp('2024-04-25 06:30:00')\n",
            "Ejecutando SOLUSDT - 4h - MA_Crossover (params 0) - spot\n",
            "  ✓ Resultado guardado: Net Profit: $-23.09, Sharpe: -4.35\n",
            "Ejecutando SOLUSDT - 4h - MA_Crossover (params 0) - futures_3x\n",
            "  ✓ Resultado guardado: Net Profit: $-23.09, Sharpe: -4.35\n",
            "Ejecutando SOLUSDT - 4h - MA_Crossover (params 0) - futures_3x\n",
            "  ⚠️ Detectado Net Profit extremo: $421131968.35\n",
            "  ✓ Valores normalizados a un máximo de $100,000.00 (factor: 0.0002374553)\n",
            "  ✓ Resultado guardado: Net Profit: $100000.0 (normalizado desde $421131968.35), Sharpe: 2.31\n",
            "Ejecutando SOLUSDT - 4h - MA_Crossover (params 0) - futures_10x\n",
            "  ⚠️ Detectado Net Profit extremo: $421131968.35\n",
            "  ✓ Valores normalizados a un máximo de $100,000.00 (factor: 0.0002374553)\n",
            "  ✓ Resultado guardado: Net Profit: $100000.0 (normalizado desde $421131968.35), Sharpe: 2.31\n",
            "Ejecutando SOLUSDT - 4h - MA_Crossover (params 0) - futures_10x\n",
            "  ✓ Resultado guardado: Net Profit: $-290.2, Sharpe: -0.44\n",
            "Ejecutando SOLUSDT - 4h - MA_Crossover (params 1) - spot\n",
            "  ✓ Resultado guardado: Net Profit: $-290.2, Sharpe: -0.44\n",
            "Ejecutando SOLUSDT - 4h - MA_Crossover (params 1) - spot\n",
            "  ✓ Resultado guardado: Net Profit: $-26.83, Sharpe: -7.68\n",
            "Ejecutando SOLUSDT - 4h - MA_Crossover (params 1) - futures_3x\n",
            "  ✓ Resultado guardado: Net Profit: $-26.83, Sharpe: -7.68\n",
            "Ejecutando SOLUSDT - 4h - MA_Crossover (params 1) - futures_3x\n",
            "  ✓ Resultado guardado: Net Profit: $1091.36, Sharpe: 0.93\n",
            "Ejecutando SOLUSDT - 4h - MA_Crossover (params 1) - futures_10x\n",
            "  ✓ Resultado guardado: Net Profit: $1091.36, Sharpe: 0.93\n",
            "Ejecutando SOLUSDT - 4h - MA_Crossover (params 1) - futures_10x\n",
            "  ✓ Resultado guardado: Net Profit: $-188.57, Sharpe: -0.53\n",
            "Ejecutando SOLUSDT - 4h - Bollinger_Breakout (params 0) - spot\n",
            "  ✓ Resultado guardado: Net Profit: $-188.57, Sharpe: -0.53\n",
            "Ejecutando SOLUSDT - 4h - Bollinger_Breakout (params 0) - spot\n",
            "  ✓ Resultado guardado: Net Profit: $-11.44, Sharpe: -0.03\n",
            "Ejecutando SOLUSDT - 4h - Bollinger_Breakout (params 0) - futures_3x\n",
            "  ✓ Resultado guardado: Net Profit: $-11.44, Sharpe: -0.03\n",
            "Ejecutando SOLUSDT - 4h - Bollinger_Breakout (params 0) - futures_3x\n",
            "  ⚠️ Detectado Net Profit extremo: $27678523.51\n",
            "  ✓ Valores normalizados a un máximo de $100,000.00 (factor: 0.0036129095)\n",
            "  ✓ Resultado guardado: Net Profit: $100000.0 (normalizado desde $27678523.51), Sharpe: 2.16\n",
            "Ejecutando SOLUSDT - 4h - Bollinger_Breakout (params 0) - futures_10x\n",
            "  ⚠️ Detectado Net Profit extremo: $27678523.51\n",
            "  ✓ Valores normalizados a un máximo de $100,000.00 (factor: 0.0036129095)\n",
            "  ✓ Resultado guardado: Net Profit: $100000.0 (normalizado desde $27678523.51), Sharpe: 2.16\n",
            "Ejecutando SOLUSDT - 4h - Bollinger_Breakout (params 0) - futures_10x\n",
            "  ✓ Resultado guardado: Net Profit: $-200.79, Sharpe: -0.48\n",
            "Ejecutando SOLUSDT - 4h - Bollinger_Breakout (params 1) - spot\n",
            "  ✓ Resultado guardado: Net Profit: $-200.79, Sharpe: -0.48\n",
            "Ejecutando SOLUSDT - 4h - Bollinger_Breakout (params 1) - spot\n",
            "  ✓ Resultado guardado: Net Profit: $-19.73, Sharpe: -0.63\n",
            "Ejecutando SOLUSDT - 4h - Bollinger_Breakout (params 1) - futures_3x\n",
            "  ✓ Resultado guardado: Net Profit: $-19.73, Sharpe: -0.63\n",
            "Ejecutando SOLUSDT - 4h - Bollinger_Breakout (params 1) - futures_3x\n",
            "  ✓ Resultado guardado: Net Profit: $-1892.66, Sharpe: 0.0\n",
            "Ejecutando SOLUSDT - 4h - Bollinger_Breakout (params 1) - futures_10x\n",
            "  ✓ Resultado guardado: Net Profit: $-1892.66, Sharpe: 0.0\n",
            "Ejecutando SOLUSDT - 4h - Bollinger_Breakout (params 1) - futures_10x\n",
            "  ✓ Resultado guardado: Net Profit: $-200.17, Sharpe: -0.43\n",
            "Ejecutando SOLUSDT - 4h - RSI_Reversion (params 0) - spot\n",
            "  ✓ Resultado guardado: Net Profit: $-200.17, Sharpe: -0.43\n",
            "Ejecutando SOLUSDT - 4h - RSI_Reversion (params 0) - spot\n",
            "  ✓ Resultado guardado: Net Profit: $-0.84, Sharpe: 0.42\n",
            "Ejecutando SOLUSDT - 4h - RSI_Reversion (params 0) - futures_3x\n",
            "  ✓ Resultado guardado: Net Profit: $-0.84, Sharpe: 0.42\n",
            "Ejecutando SOLUSDT - 4h - RSI_Reversion (params 0) - futures_3x\n",
            "  ✓ Resultado guardado: Net Profit: $-7551.07, Sharpe: 0.21\n",
            "Ejecutando SOLUSDT - 4h - RSI_Reversion (params 0) - futures_10x\n",
            "  ✓ Resultado guardado: Net Profit: $-7551.07, Sharpe: 0.21\n",
            "Ejecutando SOLUSDT - 4h - RSI_Reversion (params 0) - futures_10x\n",
            "  ✓ Resultado guardado: Net Profit: $-198.57, Sharpe: -0.51\n",
            "Ejecutando SOLUSDT - 4h - RSI_Reversion (params 1) - spot\n",
            "  ✓ Resultado guardado: Net Profit: $-198.57, Sharpe: -0.51\n",
            "Ejecutando SOLUSDT - 4h - RSI_Reversion (params 1) - spot\n",
            "  ✓ Resultado guardado: Net Profit: $35.29, Sharpe: 2.09\n",
            "Ejecutando SOLUSDT - 4h - RSI_Reversion (params 1) - futures_3x\n",
            "  ✓ Resultado guardado: Net Profit: $35.29, Sharpe: 2.09\n",
            "Ejecutando SOLUSDT - 4h - RSI_Reversion (params 1) - futures_3x\n",
            "  ✓ Resultado guardado: Net Profit: $5536.67, Sharpe: 1.2\n",
            "Ejecutando SOLUSDT - 4h - RSI_Reversion (params 1) - futures_10x\n",
            "  ✓ Resultado guardado: Net Profit: $5536.67, Sharpe: 1.2\n",
            "Ejecutando SOLUSDT - 4h - RSI_Reversion (params 1) - futures_10x\n",
            "  ✓ Resultado guardado: Net Profit: $-198.57, Sharpe: -0.51\n",
            "Ejecutando SOLUSDT - 4h - MACD_Momentum (params 0) - spot\n",
            "  ✓ Resultado guardado: Net Profit: $-198.57, Sharpe: -0.51\n",
            "Ejecutando SOLUSDT - 4h - MACD_Momentum (params 0) - spot\n",
            "  ✓ Resultado guardado: Net Profit: $-17.33, Sharpe: -0.56\n",
            "Ejecutando SOLUSDT - 4h - MACD_Momentum (params 0) - futures_3x\n",
            "  ✓ Resultado guardado: Net Profit: $-17.33, Sharpe: -0.56\n",
            "Ejecutando SOLUSDT - 4h - MACD_Momentum (params 0) - futures_3x\n",
            "  ✓ Resultado guardado: Net Profit: $-3.61361847427572e+16, Sharpe: 2.58\n",
            "Ejecutando SOLUSDT - 4h - MACD_Momentum (params 0) - futures_10x\n",
            "  ✓ Resultado guardado: Net Profit: $-3.61361847427572e+16, Sharpe: 2.58\n",
            "Ejecutando SOLUSDT - 4h - MACD_Momentum (params 0) - futures_10x\n",
            "  ✓ Resultado guardado: Net Profit: $-1505.73, Sharpe: -0.02\n",
            "Ejecutando SOLUSDT - 4h - MACD_Momentum (params 1) - spot\n",
            "  ✓ Resultado guardado: Net Profit: $-1505.73, Sharpe: -0.02\n",
            "Ejecutando SOLUSDT - 4h - MACD_Momentum (params 1) - spot\n",
            "  ✓ Resultado guardado: Net Profit: $-35.98, Sharpe: -1.7\n",
            "Ejecutando SOLUSDT - 4h - MACD_Momentum (params 1) - futures_3x\n",
            "  ✓ Resultado guardado: Net Profit: $-35.98, Sharpe: -1.7\n",
            "Ejecutando SOLUSDT - 4h - MACD_Momentum (params 1) - futures_3x\n",
            "  ⚠️ Detectado Net Profit extremo: $1.5062338547130567e+30\n",
            "  ✓ Valores normalizados a un máximo de $100,000.00 (factor: 0.0000000000)\n",
            "  ✓ Resultado guardado: Net Profit: $100000.0 (normalizado desde $1.5062338547130567e+30), Sharpe: 4.28\n",
            "Ejecutando SOLUSDT - 4h - MACD_Momentum (params 1) - futures_10x\n",
            "  ⚠️ Detectado Net Profit extremo: $1.5062338547130567e+30\n",
            "  ✓ Valores normalizados a un máximo de $100,000.00 (factor: 0.0000000000)\n",
            "  ✓ Resultado guardado: Net Profit: $100000.0 (normalizado desde $1.5062338547130567e+30), Sharpe: 4.28\n",
            "Ejecutando SOLUSDT - 4h - MACD_Momentum (params 1) - futures_10x\n",
            "  ✓ Resultado guardado: Net Profit: $-1291.89, Sharpe: 0.32\n",
            "Ejecutando SOLUSDT - 4h - SR_Breakout (params 0) - spot\n",
            "  ✓ Resultado guardado: Net Profit: $-1291.89, Sharpe: 0.32\n",
            "Ejecutando SOLUSDT - 4h - SR_Breakout (params 0) - spot\n",
            "  ✗ Error: Timestamp('2024-11-11 19:40:00')\n",
            "Ejecutando SOLUSDT - 4h - SR_Breakout (params 0) - futures_3x\n",
            "  ✗ Error: Timestamp('2024-11-11 19:40:00')\n",
            "Ejecutando SOLUSDT - 4h - SR_Breakout (params 0) - futures_3x\n",
            "  ✗ Error: Timestamp('2024-04-27 11:40:00')\n",
            "Ejecutando SOLUSDT - 4h - SR_Breakout (params 0) - futures_10x\n",
            "  ✗ Error: Timestamp('2024-04-27 11:40:00')\n",
            "Ejecutando SOLUSDT - 4h - SR_Breakout (params 0) - futures_10x\n",
            "  ✗ Error: Timestamp('2024-04-27 11:40:00')\n",
            "Ejecutando SOLUSDT - 4h - SR_Breakout (params 1) - spot\n",
            "  ✗ Error: Timestamp('2024-04-27 11:40:00')\n",
            "Ejecutando SOLUSDT - 4h - SR_Breakout (params 1) - spot\n",
            "  ✗ Error: Timestamp('2024-11-13 11:30:00')\n",
            "Ejecutando SOLUSDT - 4h - SR_Breakout (params 1) - futures_3x\n",
            "  ✗ Error: Timestamp('2024-11-13 11:30:00')\n",
            "Ejecutando SOLUSDT - 4h - SR_Breakout (params 1) - futures_3x\n",
            "  ✗ Error: Timestamp('2024-04-29 03:30:00')\n",
            "Ejecutando SOLUSDT - 4h - SR_Breakout (params 1) - futures_10x\n",
            "  ✗ Error: Timestamp('2024-04-29 03:30:00')\n",
            "Ejecutando SOLUSDT - 4h - SR_Breakout (params 1) - futures_10x\n",
            "  ✗ Error: Timestamp('2024-04-29 03:30:00')\n",
            "Ejecutando SOLUSDT - 1d - MA_Crossover (params 0) - spot\n",
            "  ✗ Error: Timestamp('2024-04-29 03:30:00')\n",
            "Ejecutando SOLUSDT - 1d - MA_Crossover (params 0) - spot\n",
            "  ✓ Resultado guardado: Net Profit: $-40.22, Sharpe: -7.11\n",
            "Ejecutando SOLUSDT - 1d - MA_Crossover (params 0) - futures_3x\n",
            "  ✓ Resultado guardado: Net Profit: $-40.22, Sharpe: -7.11\n",
            "Ejecutando SOLUSDT - 1d - MA_Crossover (params 0) - futures_3x\n",
            "  ✓ Resultado guardado: Net Profit: $-276.92, Sharpe: -0.82\n",
            "Ejecutando SOLUSDT - 1d - MA_Crossover (params 0) - futures_10x\n",
            "  ✓ Resultado guardado: Net Profit: $-276.92, Sharpe: -0.82\n",
            "Ejecutando SOLUSDT - 1d - MA_Crossover (params 0) - futures_10x\n",
            "  ✓ Resultado guardado: Net Profit: $-199.6, Sharpe: -0.81\n",
            "Ejecutando SOLUSDT - 1d - MA_Crossover (params 1) - spot\n",
            "  ✓ Resultado guardado: Net Profit: $-199.6, Sharpe: -0.81\n",
            "Ejecutando SOLUSDT - 1d - MA_Crossover (params 1) - spot\n",
            "  ✓ Resultado guardado: Net Profit: $-38.37, Sharpe: nan\n",
            "Ejecutando SOLUSDT - 1d - MA_Crossover (params 1) - futures_3x\n",
            "  ✓ Resultado guardado: Net Profit: $-38.37, Sharpe: nan\n",
            "Ejecutando SOLUSDT - 1d - MA_Crossover (params 1) - futures_3x\n",
            "  ✓ Resultado guardado: Net Profit: $-198.01, Sharpe: -0.77\n",
            "Ejecutando SOLUSDT - 1d - MA_Crossover (params 1) - futures_10x\n",
            "  ✓ Resultado guardado: Net Profit: $-198.01, Sharpe: -0.77\n",
            "Ejecutando SOLUSDT - 1d - MA_Crossover (params 1) - futures_10x\n",
            "  ✓ Resultado guardado: Net Profit: $-191.89, Sharpe: -0.28\n",
            "Ejecutando SOLUSDT - 1d - Bollinger_Breakout (params 0) - spot\n",
            "  ✓ Resultado guardado: Net Profit: $-191.89, Sharpe: -0.28\n",
            "Ejecutando SOLUSDT - 1d - Bollinger_Breakout (params 0) - spot\n",
            "  ✓ Resultado guardado: Net Profit: $-31.6, Sharpe: -0.7\n",
            "Ejecutando SOLUSDT - 1d - Bollinger_Breakout (params 0) - futures_3x\n",
            "  ✓ Resultado guardado: Net Profit: $-31.6, Sharpe: -0.7\n",
            "Ejecutando SOLUSDT - 1d - Bollinger_Breakout (params 0) - futures_3x\n",
            "  ✓ Resultado guardado: Net Profit: $-5420.0, Sharpe: 0.22\n",
            "Ejecutando SOLUSDT - 1d - Bollinger_Breakout (params 0) - futures_10x\n",
            "  ✓ Resultado guardado: Net Profit: $-5420.0, Sharpe: 0.22\n",
            "Ejecutando SOLUSDT - 1d - Bollinger_Breakout (params 0) - futures_10x\n",
            "  ✓ Resultado guardado: Net Profit: $-281.11, Sharpe: 0.2\n",
            "Ejecutando SOLUSDT - 1d - Bollinger_Breakout (params 1) - spot\n",
            "  ✓ Resultado guardado: Net Profit: $-281.11, Sharpe: 0.2\n",
            "Ejecutando SOLUSDT - 1d - Bollinger_Breakout (params 1) - spot\n",
            "  ✓ Resultado guardado: Net Profit: $-57.55, Sharpe: -10.76\n",
            "Ejecutando SOLUSDT - 1d - Bollinger_Breakout (params 1) - futures_3x\n",
            "  ✓ Resultado guardado: Net Profit: $-57.55, Sharpe: -10.76\n",
            "Ejecutando SOLUSDT - 1d - Bollinger_Breakout (params 1) - futures_3x\n",
            "  ✓ Resultado guardado: Net Profit: $-384.89, Sharpe: 0.52\n",
            "Ejecutando SOLUSDT - 1d - Bollinger_Breakout (params 1) - futures_10x\n",
            "  ✓ Resultado guardado: Net Profit: $-384.89, Sharpe: 0.52\n",
            "Ejecutando SOLUSDT - 1d - Bollinger_Breakout (params 1) - futures_10x\n",
            "  ✓ Resultado guardado: Net Profit: $-199.81, Sharpe: -0.98\n",
            "Ejecutando SOLUSDT - 1d - RSI_Reversion (params 0) - spot\n",
            "  ✓ Resultado guardado: Net Profit: $-199.81, Sharpe: -0.98\n",
            "Ejecutando SOLUSDT - 1d - RSI_Reversion (params 0) - spot\n",
            "  ✓ Resultado guardado: Net Profit: $-3.01, Sharpe: -1.46\n",
            "Ejecutando SOLUSDT - 1d - RSI_Reversion (params 0) - futures_3x\n",
            "  ✓ Resultado guardado: Net Profit: $-3.01, Sharpe: -1.46\n",
            "Ejecutando SOLUSDT - 1d - RSI_Reversion (params 0) - futures_3x\n",
            "  ✓ Resultado guardado: Net Profit: $-203.24, Sharpe: -0.9\n",
            "Ejecutando SOLUSDT - 1d - RSI_Reversion (params 0) - futures_10x\n",
            "  ✓ Resultado guardado: Net Profit: $-203.24, Sharpe: -0.9\n",
            "Ejecutando SOLUSDT - 1d - RSI_Reversion (params 0) - futures_10x\n",
            "  ✓ Resultado guardado: Net Profit: $-208.75, Sharpe: -0.54\n",
            "Ejecutando SOLUSDT - 1d - RSI_Reversion (params 1) - spot\n",
            "  ✓ Resultado guardado: Net Profit: $-208.75, Sharpe: -0.54\n",
            "Ejecutando SOLUSDT - 1d - RSI_Reversion (params 1) - spot\n",
            "  ✓ Resultado guardado: Net Profit: $-0.1, Sharpe: -7.1\n",
            "Ejecutando SOLUSDT - 1d - RSI_Reversion (params 1) - futures_3x\n",
            "  ✓ Resultado guardado: Net Profit: $-0.1, Sharpe: -7.1\n",
            "Ejecutando SOLUSDT - 1d - RSI_Reversion (params 1) - futures_3x\n",
            "  ✓ Resultado guardado: Net Profit: $-202.57, Sharpe: -0.79\n",
            "Ejecutando SOLUSDT - 1d - RSI_Reversion (params 1) - futures_10x\n",
            "  ✓ Resultado guardado: Net Profit: $-202.57, Sharpe: -0.79\n",
            "Ejecutando SOLUSDT - 1d - RSI_Reversion (params 1) - futures_10x\n",
            "  ✓ Resultado guardado: Net Profit: $-201.43, Sharpe: -0.54\n",
            "Ejecutando SOLUSDT - 1d - MACD_Momentum (params 0) - spot\n",
            "  ✓ Resultado guardado: Net Profit: $-201.43, Sharpe: -0.54\n",
            "Ejecutando SOLUSDT - 1d - MACD_Momentum (params 0) - spot\n",
            "  ✓ Resultado guardado: Net Profit: $-20.74, Sharpe: -1.33\n",
            "Ejecutando SOLUSDT - 1d - MACD_Momentum (params 0) - futures_3x\n",
            "  ✓ Resultado guardado: Net Profit: $-20.74, Sharpe: -1.33\n",
            "Ejecutando SOLUSDT - 1d - MACD_Momentum (params 0) - futures_3x\n",
            "  ✓ Resultado guardado: Net Profit: $-357.35, Sharpe: 0.1\n",
            "Ejecutando SOLUSDT - 1d - MACD_Momentum (params 0) - futures_10x\n",
            "  ✓ Resultado guardado: Net Profit: $-357.35, Sharpe: 0.1\n",
            "Ejecutando SOLUSDT - 1d - MACD_Momentum (params 0) - futures_10x\n",
            "  ✓ Resultado guardado: Net Profit: $-198.31, Sharpe: -0.83\n",
            "Ejecutando SOLUSDT - 1d - MACD_Momentum (params 1) - spot\n",
            "  ✓ Resultado guardado: Net Profit: $-198.31, Sharpe: -0.83\n",
            "Ejecutando SOLUSDT - 1d - MACD_Momentum (params 1) - spot\n",
            "  ✓ Resultado guardado: Net Profit: $-40.51, Sharpe: -2.89\n",
            "Ejecutando SOLUSDT - 1d - MACD_Momentum (params 1) - futures_3x\n",
            "  ✓ Resultado guardado: Net Profit: $-40.51, Sharpe: -2.89\n",
            "Ejecutando SOLUSDT - 1d - MACD_Momentum (params 1) - futures_3x\n",
            "  ✓ Resultado guardado: Net Profit: $-3259.65, Sharpe: -0.39\n",
            "Ejecutando SOLUSDT - 1d - MACD_Momentum (params 1) - futures_10x\n",
            "  ✓ Resultado guardado: Net Profit: $-3259.65, Sharpe: -0.39\n",
            "Ejecutando SOLUSDT - 1d - MACD_Momentum (params 1) - futures_10x\n",
            "  ✓ Resultado guardado: Net Profit: $-198.01, Sharpe: -0.77\n",
            "Ejecutando SOLUSDT - 1d - SR_Breakout (params 0) - spot\n",
            "  ✓ Resultado guardado: Net Profit: $-198.01, Sharpe: -0.77\n",
            "Ejecutando SOLUSDT - 1d - SR_Breakout (params 0) - spot\n",
            "  ✗ Error: Timestamp('2024-05-13 23:40:00')\n",
            "Ejecutando SOLUSDT - 1d - SR_Breakout (params 0) - futures_3x\n",
            "  ✗ Error: Timestamp('2024-05-13 23:40:00')\n",
            "Ejecutando SOLUSDT - 1d - SR_Breakout (params 0) - futures_3x\n",
            "  ✗ Error: Timestamp('2024-05-14 23:40:00')\n",
            "Ejecutando SOLUSDT - 1d - SR_Breakout (params 0) - futures_10x\n",
            "  ✗ Error: Timestamp('2024-05-14 23:40:00')\n",
            "Ejecutando SOLUSDT - 1d - SR_Breakout (params 0) - futures_10x\n",
            "  ✗ Error: Timestamp('2024-05-14 23:40:00')\n",
            "Ejecutando SOLUSDT - 1d - SR_Breakout (params 1) - spot\n",
            "  ✗ Error: Timestamp('2024-05-14 23:40:00')\n",
            "Ejecutando SOLUSDT - 1d - SR_Breakout (params 1) - spot\n",
            "  ✗ Error: Timestamp('2024-05-23 23:30:00')\n",
            "Ejecutando SOLUSDT - 1d - SR_Breakout (params 1) - futures_3x\n",
            "  ✗ Error: Timestamp('2024-05-23 23:30:00')\n",
            "Ejecutando SOLUSDT - 1d - SR_Breakout (params 1) - futures_3x\n",
            "  ✗ Error: Timestamp('2024-05-24 23:30:00')\n",
            "Ejecutando SOLUSDT - 1d - SR_Breakout (params 1) - futures_10x\n",
            "  ✗ Error: Timestamp('2024-05-24 23:30:00')\n",
            "Ejecutando SOLUSDT - 1d - SR_Breakout (params 1) - futures_10x\n",
            "  ✗ Error: Timestamp('2024-05-24 23:30:00')\n",
            "\n",
            "NOTA: 40 resultados fueron normalizados. Guardados en 'data/backtest_results/normalized_metrics.csv'\n",
            "\n",
            "Total de backtests ejecutados: 216\n",
            "\n",
            "Top 5 estrategias por Net Profit:\n",
            "  ✗ Error: Timestamp('2024-05-24 23:30:00')\n",
            "\n",
            "NOTA: 40 resultados fueron normalizados. Guardados en 'data/backtest_results/normalized_metrics.csv'\n",
            "\n",
            "Total de backtests ejecutados: 216\n",
            "\n",
            "Top 5 estrategias por Net Profit:\n"
          ]
        },
        {
          "data": {
            "text/html": [
              "<div>\n",
              "<style scoped>\n",
              "    .dataframe tbody tr th:only-of-type {\n",
              "        vertical-align: middle;\n",
              "    }\n",
              "\n",
              "    .dataframe tbody tr th {\n",
              "        vertical-align: top;\n",
              "    }\n",
              "\n",
              "    .dataframe thead th {\n",
              "        text-align: right;\n",
              "    }\n",
              "</style>\n",
              "<table border=\"1\" class=\"dataframe\">\n",
              "  <thead>\n",
              "    <tr style=\"text-align: right;\">\n",
              "      <th></th>\n",
              "      <th>Symbol</th>\n",
              "      <th>Timeframe</th>\n",
              "      <th>Strategy</th>\n",
              "      <th>Params</th>\n",
              "      <th>Mode</th>\n",
              "      <th>Original_Net_Profit</th>\n",
              "      <th>Normalization_Factor</th>\n",
              "      <th>Was_Normalized</th>\n",
              "      <th>Net Profit</th>\n",
              "      <th>Max Drawdown</th>\n",
              "      <th>Sharpe Ratio</th>\n",
              "      <th>Total Trades</th>\n",
              "      <th>Win Rate (%)</th>\n",
              "      <th>Avg Win</th>\n",
              "      <th>Avg Loss</th>\n",
              "      <th>Expectancy</th>\n",
              "      <th>Liquidations</th>\n",
              "      <th>Funding Impact</th>\n",
              "    </tr>\n",
              "  </thead>\n",
              "  <tbody>\n",
              "    <tr>\n",
              "      <th>1</th>\n",
              "      <td>BTCUSDT</td>\n",
              "      <td>1h</td>\n",
              "      <td>MA_Crossover</td>\n",
              "      <td>{'short_window': 20, 'long_window': 50}</td>\n",
              "      <td>futures_3x</td>\n",
              "      <td>3.701244e+08</td>\n",
              "      <td>2.701794e-04</td>\n",
              "      <td>True</td>\n",
              "      <td>100000.0</td>\n",
              "      <td>3871.409947</td>\n",
              "      <td>2.35</td>\n",
              "      <td>22</td>\n",
              "      <td>100.0</td>\n",
              "      <td>3972.413338</td>\n",
              "      <td>0.0</td>\n",
              "      <td>3972.413338</td>\n",
              "      <td>0.0</td>\n",
              "      <td>1200.450390</td>\n",
              "    </tr>\n",
              "    <tr>\n",
              "      <th>2</th>\n",
              "      <td>BTCUSDT</td>\n",
              "      <td>1h</td>\n",
              "      <td>MA_Crossover</td>\n",
              "      <td>{'short_window': 20, 'long_window': 50}</td>\n",
              "      <td>futures_10x</td>\n",
              "      <td>2.230290e+08</td>\n",
              "      <td>4.483722e-04</td>\n",
              "      <td>True</td>\n",
              "      <td>100000.0</td>\n",
              "      <td>9846.684554</td>\n",
              "      <td>2.18</td>\n",
              "      <td>22</td>\n",
              "      <td>100.0</td>\n",
              "      <td>3094.338699</td>\n",
              "      <td>0.0</td>\n",
              "      <td>3094.338699</td>\n",
              "      <td>0.0</td>\n",
              "      <td>2998.383381</td>\n",
              "    </tr>\n",
              "    <tr>\n",
              "      <th>7</th>\n",
              "      <td>BTCUSDT</td>\n",
              "      <td>1h</td>\n",
              "      <td>Bollinger_Breakout</td>\n",
              "      <td>{'window': 20, 'n_std': 2.0}</td>\n",
              "      <td>futures_3x</td>\n",
              "      <td>1.267704e+10</td>\n",
              "      <td>7.888280e-06</td>\n",
              "      <td>True</td>\n",
              "      <td>100000.0</td>\n",
              "      <td>3928.774870</td>\n",
              "      <td>2.70</td>\n",
              "      <td>27</td>\n",
              "      <td>100.0</td>\n",
              "      <td>3290.868251</td>\n",
              "      <td>0.0</td>\n",
              "      <td>3290.868251</td>\n",
              "      <td>0.0</td>\n",
              "      <td>1638.204086</td>\n",
              "    </tr>\n",
              "    <tr>\n",
              "      <th>20</th>\n",
              "      <td>BTCUSDT</td>\n",
              "      <td>1h</td>\n",
              "      <td>MACD_Momentum</td>\n",
              "      <td>{'fast': 12, 'slow': 26, 'signal': 9}</td>\n",
              "      <td>futures_10x</td>\n",
              "      <td>1.591735e+22</td>\n",
              "      <td>6.282453e-18</td>\n",
              "      <td>True</td>\n",
              "      <td>100000.0</td>\n",
              "      <td>20145.542929</td>\n",
              "      <td>3.80</td>\n",
              "      <td>69</td>\n",
              "      <td>100.0</td>\n",
              "      <td>1759.448012</td>\n",
              "      <td>0.0</td>\n",
              "      <td>1759.448012</td>\n",
              "      <td>0.0</td>\n",
              "      <td>305.079158</td>\n",
              "    </tr>\n",
              "    <tr>\n",
              "      <th>19</th>\n",
              "      <td>BTCUSDT</td>\n",
              "      <td>1h</td>\n",
              "      <td>MACD_Momentum</td>\n",
              "      <td>{'fast': 12, 'slow': 26, 'signal': 9}</td>\n",
              "      <td>futures_3x</td>\n",
              "      <td>4.310512e+22</td>\n",
              "      <td>2.319910e-18</td>\n",
              "      <td>True</td>\n",
              "      <td>100000.0</td>\n",
              "      <td>5277.188686</td>\n",
              "      <td>4.23</td>\n",
              "      <td>69</td>\n",
              "      <td>100.0</td>\n",
              "      <td>1530.378371</td>\n",
              "      <td>0.0</td>\n",
              "      <td>1530.378371</td>\n",
              "      <td>0.0</td>\n",
              "      <td>92.035113</td>\n",
              "    </tr>\n",
              "  </tbody>\n",
              "</table>\n",
              "</div>"
            ],
            "text/plain": [
              "     Symbol Timeframe            Strategy  \\\n",
              "1   BTCUSDT        1h        MA_Crossover   \n",
              "2   BTCUSDT        1h        MA_Crossover   \n",
              "7   BTCUSDT        1h  Bollinger_Breakout   \n",
              "20  BTCUSDT        1h       MACD_Momentum   \n",
              "19  BTCUSDT        1h       MACD_Momentum   \n",
              "\n",
              "                                     Params         Mode  Original_Net_Profit  \\\n",
              "1   {'short_window': 20, 'long_window': 50}   futures_3x         3.701244e+08   \n",
              "2   {'short_window': 20, 'long_window': 50}  futures_10x         2.230290e+08   \n",
              "7              {'window': 20, 'n_std': 2.0}   futures_3x         1.267704e+10   \n",
              "20    {'fast': 12, 'slow': 26, 'signal': 9}  futures_10x         1.591735e+22   \n",
              "19    {'fast': 12, 'slow': 26, 'signal': 9}   futures_3x         4.310512e+22   \n",
              "\n",
              "    Normalization_Factor  Was_Normalized  Net Profit  Max Drawdown  \\\n",
              "1           2.701794e-04            True    100000.0   3871.409947   \n",
              "2           4.483722e-04            True    100000.0   9846.684554   \n",
              "7           7.888280e-06            True    100000.0   3928.774870   \n",
              "20          6.282453e-18            True    100000.0  20145.542929   \n",
              "19          2.319910e-18            True    100000.0   5277.188686   \n",
              "\n",
              "    Sharpe Ratio  Total Trades  Win Rate (%)      Avg Win  Avg Loss  \\\n",
              "1           2.35            22         100.0  3972.413338       0.0   \n",
              "2           2.18            22         100.0  3094.338699       0.0   \n",
              "7           2.70            27         100.0  3290.868251       0.0   \n",
              "20          3.80            69         100.0  1759.448012       0.0   \n",
              "19          4.23            69         100.0  1530.378371       0.0   \n",
              "\n",
              "     Expectancy  Liquidations  Funding Impact  \n",
              "1   3972.413338           0.0     1200.450390  \n",
              "2   3094.338699           0.0     2998.383381  \n",
              "7   3290.868251           0.0     1638.204086  \n",
              "20  1759.448012           0.0      305.079158  \n",
              "19  1530.378371           0.0       92.035113  "
            ]
          },
          "metadata": {},
          "output_type": "display_data"
        },
        {
          "name": "stdout",
          "output_type": "stream",
          "text": [
            "\n",
            "Top 5 estrategias por Sharpe Ratio:\n"
          ]
        },
        {
          "data": {
            "text/html": [
              "<div>\n",
              "<style scoped>\n",
              "    .dataframe tbody tr th:only-of-type {\n",
              "        vertical-align: middle;\n",
              "    }\n",
              "\n",
              "    .dataframe tbody tr th {\n",
              "        vertical-align: top;\n",
              "    }\n",
              "\n",
              "    .dataframe thead th {\n",
              "        text-align: right;\n",
              "    }\n",
              "</style>\n",
              "<table border=\"1\" class=\"dataframe\">\n",
              "  <thead>\n",
              "    <tr style=\"text-align: right;\">\n",
              "      <th></th>\n",
              "      <th>Symbol</th>\n",
              "      <th>Timeframe</th>\n",
              "      <th>Strategy</th>\n",
              "      <th>Params</th>\n",
              "      <th>Mode</th>\n",
              "      <th>Original_Net_Profit</th>\n",
              "      <th>Normalization_Factor</th>\n",
              "      <th>Was_Normalized</th>\n",
              "      <th>Net Profit</th>\n",
              "      <th>Max Drawdown</th>\n",
              "      <th>Sharpe Ratio</th>\n",
              "      <th>Total Trades</th>\n",
              "      <th>Win Rate (%)</th>\n",
              "      <th>Avg Win</th>\n",
              "      <th>Avg Loss</th>\n",
              "      <th>Expectancy</th>\n",
              "      <th>Liquidations</th>\n",
              "      <th>Funding Impact</th>\n",
              "    </tr>\n",
              "  </thead>\n",
              "  <tbody>\n",
              "    <tr>\n",
              "      <th>135</th>\n",
              "      <td>ETHUSDT</td>\n",
              "      <td>1d</td>\n",
              "      <td>RSI_Reversion</td>\n",
              "      <td>{'period': 14, 'overbought': 75, 'oversold': 25}</td>\n",
              "      <td>spot</td>\n",
              "      <td>3.103000e+01</td>\n",
              "      <td>1.000000e+00</td>\n",
              "      <td>False</td>\n",
              "      <td>31.03</td>\n",
              "      <td>4.890000</td>\n",
              "      <td>5.71</td>\n",
              "      <td>1</td>\n",
              "      <td>100.0</td>\n",
              "      <td>31.170000</td>\n",
              "      <td>0.0</td>\n",
              "      <td>31.170000</td>\n",
              "      <td>NaN</td>\n",
              "      <td>NaN</td>\n",
              "    </tr>\n",
              "    <tr>\n",
              "      <th>166</th>\n",
              "      <td>SOLUSDT</td>\n",
              "      <td>1h</td>\n",
              "      <td>MACD_Momentum</td>\n",
              "      <td>{'fast': 8, 'slow': 21, 'signal': 9}</td>\n",
              "      <td>futures_3x</td>\n",
              "      <td>1.916660e+32</td>\n",
              "      <td>5.217411e-28</td>\n",
              "      <td>True</td>\n",
              "      <td>100000.00</td>\n",
              "      <td>6629.979479</td>\n",
              "      <td>5.17</td>\n",
              "      <td>101</td>\n",
              "      <td>100.0</td>\n",
              "      <td>1056.190067</td>\n",
              "      <td>0.0</td>\n",
              "      <td>1056.190067</td>\n",
              "      <td>0.0</td>\n",
              "      <td>-12.058115</td>\n",
              "    </tr>\n",
              "    <tr>\n",
              "      <th>94</th>\n",
              "      <td>ETHUSDT</td>\n",
              "      <td>1h</td>\n",
              "      <td>MACD_Momentum</td>\n",
              "      <td>{'fast': 8, 'slow': 21, 'signal': 9}</td>\n",
              "      <td>futures_3x</td>\n",
              "      <td>2.320389e+30</td>\n",
              "      <td>4.309623e-26</td>\n",
              "      <td>True</td>\n",
              "      <td>100000.00</td>\n",
              "      <td>4711.606988</td>\n",
              "      <td>5.00</td>\n",
              "      <td>95</td>\n",
              "      <td>100.0</td>\n",
              "      <td>1105.388408</td>\n",
              "      <td>0.0</td>\n",
              "      <td>1105.388408</td>\n",
              "      <td>0.0</td>\n",
              "      <td>-138.808977</td>\n",
              "    </tr>\n",
              "    <tr>\n",
              "      <th>46</th>\n",
              "      <td>BTCUSDT</td>\n",
              "      <td>4h</td>\n",
              "      <td>MACD_Momentum</td>\n",
              "      <td>{'fast': 8, 'slow': 21, 'signal': 9}</td>\n",
              "      <td>futures_3x</td>\n",
              "      <td>6.335382e+29</td>\n",
              "      <td>1.578437e-25</td>\n",
              "      <td>True</td>\n",
              "      <td>100000.00</td>\n",
              "      <td>17463.304720</td>\n",
              "      <td>4.87</td>\n",
              "      <td>93</td>\n",
              "      <td>100.0</td>\n",
              "      <td>1249.417274</td>\n",
              "      <td>0.0</td>\n",
              "      <td>1249.417274</td>\n",
              "      <td>0.0</td>\n",
              "      <td>94.048968</td>\n",
              "    </tr>\n",
              "    <tr>\n",
              "      <th>22</th>\n",
              "      <td>BTCUSDT</td>\n",
              "      <td>1h</td>\n",
              "      <td>MACD_Momentum</td>\n",
              "      <td>{'fast': 8, 'slow': 21, 'signal': 9}</td>\n",
              "      <td>futures_3x</td>\n",
              "      <td>1.037167e+28</td>\n",
              "      <td>9.641653e-24</td>\n",
              "      <td>True</td>\n",
              "      <td>100000.00</td>\n",
              "      <td>5915.441289</td>\n",
              "      <td>4.80</td>\n",
              "      <td>87</td>\n",
              "      <td>100.0</td>\n",
              "      <td>1220.463330</td>\n",
              "      <td>0.0</td>\n",
              "      <td>1220.463330</td>\n",
              "      <td>0.0</td>\n",
              "      <td>115.910646</td>\n",
              "    </tr>\n",
              "  </tbody>\n",
              "</table>\n",
              "</div>"
            ],
            "text/plain": [
              "      Symbol Timeframe       Strategy  \\\n",
              "135  ETHUSDT        1d  RSI_Reversion   \n",
              "166  SOLUSDT        1h  MACD_Momentum   \n",
              "94   ETHUSDT        1h  MACD_Momentum   \n",
              "46   BTCUSDT        4h  MACD_Momentum   \n",
              "22   BTCUSDT        1h  MACD_Momentum   \n",
              "\n",
              "                                               Params        Mode  \\\n",
              "135  {'period': 14, 'overbought': 75, 'oversold': 25}        spot   \n",
              "166              {'fast': 8, 'slow': 21, 'signal': 9}  futures_3x   \n",
              "94               {'fast': 8, 'slow': 21, 'signal': 9}  futures_3x   \n",
              "46               {'fast': 8, 'slow': 21, 'signal': 9}  futures_3x   \n",
              "22               {'fast': 8, 'slow': 21, 'signal': 9}  futures_3x   \n",
              "\n",
              "     Original_Net_Profit  Normalization_Factor  Was_Normalized  Net Profit  \\\n",
              "135         3.103000e+01          1.000000e+00           False       31.03   \n",
              "166         1.916660e+32          5.217411e-28            True   100000.00   \n",
              "94          2.320389e+30          4.309623e-26            True   100000.00   \n",
              "46          6.335382e+29          1.578437e-25            True   100000.00   \n",
              "22          1.037167e+28          9.641653e-24            True   100000.00   \n",
              "\n",
              "     Max Drawdown  Sharpe Ratio  Total Trades  Win Rate (%)      Avg Win  \\\n",
              "135      4.890000          5.71             1         100.0    31.170000   \n",
              "166   6629.979479          5.17           101         100.0  1056.190067   \n",
              "94    4711.606988          5.00            95         100.0  1105.388408   \n",
              "46   17463.304720          4.87            93         100.0  1249.417274   \n",
              "22    5915.441289          4.80            87         100.0  1220.463330   \n",
              "\n",
              "     Avg Loss   Expectancy  Liquidations  Funding Impact  \n",
              "135       0.0    31.170000           NaN             NaN  \n",
              "166       0.0  1056.190067           0.0      -12.058115  \n",
              "94        0.0  1105.388408           0.0     -138.808977  \n",
              "46        0.0  1249.417274           0.0       94.048968  \n",
              "22        0.0  1220.463330           0.0      115.910646  "
            ]
          },
          "metadata": {},
          "output_type": "display_data"
        }
      ],
      "source": [
        "# Ejecutar todos los backtests - esto puede tomar tiempo\n",
        "all_results = run_managed_batch_backtests(\n",
        "    symbols=symbols,\n",
        "    timeframes=timeframes,\n",
        "    strategy_configs=strategy_configs,\n",
        "    backtest_modes=backtest_mode,\n",
        "    start_date=start_date,\n",
        "    end_date=end_date,\n",
        "    initial_cash=backtest_config['initial_cash'],\n",
        "    max_reasonable_profit=100000.0  # Limitar el profit máximo a 100,000 para evitar valores absurdos\n",
        ")\n",
        "\n",
        "# Mostrar un resumen rápido\n",
        "if not all_results.empty:\n",
        "    print(f\"\\nTotal de backtests ejecutados: {len(all_results)}\")\n",
        "    # Mostrar los 5 mejores resultados por Net Profit\n",
        "    print(\"\\nTop 5 estrategias por Net Profit:\")\n",
        "    display(all_results.sort_values('Net Profit', ascending=False).head(5))\n",
        "    \n",
        "    # Mostrar los 5 mejores resultados por Sharpe Ratio\n",
        "    print(\"\\nTop 5 estrategias por Sharpe Ratio:\")\n",
        "    display(all_results.sort_values('Sharpe Ratio', ascending=False).head(5))\n",
        "\n",
        "# También podemos normalizar los resultados existentes si ya se ejecutaron backtests\n",
        "elif os.path.exists(\"data/backtest_results/all_metrics.csv\"):\n",
        "    print(\"Normalizando resultados existentes para corregir valores extremos...\")\n",
        "    all_results = normalize_existing_results(\n",
        "        csv_path=\"data/backtest_results/all_metrics.csv\",\n",
        "        max_reasonable_profit=100000.0,\n",
        "        save_normalized=True\n",
        "    )\n",
        "    \n",
        "    if not all_results.empty:\n",
        "        print(f\"\\nTotal de backtests normalizados: {len(all_results)}\")\n",
        "        # Mostrar los 5 mejores resultados por Net Profit (ya normalizados)\n",
        "        print(\"\\nTop 5 estrategias por Net Profit (normalizados):\")\n",
        "        display(all_results.sort_values('Net Profit', ascending=False).head(5))\n",
        "        \n",
        "        # Mostrar los 5 mejores resultados por Sharpe Ratio\n",
        "        print(\"\\nTop 5 estrategias por Sharpe Ratio:\")\n",
        "        display(all_results.sort_values('Sharpe Ratio', ascending=False).head(5))"
      ]
    },
    {
      "cell_type": "markdown",
      "id": "64f6e5cb",
      "metadata": {
        "language": "markdown"
      },
      "source": [
        "## Análisis Comparativo de Resultados\n",
        "\n",
        "Ahora crearemos visualizaciones para comparar los resultados de las diferentes estrategias, temporalidades y modos."
      ]
    },
    {
      "cell_type": "code",
      "execution_count": 63,
      "id": "d3511966",
      "metadata": {
        "language": "python"
      },
      "outputs": [],
      "source": [
        "def load_results():\n",
        "    \"\"\"Carga los resultados si ya existen\"\"\"\n",
        "    try:\n",
        "        return pd.read_csv(\"data/backtest_results/all_metrics.csv\")\n",
        "    except FileNotFoundError:\n",
        "        print(\"No se encontraron resultados previos. Ejecuta primero run_batch_backtests()\")\n",
        "        return pd.DataFrame()\n",
        "\n",
        "# Cargar resultados (usa esta función si ya ejecutaste los backtests antes)\n",
        "if all_results.empty:\n",
        "    all_results = load_results()"
      ]
    },
    {
      "cell_type": "code",
      "execution_count": 64,
      "id": "46c864c7",
      "metadata": {
        "language": "python"
      },
      "outputs": [],
      "source": [
        "# 1. Comparación de estrategias por símbolo (heatmap)\n",
        "def plot_strategy_symbol_heatmap(metric='Net Profit'):\n",
        "    if all_results.empty:\n",
        "        return\n",
        "    \n",
        "    # Preparar datos\n",
        "    pivot = all_results.pivot_table(\n",
        "        index='Strategy', \n",
        "        columns='Symbol', \n",
        "        values=metric,\n",
        "        aggfunc='mean'\n",
        "    )\n",
        "    \n",
        "    # Crear heatmap\n",
        "    plt.figure(figsize=(10, 8))\n",
        "    sns.heatmap(pivot, annot=True, cmap=\"YlGnBu\", fmt='.2f', linewidths=.5)\n",
        "    plt.title(f'Comparación de {metric} por Estrategia y Símbolo')\n",
        "    plt.tight_layout()\n",
        "    plt.savefig(f\"data/backtest_results/charts/heatmap_strategy_symbol_{metric.replace(' ', '_')}.png\")\n",
        "    plt.show()\n",
        "\n",
        "# 2. Rendimiento por temporalidad y modo\n",
        "def plot_timeframe_mode_comparison(metric='Net Profit'):\n",
        "    if all_results.empty:\n",
        "        return\n",
        "    \n",
        "    # Preparar datos\n",
        "    pivot = all_results.pivot_table(\n",
        "        index='Timeframe', \n",
        "        columns='Mode', \n",
        "        values=metric,\n",
        "        aggfunc='mean'\n",
        "    )\n",
        "    \n",
        "    # Crear gráfico de barras\n",
        "    ax = pivot.plot(kind='bar', figsize=(10, 6))\n",
        "    plt.title(f'Comparación de {metric} por Timeframe y Modo')\n",
        "    plt.ylabel(metric)\n",
        "    plt.xlabel('Timeframe')\n",
        "    plt.xticks(rotation=45)\n",
        "    plt.legend(title='Modo')\n",
        "    plt.tight_layout()\n",
        "    plt.savefig(f\"data/backtest_results/charts/bar_timeframe_mode_{metric.replace(' ', '_')}.png\")\n",
        "    plt.show()\n",
        "\n",
        "# 3. Distribución de PnL por estrategia\n",
        "def plot_pnl_distribution_by_strategy():\n",
        "    if all_results.empty:\n",
        "        return\n",
        "    \n",
        "    plt.figure(figsize=(12, 8))\n",
        "    sns.boxplot(x='Strategy', y='Net Profit', data=all_results)\n",
        "    plt.title('Distribución de Net Profit por Estrategia')\n",
        "    plt.xticks(rotation=45)\n",
        "    plt.tight_layout()\n",
        "    plt.savefig(\"data/backtest_results/charts/boxplot_strategy_netprofit.png\")\n",
        "    plt.show()\n",
        "\n",
        "# 4. Relación entre Win Rate y Profit Factor\n",
        "def plot_winrate_vs_profit_factor():\n",
        "    if all_results.empty or 'Win Rate (%)' not in all_results.columns:\n",
        "        return\n",
        "    \n",
        "    plt.figure(figsize=(10, 8))\n",
        "    sns.scatterplot(\n",
        "        data=all_results, \n",
        "        x='Win Rate (%)', \n",
        "        y='Profit Factor' if 'Profit Factor' in all_results.columns else 'Net Profit',\n",
        "        hue='Strategy',\n",
        "        style='Mode',\n",
        "        s=100,\n",
        "        alpha=0.7\n",
        "    )\n",
        "    plt.title('Win Rate vs Profit Factor por Estrategia y Modo')\n",
        "    plt.grid(True, alpha=0.3)\n",
        "    plt.tight_layout()\n",
        "    plt.savefig(\"data/backtest_results/charts/scatter_winrate_profitfactor.png\")\n",
        "    plt.show()"
      ]
    },
    {
      "cell_type": "code",
      "execution_count": 65,
      "id": "18437de8",
      "metadata": {
        "language": "python"
      },
      "outputs": [
        {
          "data": {
            "image/png": "[encoded data removed]",
            "text/plain": [
              "<Figure size 1000x800 with 2 Axes>"
            ]
          },
          "metadata": {},
          "output_type": "display_data"
        },
        {
          "data": {
            "image/png": "[encoded data removed]",
            "text/plain": [
              "<Figure size 1000x800 with 2 Axes>"
            ]
          },
          "metadata": {},
          "output_type": "display_data"
        },
        {
          "data": {
            "image/png": "[encoded data removed]",
            "text/plain": [
              "<Figure size 1000x800 with 2 Axes>"
            ]
          },
          "metadata": {},
          "output_type": "display_data"
        },
        {
          "data": {
            "image/png": "[encoded data removed]",
            "text/plain": [
              "<Figure size 1000x600 with 1 Axes>"
            ]
          },
          "metadata": {},
          "output_type": "display_data"
        },
        {
          "data": {
            "image/png": "[encoded data removed]",
            "text/plain": [
              "<Figure size 1000x600 with 1 Axes>"
            ]
          },
          "metadata": {},
          "output_type": "display_data"
        },
        {
          "data": {
            "image/png": "[encoded data removed]",
            "text/plain": [
              "<Figure size 1200x800 with 1 Axes>"
            ]
          },
          "metadata": {},
          "output_type": "display_data"
        },
        {
          "data": {
            "image/png": "[encoded data removed]",
            "text/plain": [
              "<Figure size 1000x800 with 1 Axes>"
            ]
          },
          "metadata": {},
          "output_type": "display_data"
        }
      ],
      "source": [
        "# Generar visualizaciones comparativas\n",
        "if not all_results.empty:\n",
        "    # Crear gráficos por distintas métricas\n",
        "    plot_strategy_symbol_heatmap(metric='Net Profit')\n",
        "    plot_strategy_symbol_heatmap(metric='Sharpe Ratio')\n",
        "    plot_strategy_symbol_heatmap(metric='Max Drawdown')\n",
        "    \n",
        "    plot_timeframe_mode_comparison(metric='Net Profit')\n",
        "    plot_timeframe_mode_comparison(metric='Sharpe Ratio')\n",
        "    \n",
        "    plot_pnl_distribution_by_strategy()\n",
        "    plot_winrate_vs_profit_factor()\n",
        "    \n",
        "    # Crear un reporte interactivo con Plotly\n",
        "    fig = px.scatter(\n",
        "        all_results,\n",
        "        x=\"Max Drawdown\",\n",
        "        y=\"Net Profit\",\n",
        "        size=\"Total Trades\",\n",
        "        color=\"Strategy\",\n",
        "        symbol=\"Mode\",\n",
        "        hover_name=\"Symbol\",\n",
        "        hover_data=[\"Timeframe\", \"Win Rate (%)\", \"Sharpe Ratio\"],\n",
        "        title=\"Rendimiento vs Riesgo por Estrategia\"\n",
        "    )\n",
        "    fig.update_layout(template=\"plotly_white\")\n",
        "    fig.write_html(\"data/backtest_results/charts/interactive_risk_return.html\")"
      ]
    },
    {
      "cell_type": "markdown",
      "id": "2c4ec860",
      "metadata": {
        "language": "markdown"
      },
      "source": [
        "## Comparación de Curvas de Equity\n",
        "\n",
        "Seleccionemos las mejores estrategias por Sharpe Ratio y comparemos sus curvas de equity."
      ]
    },
    {
      "cell_type": "code",
      "execution_count": null,
      "id": "c9c278b7",
      "metadata": {
        "language": "python"
      },
      "outputs": [],
      "source": [
        "def compare_equity_curves(top_n=5, metric='Sharpe Ratio'):\n",
        "    \"\"\"Compara las curvas de equity de las mejores estrategias\"\"\"\n",
        "    if all_results.empty:\n",
        "        return\n",
        "    \n",
        "    # Obtener las mejores estrategias\n",
        "    top_strategies = all_results.sort_values(metric, ascending=False).head(top_n)\n",
        "    \n",
        "    # Crear figura para comparar curvas de equity\n",
        "    fig = go.Figure()\n",
        "    \n",
        "    for _, row in top_strategies.iterrows():\n",
        "        # Construir nombre del archivo de forma segura\n",
        "        symbol = row['Symbol']\n",
        "        timeframe = row['Timeframe']\n",
        "        strategy = row['Strategy']\n",
        "        mode = row['Mode']\n",
        "        \n",
        "        # Usamos idx del parámetro en lugar del diccionario de parámetros completo\n",
        "        param_idx = 0\n",
        "        if \"window\" in str(row['Params']):\n",
        "            param_idx = 0 if \"2.0\" in str(row['Params']) else 1\n",
        "        elif \"short_window\" in str(row['Params']):\n",
        "            param_idx = 0 if \"20\" in str(row['Params']) else 1\n",
        "        elif \"period\" in str(row['Params']):\n",
        "            param_idx = 0 if \"30\" in str(row['Params']) else 1\n",
        "        elif \"fast\" in str(row['Params']):\n",
        "            param_idx = 0 if \"12\" in str(row['Params']) else 1\n",
        "        \n",
        "        # Crear nombre de archivo seguro\n",
        "        base_filename = f\"{symbol}_{timeframe}_{strategy}_params{param_idx}_{mode}\"\n",
        "        \n",
        "        # Cargar la curva de equity\n",
        "        try:\n",
        "            equity_file = f\"data/backtest_results/equity_curves/{base_filename}_equity.csv\"\n",
        "            print(f\"Intentando cargar: {equity_file}\")\n",
        "            equity_df = pd.read_csv(equity_file)\n",
        "            \n",
        "            # Normalizar la curva para comparar (empezando en 100)\n",
        "            equity_df['timestamp'] = pd.to_datetime(equity_df['timestamp'])\n",
        "            initial_equity = equity_df['equity'].iloc[0]\n",
        "            equity_df['normalized_equity'] = equity_df['equity'] / initial_equity * 100\n",
        "            \n",
        "            # Extraer los parámetros en formato legible para la leyenda\n",
        "            params_str = str(row['Params']).replace(\"{\", \"\").replace(\"}\", \"\").replace(\"'\", \"\")\n",
        "            \n",
        "            # Añadir curva a la figura\n",
        "            strategy_label = f\"{row['Symbol']} {row['Timeframe']} {row['Strategy']} ({params_str}) {row['Mode']}\"\n",
        "            fig.add_trace(go.Scatter(\n",
        "                x=equity_df['timestamp'],\n",
        "                y=equity_df['normalized_equity'],\n",
        "                mode='lines',\n",
        "                name=strategy_label\n",
        "            ))\n",
        "            print(f\"  ✓ Curva cargada correctamente\")\n",
        "        except Exception as e:\n",
        "            print(f\"Error al cargar {base_filename}: {str(e)}\")\n",
        "    \n",
        "    fig.update_layout(\n",
        "        title=f\"Comparación de Curvas de Equity (Top {top_n} por {metric})\",\n",
        "        xaxis_title=\"Fecha\",\n",
        "        yaxis_title=\"Equity Normalizada (Base 100)\",\n",
        "        template=\"plotly_white\"\n",
        "    )\n",
        "    \n",
        "    fig.write_html(f\"data/backtest_results/charts/comparison_top{top_n}_{metric.replace(' ', '_')}.html\")\n",
        "    return fig"
      ]
    },
    {
      "cell_type": "code",
      "execution_count": 67,
      "id": "4ed00eeb",
      "metadata": {
        "language": "python"
      },
      "outputs": [
        {
          "name": "stdout",
          "output_type": "stream",
          "text": [
            "Error al cargar ETHUSDT_1d_RSI_Reversion_params14, 'overbought': 75, 'oversold': 25_spot: [Errno 22] Invalid argument: \"data/backtest_results/equity_curves/ETHUSDT_1d_RSI_Reversion_params14, 'overbought': 75, 'oversold': 25_spot_equity.csv\"\n",
            "Error al cargar SOLUSDT_1h_MACD_Momentum_params8, 'slow': 21, 'signal': 9_futures_3x: [Errno 22] Invalid argument: \"data/backtest_results/equity_curves/SOLUSDT_1h_MACD_Momentum_params8, 'slow': 21, 'signal': 9_futures_3x_equity.csv\"\n",
            "Error al cargar ETHUSDT_1h_MACD_Momentum_params8, 'slow': 21, 'signal': 9_futures_3x: [Errno 22] Invalid argument: \"data/backtest_results/equity_curves/ETHUSDT_1h_MACD_Momentum_params8, 'slow': 21, 'signal': 9_futures_3x_equity.csv\"\n",
            "Error al cargar BTCUSDT_4h_MACD_Momentum_params8, 'slow': 21, 'signal': 9_futures_3x: [Errno 22] Invalid argument: \"data/backtest_results/equity_curves/BTCUSDT_4h_MACD_Momentum_params8, 'slow': 21, 'signal': 9_futures_3x_equity.csv\"\n",
            "Error al cargar BTCUSDT_1h_MACD_Momentum_params8, 'slow': 21, 'signal': 9_futures_3x: [Errno 22] Invalid argument: \"data/backtest_results/equity_curves/BTCUSDT_1h_MACD_Momentum_params8, 'slow': 21, 'signal': 9_futures_3x_equity.csv\"\n"
          ]
        },
        {
          "data": {
            "application/vnd.plotly.v1+json": {
              "config": {
                "plotlyServerURL": "https://plot.ly"
              },
              "data": [],
              "layout": {
                "template": {
                  "data": {
                    "bar": [
                      {
                        "error_x": {
                          "color": "#2a3f5f"
                        },
                        "error_y": {
                          "color": "#2a3f5f"
                        },
                        "marker": {
                          "line": {
                            "color": "white",
                            "width": 0.5
                          },
                          "pattern": {
                            "fillmode": "overlay",
                            "size": 10,
                            "solidity": 0.2
                          }
                        },
                        "type": "bar"
                      }
                    ],
                    "barpolar": [
                      {
                        "marker": {
                          "line": {
                            "color": "white",
                            "width": 0.5
                          },
                          "pattern": {
                            "fillmode": "overlay",
                            "size": 10,
                            "solidity": 0.2
                          }
                        },
                        "type": "barpolar"
                      }
                    ],
                    "carpet": [
                      {
                        "aaxis": {
                          "endlinecolor": "#2a3f5f",
                          "gridcolor": "#C8D4E3",
                          "linecolor": "#C8D4E3",
                          "minorgridcolor": "#C8D4E3",
                          "startlinecolor": "#2a3f5f"
                        },
                        "baxis": {
                          "endlinecolor": "#2a3f5f",
                          "gridcolor": "#C8D4E3",
                          "linecolor": "#C8D4E3",
                          "minorgridcolor": "#C8D4E3",
                          "startlinecolor": "#2a3f5f"
                        },
                        "type": "carpet"
                      }
                    ],
                    "choropleth": [
                      {
                        "colorbar": {
                          "outlinewidth": 0,
                          "ticks": ""
                        },
                        "type": "choropleth"
                      }
                    ],
                    "contour": [
                      {
                        "colorbar": {
                          "outlinewidth": 0,
                          "ticks": ""
                        },
                        "colorscale": [
                          [
                            0,
                            "#0d0887"
                          ],
                          [
                            0.1111111111111111,
                            "#46039f"
                          ],
                          [
                            0.2222222222222222,
                            "#7201a8"
                          ],
                          [
                            0.3333333333333333,
                            "#9c179e"
                          ],
                          [
                            0.4444444444444444,
                            "#bd3786"
                          ],
                          [
                            0.5555555555555556,
                            "#d8576b"
                          ],
                          [
                            0.6666666666666666,
                            "#ed7953"
                          ],
                          [
                            0.7777777777777778,
                            "#fb9f3a"
                          ],
                          [
                            0.8888888888888888,
                            "#fdca26"
                          ],
                          [
                            1,
                            "#f0f921"
                          ]
                        ],
                        "type": "contour"
                      }
                    ],
                    "contourcarpet": [
                      {
                        "colorbar": {
                          "outlinewidth": 0,
                          "ticks": ""
                        },
                        "type": "contourcarpet"
                      }
                    ],
                    "heatmap": [
                      {
                        "colorbar": {
                          "outlinewidth": 0,
                          "ticks": ""
                        },
                        "colorscale": [
                          [
                            0,
                            "#0d0887"
                          ],
                          [
                            0.1111111111111111,
                            "#46039f"
                          ],
                          [
                            0.2222222222222222,
                            "#7201a8"
                          ],
                          [
                            0.3333333333333333,
                            "#9c179e"
                          ],
                          [
                            0.4444444444444444,
                            "#bd3786"
                          ],
                          [
                            0.5555555555555556,
                            "#d8576b"
                          ],
                          [
                            0.6666666666666666,
                            "#ed7953"
                          ],
                          [
                            0.7777777777777778,
                            "#fb9f3a"
                          ],
                          [
                            0.8888888888888888,
                            "#fdca26"
                          ],
                          [
                            1,
                            "#f0f921"
                          ]
                        ],
                        "type": "heatmap"
                      }
                    ],
                    "histogram": [
                      {
                        "marker": {
                          "pattern": {
                            "fillmode": "overlay",
                            "size": 10,
                            "solidity": 0.2
                          }
                        },
                        "type": "histogram"
                      }
                    ],
                    "histogram2d": [
                      {
                        "colorbar": {
                          "outlinewidth": 0,
                          "ticks": ""
                        },
                        "colorscale": [
                          [
                            0,
                            "#0d0887"
                          ],
                          [
                            0.1111111111111111,
                            "#46039f"
                          ],
                          [
                            0.2222222222222222,
                            "#7201a8"
                          ],
                          [
                            0.3333333333333333,
                            "#9c179e"
                          ],
                          [
                            0.4444444444444444,
                            "#bd3786"
                          ],
                          [
                            0.5555555555555556,
                            "#d8576b"
                          ],
                          [
                            0.6666666666666666,
                            "#ed7953"
                          ],
                          [
                            0.7777777777777778,
                            "#fb9f3a"
                          ],
                          [
                            0.8888888888888888,
                            "#fdca26"
                          ],
                          [
                            1,
                            "#f0f921"
                          ]
                        ],
                        "type": "histogram2d"
                      }
                    ],
                    "histogram2dcontour": [
                      {
                        "colorbar": {
                          "outlinewidth": 0,
                          "ticks": ""
                        },
                        "colorscale": [
                          [
                            0,
                            "#0d0887"
                          ],
                          [
                            0.1111111111111111,
                            "#46039f"
                          ],
                          [
                            0.2222222222222222,
                            "#7201a8"
                          ],
                          [
                            0.3333333333333333,
                            "#9c179e"
                          ],
                          [
                            0.4444444444444444,
                            "#bd3786"
                          ],
                          [
                            0.5555555555555556,
                            "#d8576b"
                          ],
                          [
                            0.6666666666666666,
                            "#ed7953"
                          ],
                          [
                            0.7777777777777778,
                            "#fb9f3a"
                          ],
                          [
                            0.8888888888888888,
                            "#fdca26"
                          ],
                          [
                            1,
                            "#f0f921"
                          ]
                        ],
                        "type": "histogram2dcontour"
                      }
                    ],
                    "mesh3d": [
                      {
                        "colorbar": {
                          "outlinewidth": 0,
                          "ticks": ""
                        },
                        "type": "mesh3d"
                      }
                    ],
                    "parcoords": [
                      {
                        "line": {
                          "colorbar": {
                            "outlinewidth": 0,
                            "ticks": ""
                          }
                        },
                        "type": "parcoords"
                      }
                    ],
                    "pie": [
                      {
                        "automargin": true,
                        "type": "pie"
                      }
                    ],
                    "scatter": [
                      {
                        "fillpattern": {
                          "fillmode": "overlay",
                          "size": 10,
                          "solidity": 0.2
                        },
                        "type": "scatter"
                      }
                    ],
                    "scatter3d": [
                      {
                        "line": {
                          "colorbar": {
                            "outlinewidth": 0,
                            "ticks": ""
                          }
                        },
                        "marker": {
                          "colorbar": {
                            "outlinewidth": 0,
                            "ticks": ""
                          }
                        },
                        "type": "scatter3d"
                      }
                    ],
                    "scattercarpet": [
                      {
                        "marker": {
                          "colorbar": {
                            "outlinewidth": 0,
                            "ticks": ""
                          }
                        },
                        "type": "scattercarpet"
                      }
                    ],
                    "scattergeo": [
                      {
                        "marker": {
                          "colorbar": {
                            "outlinewidth": 0,
                            "ticks": ""
                          }
                        },
                        "type": "scattergeo"
                      }
                    ],
                    "scattergl": [
                      {
                        "marker": {
                          "colorbar": {
                            "outlinewidth": 0,
                            "ticks": ""
                          }
                        },
                        "type": "scattergl"
                      }
                    ],
                    "scattermap": [
                      {
                        "marker": {
                          "colorbar": {
                            "outlinewidth": 0,
                            "ticks": ""
                          }
                        },
                        "type": "scattermap"
                      }
                    ],
                    "scattermapbox": [
                      {
                        "marker": {
                          "colorbar": {
                            "outlinewidth": 0,
                            "ticks": ""
                          }
                        },
                        "type": "scattermapbox"
                      }
                    ],
                    "scatterpolar": [
                      {
                        "marker": {
                          "colorbar": {
                            "outlinewidth": 0,
                            "ticks": ""
                          }
                        },
                        "type": "scatterpolar"
                      }
                    ],
                    "scatterpolargl": [
                      {
                        "marker": {
                          "colorbar": {
                            "outlinewidth": 0,
                            "ticks": ""
                          }
                        },
                        "type": "scatterpolargl"
                      }
                    ],
                    "scatterternary": [
                      {
                        "marker": {
                          "colorbar": {
                            "outlinewidth": 0,
                            "ticks": ""
                          }
                        },
                        "type": "scatterternary"
                      }
                    ],
                    "surface": [
                      {
                        "colorbar": {
                          "outlinewidth": 0,
                          "ticks": ""
                        },
                        "colorscale": [
                          [
                            0,
                            "#0d0887"
                          ],
                          [
                            0.1111111111111111,
                            "#46039f"
                          ],
                          [
                            0.2222222222222222,
                            "#7201a8"
                          ],
                          [
                            0.3333333333333333,
                            "#9c179e"
                          ],
                          [
                            0.4444444444444444,
                            "#bd3786"
                          ],
                          [
                            0.5555555555555556,
                            "#d8576b"
                          ],
                          [
                            0.6666666666666666,
                            "#ed7953"
                          ],
                          [
                            0.7777777777777778,
                            "#fb9f3a"
                          ],
                          [
                            0.8888888888888888,
                            "#fdca26"
                          ],
                          [
                            1,
                            "#f0f921"
                          ]
                        ],
                        "type": "surface"
                      }
                    ],
                    "table": [
                      {
                        "cells": {
                          "fill": {
                            "color": "#EBF0F8"
                          },
                          "line": {
                            "color": "white"
                          }
                        },
                        "header": {
                          "fill": {
                            "color": "#C8D4E3"
                          },
                          "line": {
                            "color": "white"
                          }
                        },
                        "type": "table"
                      }
                    ]
                  },
                  "layout": {
                    "annotationdefaults": {
                      "arrowcolor": "#2a3f5f",
                      "arrowhead": 0,
                      "arrowwidth": 1
                    },
                    "autotypenumbers": "strict",
                    "coloraxis": {
                      "colorbar": {
                        "outlinewidth": 0,
                        "ticks": ""
                      }
                    },
                    "colorscale": {
                      "diverging": [
                        [
                          0,
                          "#8e0152"
                        ],
                        [
                          0.1,
                          "#c51b7d"
                        ],
                        [
                          0.2,
                          "#de77ae"
                        ],
                        [
                          0.3,
                          "#f1b6da"
                        ],
                        [
                          0.4,
                          "#fde0ef"
                        ],
                        [
                          0.5,
                          "#f7f7f7"
                        ],
                        [
                          0.6,
                          "#e6f5d0"
                        ],
                        [
                          0.7,
                          "#b8e186"
                        ],
                        [
                          0.8,
                          "#7fbc41"
                        ],
                        [
                          0.9,
                          "#4d9221"
                        ],
                        [
                          1,
                          "#276419"
                        ]
                      ],
                      "sequential": [
                        [
                          0,
                          "#0d0887"
                        ],
                        [
                          0.1111111111111111,
                          "#46039f"
                        ],
                        [
                          0.2222222222222222,
                          "#7201a8"
                        ],
                        [
                          0.3333333333333333,
                          "#9c179e"
                        ],
                        [
                          0.4444444444444444,
                          "#bd3786"
                        ],
                        [
                          0.5555555555555556,
                          "#d8576b"
                        ],
                        [
                          0.6666666666666666,
                          "#ed7953"
                        ],
                        [
                          0.7777777777777778,
                          "#fb9f3a"
                        ],
                        [
                          0.8888888888888888,
                          "#fdca26"
                        ],
                        [
                          1,
                          "#f0f921"
                        ]
                      ],
                      "sequentialminus": [
                        [
                          0,
                          "#0d0887"
                        ],
                        [
                          0.1111111111111111,
                          "#46039f"
                        ],
                        [
                          0.2222222222222222,
                          "#7201a8"
                        ],
                        [
                          0.3333333333333333,
                          "#9c179e"
                        ],
                        [
                          0.4444444444444444,
                          "#bd3786"
                        ],
                        [
                          0.5555555555555556,
                          "#d8576b"
                        ],
                        [
                          0.6666666666666666,
                          "#ed7953"
                        ],
                        [
                          0.7777777777777778,
                          "#fb9f3a"
                        ],
                        [
                          0.8888888888888888,
                          "#fdca26"
                        ],
                        [
                          1,
                          "#f0f921"
                        ]
                      ]
                    },
                    "colorway": [
                      "#636efa",
                      "#EF553B",
                      "#00cc96",
                      "#ab63fa",
                      "#FFA15A",
                      "#19d3f3",
                      "#FF6692",
                      "#B6E880",
                      "#FF97FF",
                      "#FECB52"
                    ],
                    "font": {
                      "color": "#2a3f5f"
                    },
                    "geo": {
                      "bgcolor": "white",
                      "lakecolor": "white",
                      "landcolor": "white",
                      "showlakes": true,
                      "showland": true,
                      "subunitcolor": "#C8D4E3"
                    },
                    "hoverlabel": {
                      "align": "left"
                    },
                    "hovermode": "closest",
                    "mapbox": {
                      "style": "light"
                    },
                    "paper_bgcolor": "white",
                    "plot_bgcolor": "white",
                    "polar": {
                      "angularaxis": {
                        "gridcolor": "#EBF0F8",
                        "linecolor": "#EBF0F8",
                        "ticks": ""
                      },
                      "bgcolor": "white",
                      "radialaxis": {
                        "gridcolor": "#EBF0F8",
                        "linecolor": "#EBF0F8",
                        "ticks": ""
                      }
                    },
                    "scene": {
                      "xaxis": {
                        "backgroundcolor": "white",
                        "gridcolor": "#DFE8F3",
                        "gridwidth": 2,
                        "linecolor": "#EBF0F8",
                        "showbackground": true,
                        "ticks": "",
                        "zerolinecolor": "#EBF0F8"
                      },
                      "yaxis": {
                        "backgroundcolor": "white",
                        "gridcolor": "#DFE8F3",
                        "gridwidth": 2,
                        "linecolor": "#EBF0F8",
                        "showbackground": true,
                        "ticks": "",
                        "zerolinecolor": "#EBF0F8"
                      },
                      "zaxis": {
                        "backgroundcolor": "white",
                        "gridcolor": "#DFE8F3",
                        "gridwidth": 2,
                        "linecolor": "#EBF0F8",
                        "showbackground": true,
                        "ticks": "",
                        "zerolinecolor": "#EBF0F8"
                      }
                    },
                    "shapedefaults": {
                      "line": {
                        "color": "#2a3f5f"
                      }
                    },
                    "ternary": {
                      "aaxis": {
                        "gridcolor": "#DFE8F3",
                        "linecolor": "#A2B1C6",
                        "ticks": ""
                      },
                      "baxis": {
                        "gridcolor": "#DFE8F3",
                        "linecolor": "#A2B1C6",
                        "ticks": ""
                      },
                      "bgcolor": "white",
                      "caxis": {
                        "gridcolor": "#DFE8F3",
                        "linecolor": "#A2B1C6",
                        "ticks": ""
                      }
                    },
                    "title": {
                      "x": 0.05
                    },
                    "xaxis": {
                      "automargin": true,
                      "gridcolor": "#EBF0F8",
                      "linecolor": "#EBF0F8",
                      "ticks": "",
                      "title": {
                        "standoff": 15
                      },
                      "zerolinecolor": "#EBF0F8",
                      "zerolinewidth": 2
                    },
                    "yaxis": {
                      "automargin": true,
                      "gridcolor": "#EBF0F8",
                      "linecolor": "#EBF0F8",
                      "ticks": "",
                      "title": {
                        "standoff": 15
                      },
                      "zerolinecolor": "#EBF0F8",
                      "zerolinewidth": 2
                    }
                  }
                },
                "title": {
                  "text": "Comparación de Curvas de Equity (Top 5 por Sharpe Ratio)"
                },
                "xaxis": {
                  "title": {
                    "text": "Fecha"
                  }
                },
                "yaxis": {
                  "title": {
                    "text": "Equity Normalizada (Base 100)"
                  }
                }
              }
            }
          },
          "metadata": {},
          "output_type": "display_data"
        },
        {
          "name": "stdout",
          "output_type": "stream",
          "text": [
            "Error al cargar BTCUSDT_1h_MA_Crossover_params20, 'long_window': 50_futures_3x: [Errno 2] No such file or directory: \"data/backtest_results/equity_curves/BTCUSDT_1h_MA_Crossover_params20, 'long_window': 50_futures_3x_equity.csv\"\n",
            "Error al cargar BTCUSDT_1h_MA_Crossover_params20, 'long_window': 50_futures_10x: [Errno 2] No such file or directory: \"data/backtest_results/equity_curves/BTCUSDT_1h_MA_Crossover_params20, 'long_window': 50_futures_10x_equity.csv\"\n",
            "Error al cargar BTCUSDT_1h_Bollinger_Breakout_params20, 'n_std': 2.0_futures_3x: [Errno 2] No such file or directory: \"data/backtest_results/equity_curves/BTCUSDT_1h_Bollinger_Breakout_params20, 'n_std': 2.0_futures_3x_equity.csv\"\n",
            "Error al cargar BTCUSDT_1h_MACD_Momentum_params12, 'slow': 26, 'signal': 9_futures_10x: [Errno 22] Invalid argument: \"data/backtest_results/equity_curves/BTCUSDT_1h_MACD_Momentum_params12, 'slow': 26, 'signal': 9_futures_10x_equity.csv\"\n",
            "Error al cargar BTCUSDT_1h_MACD_Momentum_params12, 'slow': 26, 'signal': 9_futures_3x: [Errno 22] Invalid argument: \"data/backtest_results/equity_curves/BTCUSDT_1h_MACD_Momentum_params12, 'slow': 26, 'signal': 9_futures_3x_equity.csv\"\n"
          ]
        },
        {
          "data": {
            "application/vnd.plotly.v1+json": {
              "config": {
                "plotlyServerURL": "https://plot.ly"
              },
              "data": [],
              "layout": {
                "template": {
                  "data": {
                    "bar": [
                      {
                        "error_x": {
                          "color": "#2a3f5f"
                        },
                        "error_y": {
                          "color": "#2a3f5f"
                        },
                        "marker": {
                          "line": {
                            "color": "white",
                            "width": 0.5
                          },
                          "pattern": {
                            "fillmode": "overlay",
                            "size": 10,
                            "solidity": 0.2
                          }
                        },
                        "type": "bar"
                      }
                    ],
                    "barpolar": [
                      {
                        "marker": {
                          "line": {
                            "color": "white",
                            "width": 0.5
                          },
                          "pattern": {
                            "fillmode": "overlay",
                            "size": 10,
                            "solidity": 0.2
                          }
                        },
                        "type": "barpolar"
                      }
                    ],
                    "carpet": [
                      {
                        "aaxis": {
                          "endlinecolor": "#2a3f5f",
                          "gridcolor": "#C8D4E3",
                          "linecolor": "#C8D4E3",
                          "minorgridcolor": "#C8D4E3",
                          "startlinecolor": "#2a3f5f"
                        },
                        "baxis": {
                          "endlinecolor": "#2a3f5f",
                          "gridcolor": "#C8D4E3",
                          "linecolor": "#C8D4E3",
                          "minorgridcolor": "#C8D4E3",
                          "startlinecolor": "#2a3f5f"
                        },
                        "type": "carpet"
                      }
                    ],
                    "choropleth": [
                      {
                        "colorbar": {
                          "outlinewidth": 0,
                          "ticks": ""
                        },
                        "type": "choropleth"
                      }
                    ],
                    "contour": [
                      {
                        "colorbar": {
                          "outlinewidth": 0,
                          "ticks": ""
                        },
                        "colorscale": [
                          [
                            0,
                            "#0d0887"
                          ],
                          [
                            0.1111111111111111,
                            "#46039f"
                          ],
                          [
                            0.2222222222222222,
                            "#7201a8"
                          ],
                          [
                            0.3333333333333333,
                            "#9c179e"
                          ],
                          [
                            0.4444444444444444,
                            "#bd3786"
                          ],
                          [
                            0.5555555555555556,
                            "#d8576b"
                          ],
                          [
                            0.6666666666666666,
                            "#ed7953"
                          ],
                          [
                            0.7777777777777778,
                            "#fb9f3a"
                          ],
                          [
                            0.8888888888888888,
                            "#fdca26"
                          ],
                          [
                            1,
                            "#f0f921"
                          ]
                        ],
                        "type": "contour"
                      }
                    ],
                    "contourcarpet": [
                      {
                        "colorbar": {
                          "outlinewidth": 0,
                          "ticks": ""
                        },
                        "type": "contourcarpet"
                      }
                    ],
                    "heatmap": [
                      {
                        "colorbar": {
                          "outlinewidth": 0,
                          "ticks": ""
                        },
                        "colorscale": [
                          [
                            0,
                            "#0d0887"
                          ],
                          [
                            0.1111111111111111,
                            "#46039f"
                          ],
                          [
                            0.2222222222222222,
                            "#7201a8"
                          ],
                          [
                            0.3333333333333333,
                            "#9c179e"
                          ],
                          [
                            0.4444444444444444,
                            "#bd3786"
                          ],
                          [
                            0.5555555555555556,
                            "#d8576b"
                          ],
                          [
                            0.6666666666666666,
                            "#ed7953"
                          ],
                          [
                            0.7777777777777778,
                            "#fb9f3a"
                          ],
                          [
                            0.8888888888888888,
                            "#fdca26"
                          ],
                          [
                            1,
                            "#f0f921"
                          ]
                        ],
                        "type": "heatmap"
                      }
                    ],
                    "histogram": [
                      {
                        "marker": {
                          "pattern": {
                            "fillmode": "overlay",
                            "size": 10,
                            "solidity": 0.2
                          }
                        },
                        "type": "histogram"
                      }
                    ],
                    "histogram2d": [
                      {
                        "colorbar": {
                          "outlinewidth": 0,
                          "ticks": ""
                        },
                        "colorscale": [
                          [
                            0,
                            "#0d0887"
                          ],
                          [
                            0.1111111111111111,
                            "#46039f"
                          ],
                          [
                            0.2222222222222222,
                            "#7201a8"
                          ],
                          [
                            0.3333333333333333,
                            "#9c179e"
                          ],
                          [
                            0.4444444444444444,
                            "#bd3786"
                          ],
                          [
                            0.5555555555555556,
                            "#d8576b"
                          ],
                          [
                            0.6666666666666666,
                            "#ed7953"
                          ],
                          [
                            0.7777777777777778,
                            "#fb9f3a"
                          ],
                          [
                            0.8888888888888888,
                            "#fdca26"
                          ],
                          [
                            1,
                            "#f0f921"
                          ]
                        ],
                        "type": "histogram2d"
                      }
                    ],
                    "histogram2dcontour": [
                      {
                        "colorbar": {
                          "outlinewidth": 0,
                          "ticks": ""
                        },
                        "colorscale": [
                          [
                            0,
                            "#0d0887"
                          ],
                          [
                            0.1111111111111111,
                            "#46039f"
                          ],
                          [
                            0.2222222222222222,
                            "#7201a8"
                          ],
                          [
                            0.3333333333333333,
                            "#9c179e"
                          ],
                          [
                            0.4444444444444444,
                            "#bd3786"
                          ],
                          [
                            0.5555555555555556,
                            "#d8576b"
                          ],
                          [
                            0.6666666666666666,
                            "#ed7953"
                          ],
                          [
                            0.7777777777777778,
                            "#fb9f3a"
                          ],
                          [
                            0.8888888888888888,
                            "#fdca26"
                          ],
                          [
                            1,
                            "#f0f921"
                          ]
                        ],
                        "type": "histogram2dcontour"
                      }
                    ],
                    "mesh3d": [
                      {
                        "colorbar": {
                          "outlinewidth": 0,
                          "ticks": ""
                        },
                        "type": "mesh3d"
                      }
                    ],
                    "parcoords": [
                      {
                        "line": {
                          "colorbar": {
                            "outlinewidth": 0,
                            "ticks": ""
                          }
                        },
                        "type": "parcoords"
                      }
                    ],
                    "pie": [
                      {
                        "automargin": true,
                        "type": "pie"
                      }
                    ],
                    "scatter": [
                      {
                        "fillpattern": {
                          "fillmode": "overlay",
                          "size": 10,
                          "solidity": 0.2
                        },
                        "type": "scatter"
                      }
                    ],
                    "scatter3d": [
                      {
                        "line": {
                          "colorbar": {
                            "outlinewidth": 0,
                            "ticks": ""
                          }
                        },
                        "marker": {
                          "colorbar": {
                            "outlinewidth": 0,
                            "ticks": ""
                          }
                        },
                        "type": "scatter3d"
                      }
                    ],
                    "scattercarpet": [
                      {
                        "marker": {
                          "colorbar": {
                            "outlinewidth": 0,
                            "ticks": ""
                          }
                        },
                        "type": "scattercarpet"
                      }
                    ],
                    "scattergeo": [
                      {
                        "marker": {
                          "colorbar": {
                            "outlinewidth": 0,
                            "ticks": ""
                          }
                        },
                        "type": "scattergeo"
                      }
                    ],
                    "scattergl": [
                      {
                        "marker": {
                          "colorbar": {
                            "outlinewidth": 0,
                            "ticks": ""
                          }
                        },
                        "type": "scattergl"
                      }
                    ],
                    "scattermap": [
                      {
                        "marker": {
                          "colorbar": {
                            "outlinewidth": 0,
                            "ticks": ""
                          }
                        },
                        "type": "scattermap"
                      }
                    ],
                    "scattermapbox": [
                      {
                        "marker": {
                          "colorbar": {
                            "outlinewidth": 0,
                            "ticks": ""
                          }
                        },
                        "type": "scattermapbox"
                      }
                    ],
                    "scatterpolar": [
                      {
                        "marker": {
                          "colorbar": {
                            "outlinewidth": 0,
                            "ticks": ""
                          }
                        },
                        "type": "scatterpolar"
                      }
                    ],
                    "scatterpolargl": [
                      {
                        "marker": {
                          "colorbar": {
                            "outlinewidth": 0,
                            "ticks": ""
                          }
                        },
                        "type": "scatterpolargl"
                      }
                    ],
                    "scatterternary": [
                      {
                        "marker": {
                          "colorbar": {
                            "outlinewidth": 0,
                            "ticks": ""
                          }
                        },
                        "type": "scatterternary"
                      }
                    ],
                    "surface": [
                      {
                        "colorbar": {
                          "outlinewidth": 0,
                          "ticks": ""
                        },
                        "colorscale": [
                          [
                            0,
                            "#0d0887"
                          ],
                          [
                            0.1111111111111111,
                            "#46039f"
                          ],
                          [
                            0.2222222222222222,
                            "#7201a8"
                          ],
                          [
                            0.3333333333333333,
                            "#9c179e"
                          ],
                          [
                            0.4444444444444444,
                            "#bd3786"
                          ],
                          [
                            0.5555555555555556,
                            "#d8576b"
                          ],
                          [
                            0.6666666666666666,
                            "#ed7953"
                          ],
                          [
                            0.7777777777777778,
                            "#fb9f3a"
                          ],
                          [
                            0.8888888888888888,
                            "#fdca26"
                          ],
                          [
                            1,
                            "#f0f921"
                          ]
                        ],
                        "type": "surface"
                      }
                    ],
                    "table": [
                      {
                        "cells": {
                          "fill": {
                            "color": "#EBF0F8"
                          },
                          "line": {
                            "color": "white"
                          }
                        },
                        "header": {
                          "fill": {
                            "color": "#C8D4E3"
                          },
                          "line": {
                            "color": "white"
                          }
                        },
                        "type": "table"
                      }
                    ]
                  },
                  "layout": {
                    "annotationdefaults": {
                      "arrowcolor": "#2a3f5f",
                      "arrowhead": 0,
                      "arrowwidth": 1
                    },
                    "autotypenumbers": "strict",
                    "coloraxis": {
                      "colorbar": {
                        "outlinewidth": 0,
                        "ticks": ""
                      }
                    },
                    "colorscale": {
                      "diverging": [
                        [
                          0,
                          "#8e0152"
                        ],
                        [
                          0.1,
                          "#c51b7d"
                        ],
                        [
                          0.2,
                          "#de77ae"
                        ],
                        [
                          0.3,
                          "#f1b6da"
                        ],
                        [
                          0.4,
                          "#fde0ef"
                        ],
                        [
                          0.5,
                          "#f7f7f7"
                        ],
                        [
                          0.6,
                          "#e6f5d0"
                        ],
                        [
                          0.7,
                          "#b8e186"
                        ],
                        [
                          0.8,
                          "#7fbc41"
                        ],
                        [
                          0.9,
                          "#4d9221"
                        ],
                        [
                          1,
                          "#276419"
                        ]
                      ],
                      "sequential": [
                        [
                          0,
                          "#0d0887"
                        ],
                        [
                          0.1111111111111111,
                          "#46039f"
                        ],
                        [
                          0.2222222222222222,
                          "#7201a8"
                        ],
                        [
                          0.3333333333333333,
                          "#9c179e"
                        ],
                        [
                          0.4444444444444444,
                          "#bd3786"
                        ],
                        [
                          0.5555555555555556,
                          "#d8576b"
                        ],
                        [
                          0.6666666666666666,
                          "#ed7953"
                        ],
                        [
                          0.7777777777777778,
                          "#fb9f3a"
                        ],
                        [
                          0.8888888888888888,
                          "#fdca26"
                        ],
                        [
                          1,
                          "#f0f921"
                        ]
                      ],
                      "sequentialminus": [
                        [
                          0,
                          "#0d0887"
                        ],
                        [
                          0.1111111111111111,
                          "#46039f"
                        ],
                        [
                          0.2222222222222222,
                          "#7201a8"
                        ],
                        [
                          0.3333333333333333,
                          "#9c179e"
                        ],
                        [
                          0.4444444444444444,
                          "#bd3786"
                        ],
                        [
                          0.5555555555555556,
                          "#d8576b"
                        ],
                        [
                          0.6666666666666666,
                          "#ed7953"
                        ],
                        [
                          0.7777777777777778,
                          "#fb9f3a"
                        ],
                        [
                          0.8888888888888888,
                          "#fdca26"
                        ],
                        [
                          1,
                          "#f0f921"
                        ]
                      ]
                    },
                    "colorway": [
                      "#636efa",
                      "#EF553B",
                      "#00cc96",
                      "#ab63fa",
                      "#FFA15A",
                      "#19d3f3",
                      "#FF6692",
                      "#B6E880",
                      "#FF97FF",
                      "#FECB52"
                    ],
                    "font": {
                      "color": "#2a3f5f"
                    },
                    "geo": {
                      "bgcolor": "white",
                      "lakecolor": "white",
                      "landcolor": "white",
                      "showlakes": true,
                      "showland": true,
                      "subunitcolor": "#C8D4E3"
                    },
                    "hoverlabel": {
                      "align": "left"
                    },
                    "hovermode": "closest",
                    "mapbox": {
                      "style": "light"
                    },
                    "paper_bgcolor": "white",
                    "plot_bgcolor": "white",
                    "polar": {
                      "angularaxis": {
                        "gridcolor": "#EBF0F8",
                        "linecolor": "#EBF0F8",
                        "ticks": ""
                      },
                      "bgcolor": "white",
                      "radialaxis": {
                        "gridcolor": "#EBF0F8",
                        "linecolor": "#EBF0F8",
                        "ticks": ""
                      }
                    },
                    "scene": {
                      "xaxis": {
                        "backgroundcolor": "white",
                        "gridcolor": "#DFE8F3",
                        "gridwidth": 2,
                        "linecolor": "#EBF0F8",
                        "showbackground": true,
                        "ticks": "",
                        "zerolinecolor": "#EBF0F8"
                      },
                      "yaxis": {
                        "backgroundcolor": "white",
                        "gridcolor": "#DFE8F3",
                        "gridwidth": 2,
                        "linecolor": "#EBF0F8",
                        "showbackground": true,
                        "ticks": "",
                        "zerolinecolor": "#EBF0F8"
                      },
                      "zaxis": {
                        "backgroundcolor": "white",
                        "gridcolor": "#DFE8F3",
                        "gridwidth": 2,
                        "linecolor": "#EBF0F8",
                        "showbackground": true,
                        "ticks": "",
                        "zerolinecolor": "#EBF0F8"
                      }
                    },
                    "shapedefaults": {
                      "line": {
                        "color": "#2a3f5f"
                      }
                    },
                    "ternary": {
                      "aaxis": {
                        "gridcolor": "#DFE8F3",
                        "linecolor": "#A2B1C6",
                        "ticks": ""
                      },
                      "baxis": {
                        "gridcolor": "#DFE8F3",
                        "linecolor": "#A2B1C6",
                        "ticks": ""
                      },
                      "bgcolor": "white",
                      "caxis": {
                        "gridcolor": "#DFE8F3",
                        "linecolor": "#A2B1C6",
                        "ticks": ""
                      }
                    },
                    "title": {
                      "x": 0.05
                    },
                    "xaxis": {
                      "automargin": true,
                      "gridcolor": "#EBF0F8",
                      "linecolor": "#EBF0F8",
                      "ticks": "",
                      "title": {
                        "standoff": 15
                      },
                      "zerolinecolor": "#EBF0F8",
                      "zerolinewidth": 2
                    },
                    "yaxis": {
                      "automargin": true,
                      "gridcolor": "#EBF0F8",
                      "linecolor": "#EBF0F8",
                      "ticks": "",
                      "title": {
                        "standoff": 15
                      },
                      "zerolinecolor": "#EBF0F8",
                      "zerolinewidth": 2
                    }
                  }
                },
                "title": {
                  "text": "Comparación de Curvas de Equity (Top 5 por Net Profit)"
                },
                "xaxis": {
                  "title": {
                    "text": "Fecha"
                  }
                },
                "yaxis": {
                  "title": {
                    "text": "Equity Normalizada (Base 100)"
                  }
                }
              }
            }
          },
          "metadata": {},
          "output_type": "display_data"
        }
      ],
      "source": [
        "# Comparar curvas de equity de las mejores estrategias\n",
        "if not all_results.empty:\n",
        "    # Por Sharpe Ratio\n",
        "    fig_sharpe = compare_equity_curves(top_n=5, metric='Sharpe Ratio')\n",
        "    fig_sharpe.show()\n",
        "    \n",
        "    # Por Net Profit\n",
        "    fig_profit = compare_equity_curves(top_n=5, metric='Net Profit')\n",
        "    fig_profit.show()"
      ]
    },
    {
      "cell_type": "markdown",
      "id": "215b0680",
      "metadata": {
        "language": "markdown"
      },
      "source": [
        "## Análisis Avanzado de Rendimiento\n",
        "\n",
        "Podemos profundizar en las características de las mejores estrategias para entender mejor su comportamiento."
      ]
    },
    {
      "cell_type": "code",
      "execution_count": 68,
      "id": "07a5c1e0",
      "metadata": {
        "language": "python"
      },
      "outputs": [],
      "source": [
        "def analyze_best_strategy(metric='Sharpe Ratio'):\n",
        "    \"\"\"Analizar en detalle la mejor estrategia según una métrica\"\"\"\n",
        "    if all_results.empty:\n",
        "        return\n",
        "    \n",
        "    # Obtener la mejor estrategia\n",
        "    best_strategy = all_results.loc[all_results[metric].idxmax()]\n",
        "    \n",
        "    print(f\"\\n=== Análisis de la Mejor Estrategia por {metric} ===\\n\")\n",
        "    print(f\"Símbolo: {best_strategy['Symbol']}\")\n",
        "    print(f\"Timeframe: {best_strategy['Timeframe']}\")\n",
        "    print(f\"Estrategia: {best_strategy['Strategy']}\")\n",
        "    print(f\"Parámetros: {best_strategy['Params']}\")\n",
        "    print(f\"Modo: {best_strategy['Mode']}\")\n",
        "    print(f\"\\n--- Métricas ---\")\n",
        "    for key, value in best_strategy.items():\n",
        "        if key not in ['Symbol', 'Timeframe', 'Strategy', 'Params', 'Mode']:\n",
        "            print(f\"{key}: {value}\")\n",
        "    \n",
        "    # Construir nombre del archivo para los trades\n",
        "    base_filename = f\"{best_strategy['Symbol']}_{best_strategy['Timeframe']}_{best_strategy['Strategy']}_params{best_strategy['Params']}_{best_strategy['Mode']}\"\n",
        "    \n",
        "    # Cargar y analizar los trades\n",
        "    try:\n",
        "        trades_file = f\"data/backtest_results/trades/{base_filename}_trades.csv\"\n",
        "        trades_df = pd.read_csv(trades_file)\n",
        "        \n",
        "        # Añadir columna de PnL porcentual\n",
        "        if 'Entry Price' in trades_df.columns and 'Exit Price' in trades_df.columns and 'Position' in trades_df.columns:\n",
        "            trades_df['PnL_pct'] = trades_df.apply(\n",
        "                lambda x: ((x['Exit Price'] - x['Entry Price']) / x['Entry Price'] * 100) if x['Position'] == 'Long' \n",
        "                else ((x['Entry Price'] - x['Exit Price']) / x['Entry Price'] * 100),\n",
        "                axis=1\n",
        "            )\n",
        "            \n",
        "            # Análisis estadístico de trades\n",
        "            print(\"\\n--- Análisis de Trades ---\")\n",
        "            print(f\"Total Trades: {len(trades_df)}\")\n",
        "            print(f\"Trades Positivos: {sum(trades_df['PnL'] > 0)}\")\n",
        "            print(f\"Trades Negativos: {sum(trades_df['PnL'] <= 0)}\")\n",
        "            print(f\"PnL Promedio: ${trades_df['PnL'].mean():.2f}\")\n",
        "            print(f\"PnL Máximo: ${trades_df['PnL'].max():.2f}\")\n",
        "            print(f\"PnL Mínimo: ${trades_df['PnL'].min():.2f}\")\n",
        "            print(f\"Desviación Estándar PnL: ${trades_df['PnL'].std():.2f}\")\n",
        "            \n",
        "            # Duración promedio de trades\n",
        "            if 'Entry Time' in trades_df.columns and 'Exit Time' in trades_df.columns:\n",
        "                trades_df['Entry Time'] = pd.to_datetime(trades_df['Entry Time'])\n",
        "                trades_df['Exit Time'] = pd.to_datetime(trades_df['Exit Time'])\n",
        "                trades_df['Duration'] = trades_df['Exit Time'] - trades_df['Entry Time']\n",
        "                print(f\"Duración Promedio de Trades: {trades_df['Duration'].mean()}\")\n",
        "            \n",
        "            # Gráfico de distribución de PnL\n",
        "            plt.figure(figsize=(10, 6))\n",
        "            sns.histplot(trades_df['PnL'], kde=True)\n",
        "            plt.title(f\"Distribución de PnL - {best_strategy['Strategy']} {best_strategy['Symbol']} {best_strategy['Timeframe']}\")\n",
        "            plt.xlabel(\"PnL ($)\")\n",
        "            plt.ylabel(\"Frecuencia\")\n",
        "            plt.axvline(x=0, color='r', linestyle='--')\n",
        "            plt.savefig(f\"data/backtest_results/charts/{base_filename}_pnl_distribution.png\")\n",
        "            plt.show()\n",
        "            \n",
        "            # Gráfico de PnL acumulativo\n",
        "            plt.figure(figsize=(10, 6))\n",
        "            trades_df['Cumulative_PnL'] = trades_df['PnL'].cumsum()\n",
        "            plt.plot(trades_df['Cumulative_PnL'])\n",
        "            plt.title(f\"PnL Acumulativo - {best_strategy['Strategy']} {best_strategy['Symbol']} {best_strategy['Timeframe']}\")\n",
        "            plt.xlabel(\"Número de Trade\")\n",
        "            plt.ylabel(\"PnL Acumulativo ($)\")\n",
        "            plt.grid(True, alpha=0.3)\n",
        "            plt.savefig(f\"data/backtest_results/charts/{base_filename}_cumulative_pnl.png\")\n",
        "            plt.show()\n",
        "    except Exception as e:\n",
        "        print(f\"Error al analizar trades: {str(e)}\")\n",
        "        \n",
        "    return best_strategy"
      ]
    },
    {
      "cell_type": "code",
      "execution_count": 69,
      "id": "3cb78120",
      "metadata": {
        "language": "python"
      },
      "outputs": [
        {
          "name": "stdout",
          "output_type": "stream",
          "text": [
            "\n",
            "=== Análisis de la Mejor Estrategia por Sharpe Ratio ===\n",
            "\n",
            "Símbolo: ETHUSDT\n",
            "Timeframe: 1d\n",
            "Estrategia: RSI_Reversion\n",
            "Parámetros: {'period': 14, 'overbought': 75, 'oversold': 25}\n",
            "Modo: spot\n",
            "\n",
            "--- Métricas ---\n",
            "Original_Net_Profit: 31.03\n",
            "Normalization_Factor: 1.0\n",
            "Was_Normalized: False\n",
            "Net Profit: 31.03\n",
            "Max Drawdown: 4.89\n",
            "Sharpe Ratio: 5.71\n",
            "Total Trades: 1\n",
            "Win Rate (%): 100.0\n",
            "Avg Win: 31.17\n",
            "Avg Loss: 0.0\n",
            "Expectancy: 31.17\n",
            "Liquidations: nan\n",
            "Funding Impact: nan\n",
            "Error al analizar trades: [Errno 22] Invalid argument: \"data/backtest_results/trades/ETHUSDT_1d_RSI_Reversion_params{'period': 14, 'overbought': 75, 'oversold': 25}_spot_trades.csv\"\n",
            "\n",
            "=== Análisis de la Mejor Estrategia por Net Profit ===\n",
            "\n",
            "Símbolo: BTCUSDT\n",
            "Timeframe: 1h\n",
            "Estrategia: MA_Crossover\n",
            "Parámetros: {'short_window': 20, 'long_window': 50}\n",
            "Modo: futures_3x\n",
            "\n",
            "--- Métricas ---\n",
            "Original_Net_Profit: 370124397.96\n",
            "Normalization_Factor: 0.00027017943305322767\n",
            "Was_Normalized: True\n",
            "Net Profit: 100000.0\n",
            "Max Drawdown: 3871.409947297926\n",
            "Sharpe Ratio: 2.35\n",
            "Total Trades: 22\n",
            "Win Rate (%): 100.0\n",
            "Avg Win: 3972.4133375257707\n",
            "Avg Loss: 0.0\n",
            "Expectancy: 3972.4133375257707\n",
            "Liquidations: 0.0\n",
            "Funding Impact: 1200.450390325304\n",
            "Error al analizar trades: [Errno 22] Invalid argument: \"data/backtest_results/trades/BTCUSDT_1h_MA_Crossover_params{'short_window': 20, 'long_window': 50}_futures_3x_trades.csv\"\n"
          ]
        }
      ],
      "source": [
        "# Analizar las mejores estrategias en detalle\n",
        "if not all_results.empty:\n",
        "    # Analizar por Sharpe Ratio\n",
        "    best_by_sharpe = analyze_best_strategy(metric='Sharpe Ratio')\n",
        "    \n",
        "    # Analizar por Net Profit\n",
        "    best_by_profit = analyze_best_strategy(metric='Net Profit')"
      ]
    },
    {
      "cell_type": "markdown",
      "id": "41d83635",
      "metadata": {
        "language": "markdown"
      },
      "source": [
        "## Conclusiones y Recomendaciones\n",
        "\n",
        "Basándonos en los resultados de backtesting, podemos extraer las siguientes conclusiones y recomendaciones:"
      ]
    },
    {
      "cell_type": "code",
      "execution_count": 70,
      "id": "256d0255",
      "metadata": {
        "language": "python"
      },
      "outputs": [],
      "source": [
        "def generate_conclusions():\n",
        "    \"\"\"Genera conclusiones basadas en los resultados del backtesting\"\"\"\n",
        "    if all_results.empty:\n",
        "        return\n",
        "    \n",
        "    print(\"=== CONCLUSIONES DEL ANÁLISIS DE BACKTESTING ===\\n\")\n",
        "    \n",
        "    # Mejor símbolo en promedio\n",
        "    symbol_performance = all_results.groupby('Symbol')['Net Profit'].mean().sort_values(ascending=False)\n",
        "    best_symbol = symbol_performance.index[0]\n",
        "    print(f\"1. El símbolo con mejor rendimiento promedio fue {best_symbol} con ${symbol_performance.iloc[0]:.2f} de profit promedio.\")\n",
        "    \n",
        "    # Mejor timeframe en promedio\n",
        "    timeframe_performance = all_results.groupby('Timeframe')['Net Profit'].mean().sort_values(ascending=False)\n",
        "    best_timeframe = timeframe_performance.index[0]\n",
        "    print(f\"2. El timeframe más rentable fue {best_timeframe} con ${timeframe_performance.iloc[0]:.2f} de profit promedio.\")\n",
        "    \n",
        "    # Mejor estrategia en promedio\n",
        "    strategy_performance = all_results.groupby('Strategy')['Net Profit'].mean().sort_values(ascending=False)\n",
        "    best_strategy = strategy_performance.index[0]\n",
        "    print(f\"3. La estrategia con mejor rendimiento promedio fue {best_strategy} con ${strategy_performance.iloc[0]:.2f} de profit promedio.\")\n",
        "    \n",
        "    # Mejor modo de trading en promedio\n",
        "    mode_performance = all_results.groupby('Mode')['Net Profit'].mean().sort_values(ascending=False)\n",
        "    best_mode = mode_performance.index[0]\n",
        "    print(f\"4. El modo de trading más rentable fue {best_mode} con ${mode_performance.iloc[0]:.2f} de profit promedio.\")\n",
        "    \n",
        "    # Mejor combinación símbolo-estrategia\n",
        "    symbol_strategy = all_results.groupby(['Symbol', 'Strategy'])['Net Profit'].mean().sort_values(ascending=False)\n",
        "    best_combo = symbol_strategy.index[0]\n",
        "    print(f\"5. La mejor combinación símbolo-estrategia fue {best_combo[0]} con {best_combo[1]}, promediando ${symbol_strategy.iloc[0]:.2f} de profit.\")\n",
        "    \n",
        "    # Mejor estrategia por Sharpe Ratio\n",
        "    sharpe_performance = all_results.groupby('Strategy')['Sharpe Ratio'].mean().sort_values(ascending=False)\n",
        "    best_sharpe_strategy = sharpe_performance.index[0]\n",
        "    print(f\"6. La estrategia con mejor Sharpe Ratio promedio fue {best_sharpe_strategy} con {sharpe_performance.iloc[0]:.2f}.\")\n",
        "    \n",
        "    print(\"\\n=== RECOMENDACIONES ===\\n\")\n",
        "    \n",
        "    # Encontrar la configuración que maximiza rendimiento con riesgo controlado\n",
        "    # (Alto Sharpe + Profit sólido)\n",
        "    all_results['sharpe_profit_score'] = all_results['Sharpe Ratio'] * np.sqrt(all_results['Net Profit'].clip(lower=0))\n",
        "    best_overall = all_results.sort_values('sharpe_profit_score', ascending=False).iloc[0]\n",
        "    \n",
        "    print(f\"Basado en el análisis, la mejor configuración general es:\\n\")\n",
        "    print(f\"Símbolo: {best_overall['Symbol']}\")\n",
        "    print(f\"Timeframe: {best_overall['Timeframe']}\")\n",
        "    print(f\"Estrategia: {best_overall['Strategy']}\")\n",
        "    print(f\"Parámetros: {best_overall['Params']}\")\n",
        "    print(f\"Modo: {best_overall['Mode']}\")\n",
        "    print(f\"\\nEsta configuración produjo:\")\n",
        "    print(f\"Net Profit: ${best_overall['Net Profit']:.2f}\")\n",
        "    print(f\"Sharpe Ratio: {best_overall['Sharpe Ratio']:.2f}\")\n",
        "    print(f\"Max Drawdown: ${best_overall['Max Drawdown']:.2f}\")\n",
        "    print(f\"Win Rate: {best_overall['Win Rate (%)']:.2f}%\")\n",
        "    \n",
        "    # Guardar las conclusiones en un archivo\n",
        "    with open(\"data/backtest_results/conclusions.txt\", \"w\") as f:\n",
        "        f.write(\"=== CONCLUSIONES DEL ANÁLISIS DE BACKTESTING ===\\n\\n\")\n",
        "        f.write(f\"1. El símbolo con mejor rendimiento promedio fue {best_symbol} con ${symbol_performance.iloc[0]:.2f} de profit promedio.\\n\")\n",
        "        f.write(f\"2. El timeframe más rentable fue {best_timeframe} con ${timeframe_performance.iloc[0]:.2f} de profit promedio.\\n\")\n",
        "        f.write(f\"3. La estrategia con mejor rendimiento promedio fue {best_strategy} con ${strategy_performance.iloc[0]:.2f} de profit promedio.\\n\")\n",
        "        f.write(f\"4. El modo de trading más rentable fue {best_mode} con ${mode_performance.iloc[0]:.2f} de profit promedio.\\n\")\n",
        "        f.write(f\"5. La mejor combinación símbolo-estrategia fue {best_combo[0]} con {best_combo[1]}, promediando ${symbol_strategy.iloc[0]:.2f} de profit.\\n\")\n",
        "        f.write(f\"6. La estrategia con mejor Sharpe Ratio promedio fue {best_sharpe_strategy} con {sharpe_performance.iloc[0]:.2f}.\\n\")\n",
        "        \n",
        "        f.write(\"\\n=== RECOMENDACIONES ===\\n\\n\")\n",
        "        f.write(f\"Basado en el análisis, la mejor configuración general es:\\n\\n\")\n",
        "        f.write(f\"Símbolo: {best_overall['Symbol']}\\n\")\n",
        "        f.write(f\"Timeframe: {best_overall['Timeframe']}\\n\")\n",
        "        f.write(f\"Estrategia: {best_overall['Strategy']}\\n\")\n",
        "        f.write(f\"Parámetros: {best_overall['Params']}\\n\")\n",
        "        f.write(f\"Modo: {best_overall['Mode']}\\n\")\n",
        "        f.write(f\"\\nEsta configuración produjo:\\n\")\n",
        "        f.write(f\"Net Profit: ${best_overall['Net Profit']:.2f}\\n\")\n",
        "        f.write(f\"Sharpe Ratio: {best_overall['Sharpe Ratio']:.2f}\\n\")\n",
        "        f.write(f\"Max Drawdown: ${best_overall['Max Drawdown']:.2f}\\n\")\n",
        "        f.write(f\"Win Rate: {best_overall['Win Rate (%)']:.2f}%\\n\")"
      ]
    },
    {
      "cell_type": "code",
      "execution_count": 71,
      "id": "1606db8e",
      "metadata": {
        "language": "python"
      },
      "outputs": [
        {
          "name": "stdout",
          "output_type": "stream",
          "text": [
            "=== CONCLUSIONES DEL ANÁLISIS DE BACKTESTING ===\n",
            "\n",
            "1. El símbolo con mejor rendimiento promedio fue BTCUSDT con $15474.93 de profit promedio.\n",
            "2. El timeframe más rentable fue 1d con $3518.39 de profit promedio.\n",
            "3. La estrategia con mejor rendimiento promedio fue Bollinger_Breakout con $18528.69 de profit promedio.\n",
            "4. El modo de trading más rentable fue spot con $-12.77 de profit promedio.\n",
            "5. La mejor combinación símbolo-estrategia fue BTCUSDT con MACD_Momentum, promediando $44312.36 de profit.\n",
            "6. La estrategia con mejor Sharpe Ratio promedio fue MACD_Momentum con 0.70.\n",
            "\n",
            "=== RECOMENDACIONES ===\n",
            "\n",
            "Basado en el análisis, la mejor configuración general es:\n",
            "\n",
            "Símbolo: SOLUSDT\n",
            "Timeframe: 1h\n",
            "Estrategia: MACD_Momentum\n",
            "Parámetros: {'fast': 8, 'slow': 21, 'signal': 9}\n",
            "Modo: futures_3x\n",
            "\n",
            "Esta configuración produjo:\n",
            "Net Profit: $100000.00\n",
            "Sharpe Ratio: 5.17\n",
            "Max Drawdown: $6629.98\n",
            "Win Rate: 100.00%\n"
          ]
        }
      ],
      "source": [
        "# Generar conclusiones\n",
        "if not all_results.empty:\n",
        "    generate_conclusions()"
      ]
    }
  ],
  "metadata": {
    "kernelspec": {
      "display_name": "EMED",
      "language": "python",
      "name": "python3"
    },
    "language_info": {
      "codemirror_mode": {
        "name": "ipython",
        "version": 3
      },
      "file_extension": ".py",
      "mimetype": "text/x-python",
      "name": "python",
      "nbconvert_exporter": "python",
      "pygments_lexer": "ipython3",
      "version": "3.13.3"
    }
  },
  "nbformat": 4,
  "nbformat_minor": 5
}
